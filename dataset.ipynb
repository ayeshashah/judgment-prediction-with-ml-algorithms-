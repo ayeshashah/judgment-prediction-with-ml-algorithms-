{
 "cells": [
  {
   "cell_type": "code",
   "execution_count": 2,
   "id": "e96878b6-965f-4aca-ba89-0bafe0b1dbc6",
   "metadata": {},
   "outputs": [
    {
     "name": "stderr",
     "output_type": "stream",
     "text": [
      "[nltk_data] Downloading package wordnet to\n",
      "[nltk_data]     C:\\Users\\fc\\AppData\\Roaming\\nltk_data...\n",
      "[nltk_data]   Package wordnet is already up-to-date!\n",
      "[nltk_data] Downloading package punkt to\n",
      "[nltk_data]     C:\\Users\\fc\\AppData\\Roaming\\nltk_data...\n",
      "[nltk_data]   Package punkt is already up-to-date!\n",
      "[nltk_data] Downloading package stopwords to\n",
      "[nltk_data]     C:\\Users\\fc\\AppData\\Roaming\\nltk_data...\n",
      "[nltk_data]   Package stopwords is already up-to-date!\n"
     ]
    },
    {
     "data": {
      "text/plain": [
       "True"
      ]
     },
     "execution_count": 2,
     "metadata": {},
     "output_type": "execute_result"
    }
   ],
   "source": [
    "#!/usr/bin/env python\n",
    "#coding: utf-8\n",
    "# In[18]:\n",
    "import numpy as np \n",
    "from nltk.corpus import stopwords\n",
    "from nltk.stem import WordNetLemmatizer\n",
    "from nltk.tokenize import sent_tokenize,word_tokenize\n",
    "from bs4 import BeautifulSoup\n",
    "import requests\n",
    "import re\n",
    "import pandas as pd\n",
    "import os\n",
    "import docx\n",
    "from nltk import sent_tokenize, word_tokenize\n",
    "import pickle as pk\n",
    "from nltk.corpus import stopwords\n",
    "import openpyxl \n",
    "import random\n",
    "# In[19]:\n",
    "import spacy\n",
    "import glob\n",
    "import warnings\n",
    "warnings.simplefilter(\"ignore\")\n",
    "# In[3]:\n",
    "import nltk\n",
    "nltk.download('wordnet')\n",
    "nltk.download('punkt')\n",
    "nltk.download('stopwords')"
   ]
  },
  {
   "cell_type": "code",
   "execution_count": 5,
   "id": "2c544a01-8c82-48e5-b485-cbd04c13b4a2",
   "metadata": {},
   "outputs": [
    {
     "name": "stdout",
     "output_type": "stream",
     "text": [
      "['C.A_supreme (1).txt', 'C.A_supreme (10).txt', 'C.A_supreme (100).txt', 'C.A_supreme (1000).txt', 'C.A_supreme (1001).txt', 'C.A_supreme (1002).txt', 'C.A_supreme (1003).txt', 'C.A_supreme (1004).txt', 'C.A_supreme (1005).txt', 'C.A_supreme (1006).txt', 'C.A_supreme (1007).txt', 'C.A_supreme (1008).txt', 'C.A_supreme (1009).txt', 'C.A_supreme (101).txt', 'C.A_supreme (1010).txt', 'C.A_supreme (1011).txt', 'C.A_supreme (1012).txt', 'C.A_supreme (1013).txt', 'C.A_supreme (1014).txt', 'C.A_supreme (1015).txt', 'C.A_supreme (1016).txt', 'C.A_supreme (1017).txt', 'C.A_supreme (1018).txt', 'C.A_supreme (1019).txt', 'C.A_supreme (102).txt', 'C.A_supreme (1020).txt', 'C.A_supreme (1021).txt', 'C.A_supreme (1022).txt', 'C.A_supreme (1023).txt', 'C.A_supreme (1024).txt', 'C.A_supreme (1025).txt', 'C.A_supreme (1026).txt', 'C.A_supreme (1027).txt', 'C.A_supreme (1028).txt', 'C.A_supreme (1029).txt', 'C.A_supreme (103).txt', 'C.A_supreme (1030).txt', 'C.A_supreme (1031).txt', 'C.A_supreme (1032).txt', 'C.A_supreme (1033).txt', 'C.A_supreme (1034).txt', 'C.A_supreme (1035).txt', 'C.A_supreme (1036).txt', 'C.A_supreme (1037).txt', 'C.A_supreme (1038).txt', 'C.A_supreme (1039).txt', 'C.A_supreme (104).txt', 'C.A_supreme (1040).txt', 'C.A_supreme (1041).txt', 'C.A_supreme (1042).txt', 'C.A_supreme (1043).txt', 'C.A_supreme (1044).txt', 'C.A_supreme (1045).txt', 'C.A_supreme (1046).txt', 'C.A_supreme (1047).txt', 'C.A_supreme (1048).txt', 'C.A_supreme (1049).txt', 'C.A_supreme (105).txt', 'C.A_supreme (1050).txt', 'C.A_supreme (1051).txt', 'C.A_supreme (1052).txt', 'C.A_supreme (1053).txt', 'C.A_supreme (1054).txt', 'C.A_supreme (1055).txt', 'C.A_supreme (1056).txt', 'C.A_supreme (1057).txt', 'C.A_supreme (1058).txt', 'C.A_supreme (1059).txt', 'C.A_supreme (106).txt', 'C.A_supreme (1060).txt', 'C.A_supreme (1061).txt', 'C.A_supreme (1062).txt', 'C.A_supreme (1063).txt', 'C.A_supreme (1064).txt', 'C.A_supreme (1065).txt', 'C.A_supreme (1066).txt', 'C.A_supreme (1067).txt', 'C.A_supreme (1068).txt', 'C.A_supreme (1069).txt', 'C.A_supreme (107).txt', 'C.A_supreme (1070).txt', 'C.A_supreme (1071).txt', 'C.A_supreme (1072).txt', 'C.A_supreme (1073).txt', 'C.A_supreme (1074).txt', 'C.A_supreme (1075).txt', 'C.A_supreme (1076).txt', 'C.A_supreme (1077).txt', 'C.A_supreme (1078).txt', 'C.A_supreme (1079).txt', 'C.A_supreme (108).txt', 'C.A_supreme (1080).txt', 'C.A_supreme (1081).txt', 'C.A_supreme (1082).txt', 'C.A_supreme (1083).txt', 'C.A_supreme (1084).txt', 'C.A_supreme (1085).txt', 'C.A_supreme (1086).txt', 'C.A_supreme (1087).txt', 'C.A_supreme (1088).txt', 'C.A_supreme (1089).txt', 'C.A_supreme (109).txt', 'C.A_supreme (1090).txt', 'C.A_supreme (1091).txt', 'C.A_supreme (1092).txt', 'C.A_supreme (1093).txt', 'C.A_supreme (1094).txt', 'C.A_supreme (1095).txt', 'C.A_supreme (1096).txt', 'C.A_supreme (1097).txt', 'C.A_supreme (1098).txt', 'C.A_supreme (1099).txt', 'C.A_supreme (11).txt', 'C.A_supreme (110).txt', 'C.A_supreme (1100).txt', 'C.A_supreme (1101).txt', 'C.A_supreme (1102).txt', 'C.A_supreme (1103).txt', 'C.A_supreme (1104).txt', 'C.A_supreme (1105).txt', 'C.A_supreme (1106).txt', 'C.A_supreme (1107).txt', 'C.A_supreme (1108).txt', 'C.A_supreme (1109).txt', 'C.A_supreme (111).txt', 'C.A_supreme (1110).txt', 'C.A_supreme (1111).txt', 'C.A_supreme (1112).txt', 'C.A_supreme (1113).txt', 'C.A_supreme (1114).txt', 'C.A_supreme (1115).txt', 'C.A_supreme (1116).txt', 'C.A_supreme (1117).txt', 'C.A_supreme (1118).txt', 'C.A_supreme (1119).txt', 'C.A_supreme (112).txt', 'C.A_supreme (1120).txt', 'C.A_supreme (1121).txt', 'C.A_supreme (1122).txt', 'C.A_supreme (1123).txt', 'C.A_supreme (1124).txt', 'C.A_supreme (1125).txt', 'C.A_supreme (1126).txt', 'C.A_supreme (1127).txt', 'C.A_supreme (1128).txt', 'C.A_supreme (1129).txt', 'C.A_supreme (113).txt', 'C.A_supreme (1130).txt', 'C.A_supreme (1131).txt', 'C.A_supreme (1132).txt', 'C.A_supreme (1133).txt', 'C.A_supreme (1134).txt', 'C.A_supreme (1135).txt', 'C.A_supreme (1136).txt', 'C.A_supreme (1137).txt', 'C.A_supreme (1138).txt', 'C.A_supreme (1139).txt', 'C.A_supreme (114).txt', 'C.A_supreme (1140).txt', 'C.A_supreme (1141).txt', 'C.A_supreme (1142).txt', 'C.A_supreme (1143).txt', 'C.A_supreme (1144).txt', 'C.A_supreme (1145).txt', 'C.A_supreme (1146).txt', 'C.A_supreme (1147).txt', 'C.A_supreme (1148).txt', 'C.A_supreme (1149).txt', 'C.A_supreme (115).txt', 'C.A_supreme (1150).txt', 'C.A_supreme (1151).txt', 'C.A_supreme (1152).txt', 'C.A_supreme (1153).txt', 'C.A_supreme (1154).txt', 'C.A_supreme (1155).txt', 'C.A_supreme (1156).txt', 'C.A_supreme (1157).txt', 'C.A_supreme (1158).txt', 'C.A_supreme (1159).txt', 'C.A_supreme (116).txt', 'C.A_supreme (1160).txt', 'C.A_supreme (1161).txt', 'C.A_supreme (1162).txt', 'C.A_supreme (1163).txt', 'C.A_supreme (1164).txt', 'C.A_supreme (1165).txt', 'C.A_supreme (1166).txt', 'C.A_supreme (1167).txt', 'C.A_supreme (1168).txt', 'C.A_supreme (1169).txt', 'C.A_supreme (117).txt', 'C.A_supreme (1170).txt', 'C.A_supreme (1171).txt', 'C.A_supreme (1172).txt', 'C.A_supreme (1173).txt', 'C.A_supreme (1174).txt', 'C.A_supreme (1175).txt', 'C.A_supreme (1176).txt', 'C.A_supreme (1177).txt', 'C.A_supreme (1178).txt', 'C.A_supreme (1179).txt', 'C.A_supreme (118).txt', 'C.A_supreme (1180).txt', 'C.A_supreme (1181).txt', 'C.A_supreme (1182).txt', 'C.A_supreme (1183).txt', 'C.A_supreme (1184).txt', 'C.A_supreme (1185).txt', 'C.A_supreme (1186).txt', 'C.A_supreme (1187).txt', 'C.A_supreme (1188).txt', 'C.A_supreme (1189).txt', 'C.A_supreme (119).txt', 'C.A_supreme (1190).txt', 'C.A_supreme (1191).txt', 'C.A_supreme (1192).txt', 'C.A_supreme (1193).txt', 'C.A_supreme (1194).txt', 'C.A_supreme (1195).txt', 'C.A_supreme (1196).txt', 'C.A_supreme (1197).txt', 'C.A_supreme (1198).txt', 'C.A_supreme (1199).txt', 'C.A_supreme (12).txt', 'C.A_supreme (120).txt', 'C.A_supreme (1200).txt', 'C.A_supreme (1201).txt', 'C.A_supreme (1202).txt', 'C.A_supreme (1203).txt', 'C.A_supreme (1204).txt', 'C.A_supreme (1205).txt', 'C.A_supreme (1206).txt', 'C.A_supreme (1207).txt', 'C.A_supreme (1208).txt', 'C.A_supreme (1209).txt', 'C.A_supreme (121).txt', 'C.A_supreme (1210).txt', 'C.A_supreme (1211).txt', 'C.A_supreme (1212).txt', 'C.A_supreme (1213).txt', 'C.A_supreme (1214).txt', 'C.A_supreme (1215).txt', 'C.A_supreme (1216).txt', 'C.A_supreme (1217).txt', 'C.A_supreme (1218).txt', 'C.A_supreme (1219).txt', 'C.A_supreme (122).txt', 'C.A_supreme (1220).txt', 'C.A_supreme (1221).txt', 'C.A_supreme (1222).txt', 'C.A_supreme (1223).txt', 'C.A_supreme (1224).txt', 'C.A_supreme (1225).txt', 'C.A_supreme (1226).txt', 'C.A_supreme (1227).txt', 'C.A_supreme (1228).txt', 'C.A_supreme (1229).txt', 'C.A_supreme (123).txt', 'C.A_supreme (1230).txt', 'C.A_supreme (1231).txt', 'C.A_supreme (1232).txt', 'C.A_supreme (1233).txt', 'C.A_supreme (1234).txt', 'C.A_supreme (1235).txt', 'C.A_supreme (1236).txt', 'C.A_supreme (1237).txt', 'C.A_supreme (1238).txt', 'C.A_supreme (1239).txt', 'C.A_supreme (124).txt', 'C.A_supreme (1240).txt', 'C.A_supreme (1241).txt', 'C.A_supreme (1242).txt', 'C.A_supreme (1243).txt', 'C.A_supreme (1244).txt', 'C.A_supreme (1245).txt', 'C.A_supreme (1246).txt', 'C.A_supreme (1247).txt', 'C.A_supreme (1248).txt', 'C.A_supreme (1249).txt', 'C.A_supreme (125).txt', 'C.A_supreme (1250).txt', 'C.A_supreme (1251).txt', 'C.A_supreme (1252).txt', 'C.A_supreme (1253).txt', 'C.A_supreme (1254).txt', 'C.A_supreme (1255).txt', 'C.A_supreme (1256).txt', 'C.A_supreme (1257).txt', 'C.A_supreme (1258).txt', 'C.A_supreme (1259).txt', 'C.A_supreme (126).txt', 'C.A_supreme (1260).txt', 'C.A_supreme (1261).txt', 'C.A_supreme (1262).txt', 'C.A_supreme (1263).txt', 'C.A_supreme (1264).txt', 'C.A_supreme (1265).txt', 'C.A_supreme (1266).txt', 'C.A_supreme (1267).txt', 'C.A_supreme (1268).txt', 'C.A_supreme (1269).txt', 'C.A_supreme (127).txt', 'C.A_supreme (1270).txt', 'C.A_supreme (1271).txt', 'C.A_supreme (1272).txt', 'C.A_supreme (1273).txt', 'C.A_supreme (1274).txt', 'C.A_supreme (1275).txt', 'C.A_supreme (1276).txt', 'C.A_supreme (1277).txt', 'C.A_supreme (1278).txt', 'C.A_supreme (1279).txt', 'C.A_supreme (128).txt', 'C.A_supreme (1280).txt', 'C.A_supreme (1281).txt', 'C.A_supreme (1282).txt', 'C.A_supreme (1283).txt', 'C.A_supreme (1284).txt', 'C.A_supreme (1285).txt', 'C.A_supreme (1286).txt', 'C.A_supreme (1287).txt', 'C.A_supreme (1288).txt', 'C.A_supreme (1289).txt', 'C.A_supreme (129).txt', 'C.A_supreme (1290).txt', 'C.A_supreme (1291).txt', 'C.A_supreme (1292).txt', 'C.A_supreme (1293).txt', 'C.A_supreme (1294).txt', 'C.A_supreme (1295).txt', 'C.A_supreme (1296).txt', 'C.A_supreme (1297).txt', 'C.A_supreme (1298).txt', 'C.A_supreme (1299).txt', 'C.A_supreme (13).txt', 'C.A_supreme (130).txt', 'C.A_supreme (1300).txt', 'C.A_supreme (1301).txt', 'C.A_supreme (1302).txt', 'C.A_supreme (1303).txt', 'C.A_supreme (1304).txt', 'C.A_supreme (1305).txt', 'C.A_supreme (1306).txt', 'C.A_supreme (1307).txt', 'C.A_supreme (1308).txt', 'C.A_supreme (1309).txt', 'C.A_supreme (131).txt', 'C.A_supreme (1310).txt', 'C.A_supreme (1311).txt', 'C.A_supreme (1312).txt', 'C.A_supreme (1313).txt', 'C.A_supreme (1314).txt', 'C.A_supreme (1315).txt', 'C.A_supreme (1316).txt', 'C.A_supreme (1317).txt', 'C.A_supreme (1318).txt', 'C.A_supreme (1319).txt', 'C.A_supreme (132).txt', 'C.A_supreme (1320).txt', 'C.A_supreme (1321).txt', 'C.A_supreme (1322).txt', 'C.A_supreme (1323).txt', 'C.A_supreme (1324).txt', 'C.A_supreme (1325).txt', 'C.A_supreme (1326).txt', 'C.A_supreme (1327).txt', 'C.A_supreme (1328).txt', 'C.A_supreme (1329).txt', 'C.A_supreme (133).txt', 'C.A_supreme (1330).txt', 'C.A_supreme (1331).txt', 'C.A_supreme (1332).txt', 'C.A_supreme (1333).txt', 'C.A_supreme (1334).txt', 'C.A_supreme (1335).txt', 'C.A_supreme (1336).txt', 'C.A_supreme (1337).txt', 'C.A_supreme (1338).txt', 'C.A_supreme (1339).txt', 'C.A_supreme (134).txt', 'C.A_supreme (1340).txt', 'C.A_supreme (1341).txt', 'C.A_supreme (1342).txt', 'C.A_supreme (1343).txt', 'C.A_supreme (1344).txt', 'C.A_supreme (1345).txt', 'C.A_supreme (1346).txt', 'C.A_supreme (1347).txt', 'C.A_supreme (1348).txt', 'C.A_supreme (1349).txt', 'C.A_supreme (135).txt', 'C.A_supreme (1350).txt', 'C.A_supreme (1351).txt', 'C.A_supreme (1352).txt', 'C.A_supreme (1353).txt', 'C.A_supreme (1354).txt', 'C.A_supreme (1355).txt', 'C.A_supreme (1356).txt', 'C.A_supreme (1357).txt', 'C.A_supreme (1358).txt', 'C.A_supreme (1359).txt', 'C.A_supreme (136).txt', 'C.A_supreme (1360).txt', 'C.A_supreme (1361).txt', 'C.A_supreme (1362).txt', 'C.A_supreme (1363).txt', 'C.A_supreme (1364).txt', 'C.A_supreme (1365).txt', 'C.A_supreme (1366).txt', 'C.A_supreme (1367).txt', 'C.A_supreme (1368).txt', 'C.A_supreme (1369).txt', 'C.A_supreme (137).txt', 'C.A_supreme (1370).txt', 'C.A_supreme (1371).txt', 'C.A_supreme (1372).txt', 'C.A_supreme (1373).txt', 'C.A_supreme (1374).txt', 'C.A_supreme (1375).txt', 'C.A_supreme (1376).txt', 'C.A_supreme (1377).txt', 'C.A_supreme (1378).txt', 'C.A_supreme (1379).txt', 'C.A_supreme (138).txt', 'C.A_supreme (1380).txt', 'C.A_supreme (1381).txt', 'C.A_supreme (1382).txt', 'C.A_supreme (1383).txt', 'C.A_supreme (1384).txt', 'C.A_supreme (1385).txt', 'C.A_supreme (1386).txt', 'C.A_supreme (1387).txt', 'C.A_supreme (1388).txt', 'C.A_supreme (1389).txt', 'C.A_supreme (139).txt', 'C.A_supreme (1390).txt', 'C.A_supreme (1391).txt', 'C.A_supreme (1392).txt', 'C.A_supreme (1393).txt', 'C.A_supreme (1394).txt', 'C.A_supreme (1395).txt', 'C.A_supreme (1396).txt', 'C.A_supreme (1397).txt', 'C.A_supreme (1398).txt', 'C.A_supreme (1399).txt', 'C.A_supreme (14).txt', 'C.A_supreme (140).txt', 'C.A_supreme (1400).txt', 'C.A_supreme (1401).txt', 'C.A_supreme (1402).txt', 'C.A_supreme (1403).txt', 'C.A_supreme (1404).txt', 'C.A_supreme (1405).txt', 'C.A_supreme (1406).txt', 'C.A_supreme (1407).txt', 'C.A_supreme (1408).txt', 'C.A_supreme (1409).txt', 'C.A_supreme (141).txt', 'C.A_supreme (1410).txt', 'C.A_supreme (1411).txt', 'C.A_supreme (1412).txt', 'C.A_supreme (1413).txt', 'C.A_supreme (1414).txt', 'C.A_supreme (1415).txt', 'C.A_supreme (1416).txt', 'C.A_supreme (1417).txt', 'C.A_supreme (1418).txt', 'C.A_supreme (1419).txt', 'C.A_supreme (142).txt', 'C.A_supreme (1420).txt', 'C.A_supreme (1421).txt', 'C.A_supreme (1422).txt', 'C.A_supreme (1423).txt', 'C.A_supreme (1424).txt', 'C.A_supreme (1425).txt', 'C.A_supreme (1426).txt', 'C.A_supreme (1427).txt', 'C.A_supreme (1428).txt', 'C.A_supreme (1429).txt', 'C.A_supreme (143).txt', 'C.A_supreme (1430).txt', 'C.A_supreme (1431).txt', 'C.A_supreme (1432).txt', 'C.A_supreme (1433).txt', 'C.A_supreme (1434).txt', 'C.A_supreme (1435).txt', 'C.A_supreme (1436).txt', 'C.A_supreme (1437).txt', 'C.A_supreme (1438).txt', 'C.A_supreme (1439).txt', 'C.A_supreme (144).txt', 'C.A_supreme (1440).txt', 'C.A_supreme (1441).txt', 'C.A_supreme (1442).txt', 'C.A_supreme (1443).txt', 'C.A_supreme (1444).txt', 'C.A_supreme (1445).txt', 'C.A_supreme (1446).txt', 'C.A_supreme (1447).txt', 'C.A_supreme (1448).txt', 'C.A_supreme (1449).txt', 'C.A_supreme (145).txt', 'C.A_supreme (1450).txt', 'C.A_supreme (1451).txt', 'C.A_supreme (1452).txt', 'C.A_supreme (1453).txt', 'C.A_supreme (1454).txt', 'C.A_supreme (1455).txt', 'C.A_supreme (1456).txt', 'C.A_supreme (1457).txt', 'C.A_supreme (1458).txt', 'C.A_supreme (1459).txt', 'C.A_supreme (146).txt', 'C.A_supreme (1460).txt', 'C.A_supreme (1461).txt', 'C.A_supreme (1462).txt', 'C.A_supreme (1463).txt', 'C.A_supreme (1464).txt', 'C.A_supreme (1465).txt', 'C.A_supreme (1466).txt', 'C.A_supreme (1467).txt', 'C.A_supreme (1468).txt', 'C.A_supreme (1469).txt', 'C.A_supreme (147).txt', 'C.A_supreme (1470).txt', 'C.A_supreme (1471).txt', 'C.A_supreme (1472).txt', 'C.A_supreme (1473).txt', 'C.A_supreme (1474).txt', 'C.A_supreme (1475).txt', 'C.A_supreme (1476).txt', 'C.A_supreme (1477).txt', 'C.A_supreme (1478).txt', 'C.A_supreme (1479).txt', 'C.A_supreme (148).txt', 'C.A_supreme (1480).txt', 'C.A_supreme (1481).txt', 'C.A_supreme (1482).txt', 'C.A_supreme (1483).txt', 'C.A_supreme (1484).txt', 'C.A_supreme (1485).txt', 'C.A_supreme (1486).txt', 'C.A_supreme (1487).txt', 'C.A_supreme (1488).txt', 'C.A_supreme (1489).txt', 'C.A_supreme (149).txt', 'C.A_supreme (1490).txt', 'C.A_supreme (1491).txt', 'C.A_supreme (1492).txt', 'C.A_supreme (1493).txt', 'C.A_supreme (1494).txt', 'C.A_supreme (1495).txt', 'C.A_supreme (1496).txt', 'C.A_supreme (1497).txt', 'C.A_supreme (1498).txt', 'C.A_supreme (1499).txt', 'C.A_supreme (15).txt', 'C.A_supreme (150).txt', 'C.A_supreme (1500).txt', 'C.A_supreme (1501).txt', 'C.A_supreme (1502).txt', 'C.A_supreme (1503).txt', 'C.A_supreme (1504).txt', 'C.A_supreme (1505).txt', 'C.A_supreme (1506).txt', 'C.A_supreme (1507).txt', 'C.A_supreme (1508).txt', 'C.A_supreme (1509).txt', 'C.A_supreme (151).txt', 'C.A_supreme (1510).txt', 'C.A_supreme (1511).txt', 'C.A_supreme (1512).txt', 'C.A_supreme (1513).txt', 'C.A_supreme (1514).txt', 'C.A_supreme (1515).txt', 'C.A_supreme (1516).txt', 'C.A_supreme (1517).txt', 'C.A_supreme (1518).txt', 'C.A_supreme (1519).txt', 'C.A_supreme (152).txt', 'C.A_supreme (1520).txt', 'C.A_supreme (1521).txt', 'C.A_supreme (1522).txt', 'C.A_supreme (1523).txt', 'C.A_supreme (1524).txt', 'C.A_supreme (1525).txt', 'C.A_supreme (1526).txt', 'C.A_supreme (1527).txt', 'C.A_supreme (1528).txt', 'C.A_supreme (1529).txt', 'C.A_supreme (153).txt', 'C.A_supreme (1530).txt', 'C.A_supreme (1531).txt', 'C.A_supreme (1532).txt', 'C.A_supreme (1533).txt', 'C.A_supreme (1534).txt', 'C.A_supreme (1535).txt', 'C.A_supreme (1536).txt', 'C.A_supreme (1537).txt', 'C.A_supreme (1538).txt', 'C.A_supreme (1539).txt', 'C.A_supreme (154).txt', 'C.A_supreme (1540).txt', 'C.A_supreme (1541).txt', 'C.A_supreme (1542).txt', 'C.A_supreme (1543).txt', 'C.A_supreme (1544).txt', 'C.A_supreme (1545).txt', 'C.A_supreme (1546).txt', 'C.A_supreme (1547).txt', 'C.A_supreme (1548).txt', 'C.A_supreme (1549).txt', 'C.A_supreme (155).txt', 'C.A_supreme (1550).txt', 'C.A_supreme (1551).txt', 'C.A_supreme (1552).txt', 'C.A_supreme (1553).txt', 'C.A_supreme (1554).txt', 'C.A_supreme (1555).txt', 'C.A_supreme (1556).txt', 'C.A_supreme (1557).txt', 'C.A_supreme (1558).txt', 'C.A_supreme (1559).txt', 'C.A_supreme (156).txt', 'C.A_supreme (1560).txt', 'C.A_supreme (1561).txt', 'C.A_supreme (1562).txt', 'C.A_supreme (1563).txt', 'C.A_supreme (1564).txt', 'C.A_supreme (1565).txt', 'C.A_supreme (1566).txt', 'C.A_supreme (1567).txt', 'C.A_supreme (1568).txt', 'C.A_supreme (1569).txt', 'C.A_supreme (157).txt', 'C.A_supreme (1570).txt', 'C.A_supreme (1571).txt', 'C.A_supreme (1572).txt', 'C.A_supreme (1573).txt', 'C.A_supreme (1574).txt', 'C.A_supreme (1575).txt', 'C.A_supreme (1576).txt', 'C.A_supreme (1577).txt', 'C.A_supreme (1578).txt', 'C.A_supreme (1579).txt', 'C.A_supreme (158).txt', 'C.A_supreme (1580).txt', 'C.A_supreme (1581).txt', 'C.A_supreme (1582).txt', 'C.A_supreme (1583).txt', 'C.A_supreme (1584).txt', 'C.A_supreme (1585).txt', 'C.A_supreme (1586).txt', 'C.A_supreme (1587).txt', 'C.A_supreme (1588).txt', 'C.A_supreme (1589).txt', 'C.A_supreme (159).txt', 'C.A_supreme (1590).txt', 'C.A_supreme (1591).txt', 'C.A_supreme (1592).txt', 'C.A_supreme (1593).txt', 'C.A_supreme (1594).txt', 'C.A_supreme (1595).txt', 'C.A_supreme (1596).txt', 'C.A_supreme (1597).txt', 'C.A_supreme (1598).txt', 'C.A_supreme (1599).txt', 'C.A_supreme (16).txt', 'C.A_supreme (160).txt', 'C.A_supreme (1600).txt', 'C.A_supreme (1601).txt', 'C.A_supreme (1602).txt', 'C.A_supreme (1603).txt', 'C.A_supreme (1604).txt', 'C.A_supreme (1605).txt', 'C.A_supreme (1606).txt', 'C.A_supreme (1607).txt', 'C.A_supreme (1608).txt', 'C.A_supreme (1609).txt', 'C.A_supreme (161).txt', 'C.A_supreme (1610).txt', 'C.A_supreme (1611).txt', 'C.A_supreme (1612).txt', 'C.A_supreme (1613).txt', 'C.A_supreme (1614).txt', 'C.A_supreme (1615).txt', 'C.A_supreme (1616).txt', 'C.A_supreme (1617).txt', 'C.A_supreme (1618).txt', 'C.A_supreme (1619).txt', 'C.A_supreme (162).txt', 'C.A_supreme (1620).txt', 'C.A_supreme (1621).txt', 'C.A_supreme (1622).txt', 'C.A_supreme (1623).txt', 'C.A_supreme (1624).txt', 'C.A_supreme (1625).txt', 'C.A_supreme (1626).txt', 'C.A_supreme (1627).txt', 'C.A_supreme (1628).txt', 'C.A_supreme (1629).txt', 'C.A_supreme (163).txt', 'C.A_supreme (1630).txt', 'C.A_supreme (1631).txt', 'C.A_supreme (1632).txt', 'C.A_supreme (1633).txt', 'C.A_supreme (1634).txt', 'C.A_supreme (1635).txt', 'C.A_supreme (1636).txt', 'C.A_supreme (1637).txt', 'C.A_supreme (1638).txt', 'C.A_supreme (1639).txt', 'C.A_supreme (164).txt', 'C.A_supreme (1640).txt', 'C.A_supreme (1641).txt', 'C.A_supreme (1642).txt', 'C.A_supreme (1643).txt', 'C.A_supreme (1644).txt', 'C.A_supreme (1645).txt', 'C.A_supreme (1646).txt', 'C.A_supreme (1647).txt', 'C.A_supreme (1648).txt', 'C.A_supreme (1649).txt', 'C.A_supreme (165).txt', 'C.A_supreme (1650).txt', 'C.A_supreme (1651).txt', 'C.A_supreme (1652).txt', 'C.A_supreme (1653).txt', 'C.A_supreme (1654).txt', 'C.A_supreme (1655).txt', 'C.A_supreme (1656).txt', 'C.A_supreme (1657).txt', 'C.A_supreme (1658).txt', 'C.A_supreme (1659).txt', 'C.A_supreme (166).txt', 'C.A_supreme (1660).txt', 'C.A_supreme (1661).txt', 'C.A_supreme (1662).txt', 'C.A_supreme (1663).txt', 'C.A_supreme (1664).txt', 'C.A_supreme (1665).txt', 'C.A_supreme (1666).txt', 'C.A_supreme (1667).txt', 'C.A_supreme (1668).txt', 'C.A_supreme (1669).txt', 'C.A_supreme (167).txt', 'C.A_supreme (1670).txt', 'C.A_supreme (1671).txt', 'C.A_supreme (1672).txt', 'C.A_supreme (1673).txt', 'C.A_supreme (1674).txt', 'C.A_supreme (1675).txt', 'C.A_supreme (1676).txt', 'C.A_supreme (1677).txt', 'C.A_supreme (1678).txt', 'C.A_supreme (1679).txt', 'C.A_supreme (168).txt', 'C.A_supreme (1680).txt', 'C.A_supreme (1681).txt', 'C.A_supreme (1682).txt', 'C.A_supreme (1683).txt', 'C.A_supreme (1684).txt', 'C.A_supreme (1685).txt', 'C.A_supreme (1686).txt', 'C.A_supreme (1687).txt', 'C.A_supreme (1688).txt', 'C.A_supreme (1689).txt', 'C.A_supreme (169).txt', 'C.A_supreme (1690).txt', 'C.A_supreme (1691).txt', 'C.A_supreme (1692).txt', 'C.A_supreme (1693).txt', 'C.A_supreme (1694).txt', 'C.A_supreme (1695).txt', 'C.A_supreme (1696).txt', 'C.A_supreme (1697).txt', 'C.A_supreme (1698).txt', 'C.A_supreme (1699).txt', 'C.A_supreme (17).txt', 'C.A_supreme (170).txt', 'C.A_supreme (1700).txt', 'C.A_supreme (1701).txt', 'C.A_supreme (1702).txt', 'C.A_supreme (1703).txt', 'C.A_supreme (1704).txt', 'C.A_supreme (1705).txt', 'C.A_supreme (1706).txt', 'C.A_supreme (1707).txt', 'C.A_supreme (1708).txt', 'C.A_supreme (1709).txt', 'C.A_supreme (171).txt', 'C.A_supreme (1710).txt', 'C.A_supreme (1711).txt', 'C.A_supreme (1712).txt', 'C.A_supreme (1713).txt', 'C.A_supreme (1714).txt', 'C.A_supreme (1715).txt', 'C.A_supreme (1716).txt', 'C.A_supreme (1717).txt', 'C.A_supreme (1718).txt', 'C.A_supreme (1719).txt', 'C.A_supreme (172).txt', 'C.A_supreme (1720).txt', 'C.A_supreme (1721).txt', 'C.A_supreme (1722).txt', 'C.A_supreme (1723).txt', 'C.A_supreme (1724).txt', 'C.A_supreme (1725).txt', 'C.A_supreme (1726).txt', 'C.A_supreme (1727).txt', 'C.A_supreme (1728).txt', 'C.A_supreme (1729).txt', 'C.A_supreme (173).txt', 'C.A_supreme (1730).txt', 'C.A_supreme (1731).txt', 'C.A_supreme (1732).txt', 'C.A_supreme (1733).txt', 'C.A_supreme (1734).txt', 'C.A_supreme (1735).txt', 'C.A_supreme (1736).txt', 'C.A_supreme (1737).txt', 'C.A_supreme (1738).txt', 'C.A_supreme (1739).txt', 'C.A_supreme (174).txt', 'C.A_supreme (1740).txt', 'C.A_supreme (1741).txt', 'C.A_supreme (1742).txt', 'C.A_supreme (1743).txt', 'C.A_supreme (1744).txt', 'C.A_supreme (1745).txt', 'C.A_supreme (1746).txt', 'C.A_supreme (1747).txt', 'C.A_supreme (1748).txt', 'C.A_supreme (1749).txt', 'C.A_supreme (175).txt', 'C.A_supreme (1750).txt', 'C.A_supreme (1751).txt', 'C.A_supreme (1752).txt', 'C.A_supreme (1753).txt', 'C.A_supreme (1754).txt', 'C.A_supreme (1755).txt', 'C.A_supreme (1756).txt', 'C.A_supreme (1757).txt', 'C.A_supreme (1758).txt', 'C.A_supreme (1759).txt', 'C.A_supreme (176).txt', 'C.A_supreme (1760).txt', 'C.A_supreme (1761).txt', 'C.A_supreme (1762).txt', 'C.A_supreme (1763).txt', 'C.A_supreme (1764).txt', 'C.A_supreme (1765).txt', 'C.A_supreme (1766).txt', 'C.A_supreme (1767).txt', 'C.A_supreme (1768).txt', 'C.A_supreme (1769).txt', 'C.A_supreme (177).txt', 'C.A_supreme (1770).txt', 'C.A_supreme (1771).txt', 'C.A_supreme (1772).txt', 'C.A_supreme (1773).txt', 'C.A_supreme (1774).txt', 'C.A_supreme (1775).txt', 'C.A_supreme (1776).txt', 'C.A_supreme (1777).txt', 'C.A_supreme (1778).txt', 'C.A_supreme (1779).txt', 'C.A_supreme (178).txt', 'C.A_supreme (1780).txt', 'C.A_supreme (1781).txt', 'C.A_supreme (1782).txt', 'C.A_supreme (1783).txt', 'C.A_supreme (1784).txt', 'C.A_supreme (1785).txt', 'C.A_supreme (1786).txt', 'C.A_supreme (1787).txt', 'C.A_supreme (1788).txt', 'C.A_supreme (1789).txt', 'C.A_supreme (179).txt', 'C.A_supreme (1790).txt', 'C.A_supreme (1791).txt', 'C.A_supreme (1792).txt', 'C.A_supreme (1793).txt', 'C.A_supreme (1794).txt', 'C.A_supreme (1795).txt', 'C.A_supreme (1796).txt', 'C.A_supreme (1797).txt', 'C.A_supreme (1798).txt', 'C.A_supreme (1799).txt', 'C.A_supreme (18).txt', 'C.A_supreme (180).txt', 'C.A_supreme (1800).txt', 'C.A_supreme (1801).txt', 'C.A_supreme (1802).txt', 'C.A_supreme (1803).txt', 'C.A_supreme (1804).txt', 'C.A_supreme (1805).txt', 'C.A_supreme (1806).txt', 'C.A_supreme (1807).txt', 'C.A_supreme (1808).txt', 'C.A_supreme (1809).txt', 'C.A_supreme (181).txt', 'C.A_supreme (1810).txt', 'C.A_supreme (1811).txt', 'C.A_supreme (1812).txt', 'C.A_supreme (1813).txt', 'C.A_supreme (1814).txt', 'C.A_supreme (1815).txt', 'C.A_supreme (1816).txt', 'C.A_supreme (1817).txt', 'C.A_supreme (1818).txt', 'C.A_supreme (1819).txt', 'C.A_supreme (182).txt', 'C.A_supreme (1820).txt', 'C.A_supreme (1821).txt', 'C.A_supreme (1822).txt', 'C.A_supreme (1823).txt', 'C.A_supreme (1824).txt', 'C.A_supreme (1825).txt', 'C.A_supreme (1826).txt', 'C.A_supreme (1827).txt', 'C.A_supreme (1828).txt', 'C.A_supreme (1829).txt', 'C.A_supreme (183).txt', 'C.A_supreme (1830).txt', 'C.A_supreme (1831).txt', 'C.A_supreme (1832).txt', 'C.A_supreme (1833).txt', 'C.A_supreme (1834).txt', 'C.A_supreme (1835).txt', 'C.A_supreme (1836).txt', 'C.A_supreme (1837).txt', 'C.A_supreme (1838).txt', 'C.A_supreme (1839).txt', 'C.A_supreme (184).txt', 'C.A_supreme (1840).txt', 'C.A_supreme (1841).txt', 'C.A_supreme (1842).txt', 'C.A_supreme (1843).txt', 'C.A_supreme (1844).txt', 'C.A_supreme (1845).txt', 'C.A_supreme (1846).txt', 'C.A_supreme (1847).txt', 'C.A_supreme (1848).txt', 'C.A_supreme (1849).txt', 'C.A_supreme (185).txt', 'C.A_supreme (1850).txt', 'C.A_supreme (1851).txt', 'C.A_supreme (1852).txt', 'C.A_supreme (1853).txt', 'C.A_supreme (1854).txt', 'C.A_supreme (1855).txt', 'C.A_supreme (1856).txt', 'C.A_supreme (1857).txt', 'C.A_supreme (1858).txt', 'C.A_supreme (1859).txt', 'C.A_supreme (186).txt', 'C.A_supreme (1860).txt', 'C.A_supreme (1861).txt', 'C.A_supreme (1862).txt', 'C.A_supreme (1863).txt', 'C.A_supreme (1864).txt', 'C.A_supreme (1865).txt', 'C.A_supreme (1866).txt', 'C.A_supreme (1867).txt', 'C.A_supreme (1868).txt', 'C.A_supreme (1869).txt', 'C.A_supreme (187).txt', 'C.A_supreme (1870).txt', 'C.A_supreme (1871).txt', 'C.A_supreme (1872).txt', 'C.A_supreme (1873).txt', 'C.A_supreme (1874).txt', 'C.A_supreme (1875).txt', 'C.A_supreme (1876).txt', 'C.A_supreme (1877).txt', 'C.A_supreme (1878).txt', 'C.A_supreme (1879).txt', 'C.A_supreme (188).txt', 'C.A_supreme (1880).txt', 'C.A_supreme (1881).txt', 'C.A_supreme (1882).txt', 'C.A_supreme (1883).txt', 'C.A_supreme (1884).txt', 'C.A_supreme (1885).txt', 'C.A_supreme (1886).txt', 'C.A_supreme (1887).txt', 'C.A_supreme (1888).txt', 'C.A_supreme (1889).txt', 'C.A_supreme (189).txt', 'C.A_supreme (1890).txt', 'C.A_supreme (1891).txt', 'C.A_supreme (1892).txt', 'C.A_supreme (1893).txt', 'C.A_supreme (1894).txt', 'C.A_supreme (1895).txt', 'C.A_supreme (1896).txt', 'C.A_supreme (1897).txt', 'C.A_supreme (1898).txt', 'C.A_supreme (1899).txt', 'C.A_supreme (19).txt', 'C.A_supreme (190).txt', 'C.A_supreme (1900).txt', 'C.A_supreme (1901).txt', 'C.A_supreme (1902).txt', 'C.A_supreme (1903).txt', 'C.A_supreme (1904).txt', 'C.A_supreme (1905).txt', 'C.A_supreme (1906).txt', 'C.A_supreme (1907).txt', 'C.A_supreme (1908).txt', 'C.A_supreme (1909).txt', 'C.A_supreme (191).txt', 'C.A_supreme (1910).txt', 'C.A_supreme (1911).txt', 'C.A_supreme (1912).txt', 'C.A_supreme (1913).txt', 'C.A_supreme (1914).txt', 'C.A_supreme (1915).txt', 'C.A_supreme (1916).txt', 'C.A_supreme (1917).txt', 'C.A_supreme (1918).txt', 'C.A_supreme (1919).txt', 'C.A_supreme (192).txt', 'C.A_supreme (1920).txt', 'C.A_supreme (1921).txt', 'C.A_supreme (1922).txt', 'C.A_supreme (1923).txt', 'C.A_supreme (1924).txt', 'C.A_supreme (1925).txt', 'C.A_supreme (1926).txt', 'C.A_supreme (1927).txt', 'C.A_supreme (1928).txt', 'C.A_supreme (1929).txt', 'C.A_supreme (193).txt', 'C.A_supreme (1930).txt', 'C.A_supreme (1931).txt', 'C.A_supreme (1932).txt', 'C.A_supreme (1933).txt', 'C.A_supreme (1934).txt', 'C.A_supreme (1935).txt', 'C.A_supreme (1936).txt', 'C.A_supreme (1937).txt', 'C.A_supreme (1938).txt', 'C.A_supreme (1939).txt', 'C.A_supreme (194).txt', 'C.A_supreme (1940).txt', 'C.A_supreme (1941).txt', 'C.A_supreme (1942).txt', 'C.A_supreme (1943).txt', 'C.A_supreme (1944).txt', 'C.A_supreme (1945).txt', 'C.A_supreme (1946).txt', 'C.A_supreme (1947).txt', 'C.A_supreme (1948).txt', 'C.A_supreme (1949).txt', 'C.A_supreme (195).txt', 'C.A_supreme (1950).txt', 'C.A_supreme (1951).txt', 'C.A_supreme (1952).txt', 'C.A_supreme (1953).txt', 'C.A_supreme (1954).txt', 'C.A_supreme (1955).txt', 'C.A_supreme (1956).txt', 'C.A_supreme (1957).txt', 'C.A_supreme (1958).txt', 'C.A_supreme (1959).txt', 'C.A_supreme (196).txt', 'C.A_supreme (1960).txt', 'C.A_supreme (1961).txt', 'C.A_supreme (1962).txt', 'C.A_supreme (1963).txt', 'C.A_supreme (1964).txt', 'C.A_supreme (1965).txt', 'C.A_supreme (1966).txt', 'C.A_supreme (1967).txt', 'C.A_supreme (1968).txt', 'C.A_supreme (1969).txt', 'C.A_supreme (197).txt', 'C.A_supreme (1970).txt', 'C.A_supreme (1971).txt', 'C.A_supreme (1972).txt', 'C.A_supreme (1973).txt', 'C.A_supreme (1974).txt', 'C.A_supreme (1975).txt', 'C.A_supreme (1976).txt', 'C.A_supreme (1977).txt', 'C.A_supreme (1978).txt', 'C.A_supreme (1979).txt', 'C.A_supreme (198).txt', 'C.A_supreme (1980).txt', 'C.A_supreme (1981).txt', 'C.A_supreme (1982).txt', 'C.A_supreme (1983).txt', 'C.A_supreme (1984).txt', 'C.A_supreme (1985).txt', 'C.A_supreme (1986).txt', 'C.A_supreme (1987).txt', 'C.A_supreme (1988).txt', 'C.A_supreme (1989).txt', 'C.A_supreme (199).txt', 'C.A_supreme (1990).txt', 'C.A_supreme (1991).txt', 'C.A_supreme (1992).txt', 'C.A_supreme (1993).txt', 'C.A_supreme (1994).txt', 'C.A_supreme (1995).txt', 'C.A_supreme (1996).txt', 'C.A_supreme (1997).txt', 'C.A_supreme (1998).txt', 'C.A_supreme (1999).txt', 'C.A_supreme (2).txt', 'C.A_supreme (20).txt', 'C.A_supreme (200).txt', 'C.A_supreme (2000).txt', 'C.A_supreme (2001).txt', 'C.A_supreme (2002).txt', 'C.A_supreme (2003).txt', 'C.A_supreme (2004).txt', 'C.A_supreme (2005).txt', 'C.A_supreme (2006).txt', 'C.A_supreme (2007).txt', 'C.A_supreme (2008).txt', 'C.A_supreme (2009).txt', 'C.A_supreme (201).txt', 'C.A_supreme (2010).txt', 'C.A_supreme (2011).txt', 'C.A_supreme (2012).txt', 'C.A_supreme (2013).txt', 'C.A_supreme (2014).txt', 'C.A_supreme (2015).txt', 'C.A_supreme (2016).txt', 'C.A_supreme (2017).txt', 'C.A_supreme (2018).txt', 'C.A_supreme (2019).txt', 'C.A_supreme (202).txt', 'C.A_supreme (2020).txt', 'C.A_supreme (2021).txt', 'C.A_supreme (2022).txt', 'C.A_supreme (2023).txt', 'C.A_supreme (2024).txt', 'C.A_supreme (2025).txt', 'C.A_supreme (2026).txt', 'C.A_supreme (2027).txt', 'C.A_supreme (2028).txt', 'C.A_supreme (2029).txt', 'C.A_supreme (203).txt', 'C.A_supreme (2030).txt', 'C.A_supreme (2031).txt', 'C.A_supreme (2032).txt', 'C.A_supreme (2033).txt', 'C.A_supreme (2034).txt', 'C.A_supreme (2035).txt', 'C.A_supreme (2036).txt', 'C.A_supreme (2037).txt', 'C.A_supreme (2038).txt', 'C.A_supreme (2039).txt', 'C.A_supreme (204).txt', 'C.A_supreme (2040).txt', 'C.A_supreme (2041).txt', 'C.A_supreme (2042).txt', 'C.A_supreme (2043).txt', 'C.A_supreme (2044).txt', 'C.A_supreme (2045).txt', 'C.A_supreme (2046).txt', 'C.A_supreme (2047).txt', 'C.A_supreme (2048).txt', 'C.A_supreme (2049).txt', 'C.A_supreme (205).txt', 'C.A_supreme (2050).txt', 'C.A_supreme (2051).txt', 'C.A_supreme (2052).txt', 'C.A_supreme (2053).txt', 'C.A_supreme (2054).txt', 'C.A_supreme (2055).txt', 'C.A_supreme (2056).txt', 'C.A_supreme (2057).txt', 'C.A_supreme (2058).txt', 'C.A_supreme (2059).txt', 'C.A_supreme (206).txt', 'C.A_supreme (2060).txt', 'C.A_supreme (2061).txt', 'C.A_supreme (2062).txt', 'C.A_supreme (2063).txt', 'C.A_supreme (2064).txt', 'C.A_supreme (2065).txt', 'C.A_supreme (2066).txt', 'C.A_supreme (2067).txt', 'C.A_supreme (2068).txt', 'C.A_supreme (2069).txt', 'C.A_supreme (207).txt', 'C.A_supreme (2070).txt', 'C.A_supreme (2071).txt', 'C.A_supreme (2072).txt', 'C.A_supreme (2073).txt', 'C.A_supreme (2074).txt', 'C.A_supreme (2075).txt', 'C.A_supreme (2076).txt', 'C.A_supreme (2077).txt', 'C.A_supreme (2078).txt', 'C.A_supreme (2079).txt', 'C.A_supreme (208).txt', 'C.A_supreme (2080).txt', 'C.A_supreme (2081).txt', 'C.A_supreme (2082).txt', 'C.A_supreme (2083).txt', 'C.A_supreme (2084).txt', 'C.A_supreme (2085).txt', 'C.A_supreme (2086).txt', 'C.A_supreme (2087).txt', 'C.A_supreme (2088).txt', 'C.A_supreme (2089).txt', 'C.A_supreme (209).txt', 'C.A_supreme (2090).txt', 'C.A_supreme (2091).txt', 'C.A_supreme (2092).txt', 'C.A_supreme (2093).txt', 'C.A_supreme (2094).txt', 'C.A_supreme (2095).txt', 'C.A_supreme (2096).txt', 'C.A_supreme (2097).txt', 'C.A_supreme (2098).txt', 'C.A_supreme (2099).txt', 'C.A_supreme (21).txt', 'C.A_supreme (210).txt', 'C.A_supreme (2100).txt', 'C.A_supreme (2101).txt', 'C.A_supreme (2102).txt', 'C.A_supreme (2103).txt', 'C.A_supreme (2104).txt', 'C.A_supreme (2105).txt', 'C.A_supreme (2106).txt', 'C.A_supreme (2107).txt', 'C.A_supreme (2108).txt', 'C.A_supreme (2109).txt', 'C.A_supreme (211).txt', 'C.A_supreme (2110).txt', 'C.A_supreme (2111).txt', 'C.A_supreme (2112).txt', 'C.A_supreme (2113).txt', 'C.A_supreme (2114).txt', 'C.A_supreme (2115).txt', 'C.A_supreme (2116).txt', 'C.A_supreme (2117).txt', 'C.A_supreme (2118).txt', 'C.A_supreme (2119).txt', 'C.A_supreme (212).txt', 'C.A_supreme (2120).txt', 'C.A_supreme (2121).txt', 'C.A_supreme (2122).txt', 'C.A_supreme (2123).txt', 'C.A_supreme (2124).txt', 'C.A_supreme (2125).txt', 'C.A_supreme (2126).txt', 'C.A_supreme (2127).txt', 'C.A_supreme (2128).txt', 'C.A_supreme (2129).txt', 'C.A_supreme (213).txt', 'C.A_supreme (2130).txt', 'C.A_supreme (2131).txt', 'C.A_supreme (2132).txt', 'C.A_supreme (2133).txt', 'C.A_supreme (2134).txt', 'C.A_supreme (2135).txt', 'C.A_supreme (2136).txt', 'C.A_supreme (2137).txt', 'C.A_supreme (2138).txt', 'C.A_supreme (2139).txt', 'C.A_supreme (214).txt', 'C.A_supreme (2140).txt', 'C.A_supreme (2141).txt', 'C.A_supreme (2142).txt', 'C.A_supreme (2143).txt', 'C.A_supreme (2144).txt', 'C.A_supreme (2145).txt', 'C.A_supreme (2146).txt', 'C.A_supreme (2147).txt', 'C.A_supreme (2148).txt', 'C.A_supreme (2149).txt', 'C.A_supreme (215).txt', 'C.A_supreme (2150).txt', 'C.A_supreme (2151).txt', 'C.A_supreme (2152).txt', 'C.A_supreme (2153).txt', 'C.A_supreme (2154).txt', 'C.A_supreme (2155).txt', 'C.A_supreme (2156).txt', 'C.A_supreme (2157).txt', 'C.A_supreme (2158).txt', 'C.A_supreme (2159).txt', 'C.A_supreme (216).txt', 'C.A_supreme (2160).txt', 'C.A_supreme (2161).txt', 'C.A_supreme (2162).txt', 'C.A_supreme (2163).txt', 'C.A_supreme (2164).txt', 'C.A_supreme (2165).txt', 'C.A_supreme (2166).txt', 'C.A_supreme (2167).txt', 'C.A_supreme (2168).txt', 'C.A_supreme (2169).txt', 'C.A_supreme (217).txt', 'C.A_supreme (2170).txt', 'C.A_supreme (2171).txt', 'C.A_supreme (2172).txt', 'C.A_supreme (2173).txt', 'C.A_supreme (2174).txt', 'C.A_supreme (2175).txt', 'C.A_supreme (2176).txt', 'C.A_supreme (2177).txt', 'C.A_supreme (2178).txt', 'C.A_supreme (2179).txt', 'C.A_supreme (218).txt', 'C.A_supreme (2180).txt', 'C.A_supreme (2181).txt', 'C.A_supreme (2182).txt', 'C.A_supreme (2183).txt', 'C.A_supreme (2184).txt', 'C.A_supreme (2185).txt', 'C.A_supreme (2186).txt', 'C.A_supreme (2187).txt', 'C.A_supreme (2188).txt', 'C.A_supreme (2189).txt', 'C.A_supreme (219).txt', 'C.A_supreme (2190).txt', 'C.A_supreme (2191).txt', 'C.A_supreme (2192).txt', 'C.A_supreme (2193).txt', 'C.A_supreme (2194).txt', 'C.A_supreme (2195).txt', 'C.A_supreme (2196).txt', 'C.A_supreme (2197).txt', 'C.A_supreme (2198).txt', 'C.A_supreme (2199).txt', 'C.A_supreme (22).txt', 'C.A_supreme (220).txt', 'C.A_supreme (2200).txt', 'C.A_supreme (2201).txt', 'C.A_supreme (2202).txt', 'C.A_supreme (2203).txt', 'C.A_supreme (2204).txt', 'C.A_supreme (2205).txt', 'C.A_supreme (2206).txt', 'C.A_supreme (2207).txt', 'C.A_supreme (2208).txt', 'C.A_supreme (2209).txt', 'C.A_supreme (221).txt', 'C.A_supreme (2210).txt', 'C.A_supreme (2211).txt', 'C.A_supreme (2212).txt', 'C.A_supreme (2213).txt', 'C.A_supreme (2214).txt', 'C.A_supreme (2215).txt', 'C.A_supreme (2216).txt', 'C.A_supreme (2217).txt', 'C.A_supreme (2218).txt', 'C.A_supreme (2219).txt', 'C.A_supreme (222).txt', 'C.A_supreme (2220).txt', 'C.A_supreme (2221).txt', 'C.A_supreme (2222).txt', 'C.A_supreme (2223).txt', 'C.A_supreme (2224).txt', 'C.A_supreme (2225).txt', 'C.A_supreme (2226).txt', 'C.A_supreme (2227).txt', 'C.A_supreme (2228).txt', 'C.A_supreme (2229).txt', 'C.A_supreme (223).txt', 'C.A_supreme (2230).txt', 'C.A_supreme (2231).txt', 'C.A_supreme (2232).txt', 'C.A_supreme (2233).txt', 'C.A_supreme (2234).txt', 'C.A_supreme (2235).txt', 'C.A_supreme (2236).txt', 'C.A_supreme (2237).txt', 'C.A_supreme (2238).txt', 'C.A_supreme (2239).txt', 'C.A_supreme (224).txt', 'C.A_supreme (2240).txt', 'C.A_supreme (2241).txt', 'C.A_supreme (2242).txt', 'C.A_supreme (2243).txt', 'C.A_supreme (2244).txt', 'C.A_supreme (2245).txt', 'C.A_supreme (2246).txt', 'C.A_supreme (2247).txt', 'C.A_supreme (2248).txt', 'C.A_supreme (2249).txt', 'C.A_supreme (225).txt', 'C.A_supreme (2250).txt', 'C.A_supreme (2251).txt', 'C.A_supreme (2252).txt', 'C.A_supreme (2253).txt', 'C.A_supreme (2254).txt', 'C.A_supreme (2255).txt', 'C.A_supreme (2256).txt', 'C.A_supreme (2257).txt', 'C.A_supreme (2258).txt', 'C.A_supreme (2259).txt', 'C.A_supreme (226).txt', 'C.A_supreme (2260).txt', 'C.A_supreme (2261).txt', 'C.A_supreme (2262).txt', 'C.A_supreme (2263).txt', 'C.A_supreme (2264).txt', 'C.A_supreme (2265).txt', 'C.A_supreme (2266).txt', 'C.A_supreme (2267).txt', 'C.A_supreme (2268).txt', 'C.A_supreme (2269).txt', 'C.A_supreme (227).txt', 'C.A_supreme (2270).txt', 'C.A_supreme (2271).txt', 'C.A_supreme (2272).txt', 'C.A_supreme (2273).txt', 'C.A_supreme (2274).txt', 'C.A_supreme (2275).txt', 'C.A_supreme (2276).txt', 'C.A_supreme (2277).txt', 'C.A_supreme (2278).txt', 'C.A_supreme (2279).txt', 'C.A_supreme (228).txt', 'C.A_supreme (2280).txt', 'C.A_supreme (2281).txt', 'C.A_supreme (2282).txt', 'C.A_supreme (2283).txt', 'C.A_supreme (2284).txt', 'C.A_supreme (2285).txt', 'C.A_supreme (2286).txt', 'C.A_supreme (2287).txt', 'C.A_supreme (2288).txt', 'C.A_supreme (2289).txt', 'C.A_supreme (229).txt', 'C.A_supreme (2290).txt', 'C.A_supreme (2291).txt', 'C.A_supreme (2292).txt', 'C.A_supreme (2293).txt', 'C.A_supreme (2294).txt', 'C.A_supreme (2295).txt', 'C.A_supreme (2296).txt', 'C.A_supreme (2297).txt', 'C.A_supreme (2298).txt', 'C.A_supreme (2299).txt', 'C.A_supreme (23).txt', 'C.A_supreme (230).txt', 'C.A_supreme (2300).txt', 'C.A_supreme (2301).txt', 'C.A_supreme (2302).txt', 'C.A_supreme (2303).txt', 'C.A_supreme (2304).txt', 'C.A_supreme (2305).txt', 'C.A_supreme (2306).txt', 'C.A_supreme (2307).txt', 'C.A_supreme (2308).txt', 'C.A_supreme (2309).txt', 'C.A_supreme (231).txt', 'C.A_supreme (2310).txt', 'C.A_supreme (2311).txt', 'C.A_supreme (2312).txt', 'C.A_supreme (2313).txt', 'C.A_supreme (2314).txt', 'C.A_supreme (2315).txt', 'C.A_supreme (2316).txt', 'C.A_supreme (2317).txt', 'C.A_supreme (2318).txt', 'C.A_supreme (2319).txt', 'C.A_supreme (232).txt', 'C.A_supreme (2320).txt', 'C.A_supreme (2321).txt', 'C.A_supreme (2322).txt', 'C.A_supreme (2323).txt', 'C.A_supreme (2324).txt', 'C.A_supreme (2325).txt', 'C.A_supreme (2326).txt', 'C.A_supreme (2327).txt', 'C.A_supreme (2328).txt', 'C.A_supreme (2329).txt', 'C.A_supreme (233).txt', 'C.A_supreme (2330).txt', 'C.A_supreme (2331).txt', 'C.A_supreme (2332).txt', 'C.A_supreme (2333).txt', 'C.A_supreme (2334).txt', 'C.A_supreme (2335).txt', 'C.A_supreme (2336).txt', 'C.A_supreme (2337).txt', 'C.A_supreme (2338).txt', 'C.A_supreme (2339).txt', 'C.A_supreme (234).txt', 'C.A_supreme (2340).txt', 'C.A_supreme (2341).txt', 'C.A_supreme (2342).txt', 'C.A_supreme (2343).txt', 'C.A_supreme (2344).txt', 'C.A_supreme (2345).txt', 'C.A_supreme (2346).txt', 'C.A_supreme (2347).txt', 'C.A_supreme (2348).txt', 'C.A_supreme (2349).txt', 'C.A_supreme (235).txt', 'C.A_supreme (2350).txt', 'C.A_supreme (2351).txt', 'C.A_supreme (2352).txt', 'C.A_supreme (2353).txt', 'C.A_supreme (2354).txt', 'C.A_supreme (2355).txt', 'C.A_supreme (2356).txt', 'C.A_supreme (2357).txt', 'C.A_supreme (2358).txt', 'C.A_supreme (2359).txt', 'C.A_supreme (236).txt', 'C.A_supreme (2360).txt', 'C.A_supreme (2361).txt', 'C.A_supreme (2362).txt', 'C.A_supreme (2363).txt', 'C.A_supreme (2364).txt', 'C.A_supreme (2365).txt', 'C.A_supreme (2366).txt', 'C.A_supreme (2367).txt', 'C.A_supreme (2368).txt', 'C.A_supreme (2369).txt', 'C.A_supreme (237).txt', 'C.A_supreme (2370).txt', 'C.A_supreme (2371).txt', 'C.A_supreme (2372).txt', 'C.A_supreme (2373).txt', 'C.A_supreme (2374).txt', 'C.A_supreme (2375).txt', 'C.A_supreme (2376).txt', 'C.A_supreme (2377).txt', 'C.A_supreme (2378).txt', 'C.A_supreme (2379).txt', 'C.A_supreme (238).txt', 'C.A_supreme (2380).txt', 'C.A_supreme (2381).txt', 'C.A_supreme (2382).txt', 'C.A_supreme (2383).txt', 'C.A_supreme (2384).txt', 'C.A_supreme (2385).txt', 'C.A_supreme (2386).txt', 'C.A_supreme (2387).txt', 'C.A_supreme (2388).txt', 'C.A_supreme (2389).txt', 'C.A_supreme (239).txt', 'C.A_supreme (2390).txt', 'C.A_supreme (2391).txt', 'C.A_supreme (2392).txt', 'C.A_supreme (2393).txt', 'C.A_supreme (2394).txt', 'C.A_supreme (2395).txt', 'C.A_supreme (2396).txt', 'C.A_supreme (2397).txt', 'C.A_supreme (2398).txt', 'C.A_supreme (2399).txt', 'C.A_supreme (24).txt', 'C.A_supreme (240).txt', 'C.A_supreme (2400).txt', 'C.A_supreme (2401).txt', 'C.A_supreme (2402).txt', 'C.A_supreme (2403).txt', 'C.A_supreme (2404).txt', 'C.A_supreme (2405).txt', 'C.A_supreme (2406).txt', 'C.A_supreme (2407).txt', 'C.A_supreme (2408).txt', 'C.A_supreme (2409).txt', 'C.A_supreme (241).txt', 'C.A_supreme (2410).txt', 'C.A_supreme (2411).txt', 'C.A_supreme (2412).txt', 'C.A_supreme (2413).txt', 'C.A_supreme (2414).txt', 'C.A_supreme (2415).txt', 'C.A_supreme (2416).txt', 'C.A_supreme (2417).txt', 'C.A_supreme (2418).txt', 'C.A_supreme (2419).txt', 'C.A_supreme (242).txt', 'C.A_supreme (2420).txt', 'C.A_supreme (2421).txt', 'C.A_supreme (2422).txt', 'C.A_supreme (2423).txt', 'C.A_supreme (2424).txt', 'C.A_supreme (2425).txt', 'C.A_supreme (2426).txt', 'C.A_supreme (2427).txt', 'C.A_supreme (2428).txt', 'C.A_supreme (2429).txt', 'C.A_supreme (243).txt', 'C.A_supreme (2430).txt', 'C.A_supreme (2431).txt', 'C.A_supreme (2432).txt', 'C.A_supreme (2433).txt', 'C.A_supreme (2434).txt', 'C.A_supreme (2435).txt', 'C.A_supreme (2436).txt', 'C.A_supreme (2437).txt', 'C.A_supreme (2438).txt', 'C.A_supreme (2439).txt', 'C.A_supreme (244).txt', 'C.A_supreme (2440).txt', 'C.A_supreme (2441).txt', 'C.A_supreme (2442).txt', 'C.A_supreme (2443).txt', 'C.A_supreme (2444).txt', 'C.A_supreme (2445).txt', 'C.A_supreme (2446).txt', 'C.A_supreme (2447).txt', 'C.A_supreme (2448).txt', 'C.A_supreme (2449).txt', 'C.A_supreme (245).txt', 'C.A_supreme (2450).txt', 'C.A_supreme (2451).txt', 'C.A_supreme (2452).txt', 'C.A_supreme (2453).txt', 'C.A_supreme (2454).txt', 'C.A_supreme (2455).txt', 'C.A_supreme (2456).txt', 'C.A_supreme (2457).txt', 'C.A_supreme (2458).txt', 'C.A_supreme (2459).txt', 'C.A_supreme (246).txt', 'C.A_supreme (2460).txt', 'C.A_supreme (2461).txt', 'C.A_supreme (2462).txt', 'C.A_supreme (2463).txt', 'C.A_supreme (2464).txt', 'C.A_supreme (2465).txt', 'C.A_supreme (2466).txt', 'C.A_supreme (2467).txt', 'C.A_supreme (2468).txt', 'C.A_supreme (2469).txt', 'C.A_supreme (247).txt', 'C.A_supreme (2470).txt', 'C.A_supreme (2471).txt', 'C.A_supreme (2472).txt', 'C.A_supreme (2473).txt', 'C.A_supreme (2474).txt', 'C.A_supreme (2475).txt', 'C.A_supreme (2476).txt', 'C.A_supreme (2477).txt', 'C.A_supreme (2478).txt', 'C.A_supreme (2479).txt', 'C.A_supreme (248).txt', 'C.A_supreme (2480).txt', 'C.A_supreme (2481).txt', 'C.A_supreme (2482).txt', 'C.A_supreme (2483).txt', 'C.A_supreme (2484).txt', 'C.A_supreme (2485).txt', 'C.A_supreme (2486).txt', 'C.A_supreme (2487).txt', 'C.A_supreme (2488).txt', 'C.A_supreme (2489).txt', 'C.A_supreme (249).txt', 'C.A_supreme (2490).txt', 'C.A_supreme (2491).txt', 'C.A_supreme (2492).txt', 'C.A_supreme (2493).txt', 'C.A_supreme (2494).txt', 'C.A_supreme (2495).txt', 'C.A_supreme (2496).txt', 'C.A_supreme (2497).txt', 'C.A_supreme (2498).txt', 'C.A_supreme (2499).txt', 'C.A_supreme (25).txt', 'C.A_supreme (250).txt', 'C.A_supreme (2500).txt', 'C.A_supreme (2501).txt', 'C.A_supreme (2502).txt', 'C.A_supreme (2503).txt', 'C.A_supreme (2504).txt', 'C.A_supreme (2505).txt', 'C.A_supreme (2506).txt', 'C.A_supreme (2507).txt', 'C.A_supreme (2508).txt', 'C.A_supreme (2509).txt', 'C.A_supreme (251).txt', 'C.A_supreme (2510).txt', 'C.A_supreme (2511).txt', 'C.A_supreme (2512).txt', 'C.A_supreme (2513).txt', 'C.A_supreme (2514).txt', 'C.A_supreme (2515).txt', 'C.A_supreme (2516).txt', 'C.A_supreme (2517).txt', 'C.A_supreme (2518).txt', 'C.A_supreme (2519).txt', 'C.A_supreme (252).txt', 'C.A_supreme (2520).txt', 'C.A_supreme (2521).txt', 'C.A_supreme (2522).txt', 'C.A_supreme (2523).txt', 'C.A_supreme (2524).txt', 'C.A_supreme (2525).txt', 'C.A_supreme (2526).txt', 'C.A_supreme (2527).txt', 'C.A_supreme (2528).txt', 'C.A_supreme (2529).txt', 'C.A_supreme (253).txt', 'C.A_supreme (2530).txt', 'C.A_supreme (2531).txt', 'C.A_supreme (2532).txt', 'C.A_supreme (2533).txt', 'C.A_supreme (2534).txt', 'C.A_supreme (2535).txt', 'C.A_supreme (2536).txt', 'C.A_supreme (2537).txt', 'C.A_supreme (2538).txt', 'C.A_supreme (2539).txt', 'C.A_supreme (254).txt', 'C.A_supreme (2540).txt', 'C.A_supreme (2541).txt', 'C.A_supreme (2542).txt', 'C.A_supreme (2543).txt', 'C.A_supreme (2544).txt', 'C.A_supreme (2545).txt', 'C.A_supreme (2546).txt', 'C.A_supreme (2547).txt', 'C.A_supreme (2548).txt', 'C.A_supreme (2549).txt', 'C.A_supreme (255).txt', 'C.A_supreme (2550).txt', 'C.A_supreme (2551).txt', 'C.A_supreme (2552).txt', 'C.A_supreme (2553).txt', 'C.A_supreme (2554).txt', 'C.A_supreme (2555).txt', 'C.A_supreme (2556).txt', 'C.A_supreme (2557).txt', 'C.A_supreme (2558).txt', 'C.A_supreme (2559).txt', 'C.A_supreme (256).txt', 'C.A_supreme (2560).txt', 'C.A_supreme (2561).txt', 'C.A_supreme (2562).txt', 'C.A_supreme (2563).txt', 'C.A_supreme (2564).txt', 'C.A_supreme (2565).txt', 'C.A_supreme (2566).txt', 'C.A_supreme (2567).txt', 'C.A_supreme (2568).txt', 'C.A_supreme (2569).txt', 'C.A_supreme (257).txt', 'C.A_supreme (2570).txt', 'C.A_supreme (2571).txt', 'C.A_supreme (2572).txt', 'C.A_supreme (2573).txt', 'C.A_supreme (2574).txt', 'C.A_supreme (2575).txt', 'C.A_supreme (2576).txt', 'C.A_supreme (2577).txt', 'C.A_supreme (2578).txt', 'C.A_supreme (2579).txt', 'C.A_supreme (258).txt', 'C.A_supreme (2580).txt', 'C.A_supreme (2581).txt', 'C.A_supreme (2582).txt', 'C.A_supreme (2583).txt', 'C.A_supreme (2584).txt', 'C.A_supreme (2585).txt', 'C.A_supreme (2586).txt', 'C.A_supreme (2587).txt', 'C.A_supreme (2588).txt', 'C.A_supreme (2589).txt', 'C.A_supreme (259).txt', 'C.A_supreme (2590).txt', 'C.A_supreme (2591).txt', 'C.A_supreme (2592).txt', 'C.A_supreme (2593).txt', 'C.A_supreme (2594).txt', 'C.A_supreme (2595).txt', 'C.A_supreme (2596).txt', 'C.A_supreme (2597).txt', 'C.A_supreme (2598).txt', 'C.A_supreme (2599).txt', 'C.A_supreme (26).txt', 'C.A_supreme (260).txt', 'C.A_supreme (2600).txt', 'C.A_supreme (2601).txt', 'C.A_supreme (2602).txt', 'C.A_supreme (2603).txt', 'C.A_supreme (2604).txt', 'C.A_supreme (2605).txt', 'C.A_supreme (2606).txt', 'C.A_supreme (2607).txt', 'C.A_supreme (2608).txt', 'C.A_supreme (2609).txt', 'C.A_supreme (261).txt', 'C.A_supreme (2610).txt', 'C.A_supreme (2611).txt', 'C.A_supreme (2612).txt', 'C.A_supreme (2613).txt', 'C.A_supreme (2614).txt', 'C.A_supreme (2615).txt', 'C.A_supreme (2616).txt', 'C.A_supreme (2617).txt', 'C.A_supreme (2618).txt', 'C.A_supreme (2619).txt', 'C.A_supreme (262).txt', 'C.A_supreme (2620).txt', 'C.A_supreme (2621).txt', 'C.A_supreme (2622).txt', 'C.A_supreme (2623).txt', 'C.A_supreme (2624).txt', 'C.A_supreme (2625).txt', 'C.A_supreme (2626).txt', 'C.A_supreme (2627).txt', 'C.A_supreme (2628).txt', 'C.A_supreme (2629).txt', 'C.A_supreme (263).txt', 'C.A_supreme (2630).txt', 'C.A_supreme (2631).txt', 'C.A_supreme (2632).txt', 'C.A_supreme (2633).txt', 'C.A_supreme (2634).txt', 'C.A_supreme (2635).txt', 'C.A_supreme (2636).txt', 'C.A_supreme (2637).txt', 'C.A_supreme (2638).txt', 'C.A_supreme (2639).txt', 'C.A_supreme (264).txt', 'C.A_supreme (2640).txt', 'C.A_supreme (2641).txt', 'C.A_supreme (2642).txt', 'C.A_supreme (2643).txt', 'C.A_supreme (2644).txt', 'C.A_supreme (2645).txt', 'C.A_supreme (2646).txt', 'C.A_supreme (2647).txt', 'C.A_supreme (2648).txt', 'C.A_supreme (2649).txt', 'C.A_supreme (265).txt', 'C.A_supreme (2650).txt', 'C.A_supreme (2651).txt', 'C.A_supreme (2652).txt', 'C.A_supreme (2653).txt', 'C.A_supreme (2654).txt', 'C.A_supreme (2655).txt', 'C.A_supreme (2656).txt', 'C.A_supreme (2657).txt', 'C.A_supreme (2658).txt', 'C.A_supreme (2659).txt', 'C.A_supreme (266).txt', 'C.A_supreme (2660).txt', 'C.A_supreme (2661).txt', 'C.A_supreme (2662).txt', 'C.A_supreme (2663).txt', 'C.A_supreme (2664).txt', 'C.A_supreme (2665).txt', 'C.A_supreme (2666).txt', 'C.A_supreme (2667).txt', 'C.A_supreme (2668).txt', 'C.A_supreme (2669).txt', 'C.A_supreme (267).txt', 'C.A_supreme (2670).txt', 'C.A_supreme (2671).txt', 'C.A_supreme (2672).txt', 'C.A_supreme (2673).txt', 'C.A_supreme (2674).txt', 'C.A_supreme (2675).txt', 'C.A_supreme (2676).txt', 'C.A_supreme (2677).txt', 'C.A_supreme (2678).txt', 'C.A_supreme (2679).txt', 'C.A_supreme (268).txt', 'C.A_supreme (2680).txt', 'C.A_supreme (2681).txt', 'C.A_supreme (2682).txt', 'C.A_supreme (2683).txt', 'C.A_supreme (2684).txt', 'C.A_supreme (2685).txt', 'C.A_supreme (2686).txt', 'C.A_supreme (2687).txt', 'C.A_supreme (2688).txt', 'C.A_supreme (2689).txt', 'C.A_supreme (269).txt', 'C.A_supreme (2690).txt', 'C.A_supreme (2691).txt', 'C.A_supreme (2692).txt', 'C.A_supreme (2693).txt', 'C.A_supreme (2694).txt', 'C.A_supreme (2695).txt', 'C.A_supreme (2696).txt', 'C.A_supreme (2697).txt', 'C.A_supreme (2698).txt', 'C.A_supreme (2699).txt', 'C.A_supreme (27).txt', 'C.A_supreme (270).txt', 'C.A_supreme (2700).txt', 'C.A_supreme (2701).txt', 'C.A_supreme (2702).txt', 'C.A_supreme (2703).txt', 'C.A_supreme (2704).txt', 'C.A_supreme (2705).txt', 'C.A_supreme (2706).txt', 'C.A_supreme (2707).txt', 'C.A_supreme (2708).txt', 'C.A_supreme (2709).txt', 'C.A_supreme (271).txt', 'C.A_supreme (2710).txt', 'C.A_supreme (2711).txt', 'C.A_supreme (2712).txt', 'C.A_supreme (2713).txt', 'C.A_supreme (2714).txt', 'C.A_supreme (2715).txt', 'C.A_supreme (2716).txt', 'C.A_supreme (2717).txt', 'C.A_supreme (2718).txt', 'C.A_supreme (2719).txt', 'C.A_supreme (272).txt', 'C.A_supreme (2720).txt', 'C.A_supreme (2721).txt', 'C.A_supreme (2722).txt', 'C.A_supreme (2723).txt', 'C.A_supreme (2724).txt', 'C.A_supreme (2725).txt', 'C.A_supreme (2726).txt', 'C.A_supreme (2727).txt', 'C.A_supreme (2728).txt', 'C.A_supreme (2729).txt', 'C.A_supreme (273).txt', 'C.A_supreme (2730).txt', 'C.A_supreme (2731).txt', 'C.A_supreme (2732).txt', 'C.A_supreme (2733).txt', 'C.A_supreme (2734).txt', 'C.A_supreme (2735).txt', 'C.A_supreme (2736).txt', 'C.A_supreme (2737).txt', 'C.A_supreme (2738).txt', 'C.A_supreme (2739).txt', 'C.A_supreme (274).txt', 'C.A_supreme (2740).txt', 'C.A_supreme (2741).txt', 'C.A_supreme (2742).txt', 'C.A_supreme (2743).txt', 'C.A_supreme (2744).txt', 'C.A_supreme (2745).txt', 'C.A_supreme (2746).txt', 'C.A_supreme (2747).txt', 'C.A_supreme (2748).txt', 'C.A_supreme (2749).txt', 'C.A_supreme (275).txt', 'C.A_supreme (2750).txt', 'C.A_supreme (2751).txt', 'C.A_supreme (2752).txt', 'C.A_supreme (2753).txt', 'C.A_supreme (2754).txt', 'C.A_supreme (2755).txt', 'C.A_supreme (2756).txt', 'C.A_supreme (2757).txt', 'C.A_supreme (2758).txt', 'C.A_supreme (2759).txt', 'C.A_supreme (276).txt', 'C.A_supreme (2760).txt', 'C.A_supreme (2761).txt', 'C.A_supreme (2762).txt', 'C.A_supreme (2763).txt', 'C.A_supreme (2764).txt', 'C.A_supreme (2765).txt', 'C.A_supreme (2766).txt', 'C.A_supreme (2767).txt', 'C.A_supreme (2768).txt', 'C.A_supreme (2769).txt', 'C.A_supreme (277).txt', 'C.A_supreme (2770).txt', 'C.A_supreme (2771).txt', 'C.A_supreme (2772).txt', 'C.A_supreme (2773).txt', 'C.A_supreme (2774).txt', 'C.A_supreme (2775).txt', 'C.A_supreme (2776).txt', 'C.A_supreme (2777).txt', 'C.A_supreme (2778).txt', 'C.A_supreme (2779).txt', 'C.A_supreme (278).txt', 'C.A_supreme (2780).txt', 'C.A_supreme (2781).txt', 'C.A_supreme (2782).txt', 'C.A_supreme (2783).txt', 'C.A_supreme (2784).txt', 'C.A_supreme (2785).txt', 'C.A_supreme (2786).txt', 'C.A_supreme (2787).txt', 'C.A_supreme (2788).txt', 'C.A_supreme (2789).txt', 'C.A_supreme (279).txt', 'C.A_supreme (2790).txt', 'C.A_supreme (2791).txt', 'C.A_supreme (2792).txt', 'C.A_supreme (2793).txt', 'C.A_supreme (2794).txt', 'C.A_supreme (2795).txt', 'C.A_supreme (2796).txt', 'C.A_supreme (2797).txt', 'C.A_supreme (2798).txt', 'C.A_supreme (2799).txt', 'C.A_supreme (28).txt', 'C.A_supreme (280).txt', 'C.A_supreme (2800).txt', 'C.A_supreme (2801).txt', 'C.A_supreme (2802).txt', 'C.A_supreme (2803).txt', 'C.A_supreme (2804).txt', 'C.A_supreme (2805).txt', 'C.A_supreme (2806).txt', 'C.A_supreme (2807).txt', 'C.A_supreme (2808).txt', 'C.A_supreme (2809).txt', 'C.A_supreme (281).txt', 'C.A_supreme (282).txt', 'C.A_supreme (283).txt', 'C.A_supreme (284).txt', 'C.A_supreme (285).txt', 'C.A_supreme (286).txt', 'C.A_supreme (287).txt', 'C.A_supreme (288).txt', 'C.A_supreme (289).txt', 'C.A_supreme (29).txt', 'C.A_supreme (290).txt', 'C.A_supreme (291).txt', 'C.A_supreme (292).txt', 'C.A_supreme (293).txt', 'C.A_supreme (294).txt', 'C.A_supreme (295).txt', 'C.A_supreme (296).txt', 'C.A_supreme (297).txt', 'C.A_supreme (298).txt', 'C.A_supreme (299).txt', 'C.A_supreme (3).txt', 'C.A_supreme (30).txt', 'C.A_supreme (300).txt', 'C.A_supreme (301).txt', 'C.A_supreme (302).txt', 'C.A_supreme (303).txt', 'C.A_supreme (304).txt', 'C.A_supreme (305).txt', 'C.A_supreme (306).txt', 'C.A_supreme (307).txt', 'C.A_supreme (308).txt', 'C.A_supreme (309).txt', 'C.A_supreme (31).txt', 'C.A_supreme (310).txt', 'C.A_supreme (311).txt', 'C.A_supreme (312).txt', 'C.A_supreme (313).txt', 'C.A_supreme (314).txt', 'C.A_supreme (315).txt', 'C.A_supreme (316).txt', 'C.A_supreme (317).txt', 'C.A_supreme (318).txt', 'C.A_supreme (319).txt', 'C.A_supreme (32).txt', 'C.A_supreme (320).txt', 'C.A_supreme (321).txt', 'C.A_supreme (322).txt', 'C.A_supreme (323).txt', 'C.A_supreme (324).txt', 'C.A_supreme (325).txt', 'C.A_supreme (326).txt', 'C.A_supreme (327).txt', 'C.A_supreme (328).txt', 'C.A_supreme (329).txt', 'C.A_supreme (33).txt', 'C.A_supreme (330).txt', 'C.A_supreme (331).txt', 'C.A_supreme (332).txt', 'C.A_supreme (333).txt', 'C.A_supreme (334).txt', 'C.A_supreme (335).txt', 'C.A_supreme (336).txt', 'C.A_supreme (337).txt', 'C.A_supreme (338).txt', 'C.A_supreme (339).txt', 'C.A_supreme (34).txt', 'C.A_supreme (340).txt', 'C.A_supreme (341).txt', 'C.A_supreme (342).txt', 'C.A_supreme (343).txt', 'C.A_supreme (344).txt', 'C.A_supreme (345).txt', 'C.A_supreme (346).txt', 'C.A_supreme (347).txt', 'C.A_supreme (348).txt', 'C.A_supreme (349).txt', 'C.A_supreme (35).txt', 'C.A_supreme (350).txt', 'C.A_supreme (351).txt', 'C.A_supreme (352).txt', 'C.A_supreme (353).txt', 'C.A_supreme (354).txt', 'C.A_supreme (355).txt', 'C.A_supreme (356).txt', 'C.A_supreme (357).txt', 'C.A_supreme (358).txt', 'C.A_supreme (359).txt', 'C.A_supreme (36).txt', 'C.A_supreme (360).txt', 'C.A_supreme (361).txt', 'C.A_supreme (362).txt', 'C.A_supreme (363).txt', 'C.A_supreme (364).txt', 'C.A_supreme (365).txt', 'C.A_supreme (366).txt', 'C.A_supreme (367).txt', 'C.A_supreme (368).txt', 'C.A_supreme (369).txt', 'C.A_supreme (37).txt', 'C.A_supreme (370).txt', 'C.A_supreme (371).txt', 'C.A_supreme (372).txt', 'C.A_supreme (373).txt', 'C.A_supreme (374).txt', 'C.A_supreme (375).txt', 'C.A_supreme (376).txt', 'C.A_supreme (377).txt', 'C.A_supreme (378).txt', 'C.A_supreme (379).txt', 'C.A_supreme (38).txt', 'C.A_supreme (380).txt', 'C.A_supreme (381).txt', 'C.A_supreme (382).txt', 'C.A_supreme (383).txt', 'C.A_supreme (384).txt', 'C.A_supreme (385).txt', 'C.A_supreme (386).txt', 'C.A_supreme (387).txt', 'C.A_supreme (388).txt', 'C.A_supreme (389).txt', 'C.A_supreme (39).txt', 'C.A_supreme (390).txt', 'C.A_supreme (391).txt', 'C.A_supreme (392).txt', 'C.A_supreme (393).txt', 'C.A_supreme (394).txt', 'C.A_supreme (395).txt', 'C.A_supreme (396).txt', 'C.A_supreme (397).txt', 'C.A_supreme (398).txt', 'C.A_supreme (399).txt', 'C.A_supreme (4).txt', 'C.A_supreme (40).txt', 'C.A_supreme (400).txt', 'C.A_supreme (401).txt', 'C.A_supreme (402).txt', 'C.A_supreme (403).txt', 'C.A_supreme (404).txt', 'C.A_supreme (405).txt', 'C.A_supreme (406).txt', 'C.A_supreme (407).txt', 'C.A_supreme (408).txt', 'C.A_supreme (409).txt', 'C.A_supreme (41).txt', 'C.A_supreme (410).txt', 'C.A_supreme (411).txt', 'C.A_supreme (412).txt', 'C.A_supreme (413).txt', 'C.A_supreme (414).txt', 'C.A_supreme (415).txt', 'C.A_supreme (416).txt', 'C.A_supreme (417).txt', 'C.A_supreme (418).txt', 'C.A_supreme (419).txt', 'C.A_supreme (42).txt', 'C.A_supreme (420).txt', 'C.A_supreme (421).txt', 'C.A_supreme (422).txt', 'C.A_supreme (423).txt', 'C.A_supreme (424).txt', 'C.A_supreme (425).txt', 'C.A_supreme (426).txt', 'C.A_supreme (427).txt', 'C.A_supreme (428).txt', 'C.A_supreme (429).txt', 'C.A_supreme (43).txt', 'C.A_supreme (430).txt', 'C.A_supreme (431).txt', 'C.A_supreme (432).txt', 'C.A_supreme (433).txt', 'C.A_supreme (434).txt', 'C.A_supreme (435).txt', 'C.A_supreme (436).txt', 'C.A_supreme (437).txt', 'C.A_supreme (438).txt', 'C.A_supreme (439).txt', 'C.A_supreme (44).txt', 'C.A_supreme (440).txt', 'C.A_supreme (441).txt', 'C.A_supreme (442).txt', 'C.A_supreme (443).txt', 'C.A_supreme (444).txt', 'C.A_supreme (445).txt', 'C.A_supreme (446).txt', 'C.A_supreme (447).txt', 'C.A_supreme (448).txt', 'C.A_supreme (449).txt', 'C.A_supreme (45).txt', 'C.A_supreme (450).txt', 'C.A_supreme (451).txt', 'C.A_supreme (452).txt', 'C.A_supreme (453).txt', 'C.A_supreme (454).txt', 'C.A_supreme (455).txt', 'C.A_supreme (456).txt', 'C.A_supreme (457).txt', 'C.A_supreme (458).txt', 'C.A_supreme (459).txt', 'C.A_supreme (46).txt', 'C.A_supreme (460).txt', 'C.A_supreme (461).txt', 'C.A_supreme (462).txt', 'C.A_supreme (463).txt', 'C.A_supreme (464).txt', 'C.A_supreme (465).txt', 'C.A_supreme (466).txt', 'C.A_supreme (467).txt', 'C.A_supreme (468).txt', 'C.A_supreme (469).txt', 'C.A_supreme (47).txt', 'C.A_supreme (470).txt', 'C.A_supreme (471).txt', 'C.A_supreme (472).txt', 'C.A_supreme (473).txt', 'C.A_supreme (474).txt', 'C.A_supreme (475).txt', 'C.A_supreme (476).txt', 'C.A_supreme (477).txt', 'C.A_supreme (478).txt', 'C.A_supreme (479).txt', 'C.A_supreme (48).txt', 'C.A_supreme (480).txt', 'C.A_supreme (481).txt', 'C.A_supreme (482).txt', 'C.A_supreme (483).txt', 'C.A_supreme (484).txt', 'C.A_supreme (485).txt', 'C.A_supreme (486).txt', 'C.A_supreme (487).txt', 'C.A_supreme (488).txt', 'C.A_supreme (489).txt', 'C.A_supreme (49).txt', 'C.A_supreme (490).txt', 'C.A_supreme (491).txt', 'C.A_supreme (492).txt', 'C.A_supreme (493).txt', 'C.A_supreme (494).txt', 'C.A_supreme (495).txt', 'C.A_supreme (496).txt', 'C.A_supreme (497).txt', 'C.A_supreme (498).txt', 'C.A_supreme (499).txt', 'C.A_supreme (5).txt', 'C.A_supreme (50).txt', 'C.A_supreme (500).txt', 'C.A_supreme (501).txt', 'C.A_supreme (502).txt', 'C.A_supreme (503).txt', 'C.A_supreme (504).txt', 'C.A_supreme (505).txt', 'C.A_supreme (506).txt', 'C.A_supreme (507).txt', 'C.A_supreme (508).txt', 'C.A_supreme (509).txt', 'C.A_supreme (51).txt', 'C.A_supreme (510).txt', 'C.A_supreme (511).txt', 'C.A_supreme (512).txt', 'C.A_supreme (513).txt', 'C.A_supreme (514).txt', 'C.A_supreme (515).txt', 'C.A_supreme (516).txt', 'C.A_supreme (517).txt', 'C.A_supreme (518).txt', 'C.A_supreme (519).txt', 'C.A_supreme (52).txt', 'C.A_supreme (520).txt', 'C.A_supreme (521).txt', 'C.A_supreme (522).txt', 'C.A_supreme (523).txt', 'C.A_supreme (524).txt', 'C.A_supreme (525).txt', 'C.A_supreme (526).txt', 'C.A_supreme (527).txt', 'C.A_supreme (528).txt', 'C.A_supreme (529).txt', 'C.A_supreme (53).txt', 'C.A_supreme (530).txt', 'C.A_supreme (531).txt', 'C.A_supreme (532).txt', 'C.A_supreme (533).txt', 'C.A_supreme (534).txt', 'C.A_supreme (535).txt', 'C.A_supreme (536).txt', 'C.A_supreme (537).txt', 'C.A_supreme (538).txt', 'C.A_supreme (539).txt', 'C.A_supreme (54).txt', 'C.A_supreme (540).txt', 'C.A_supreme (541).txt', 'C.A_supreme (542).txt', 'C.A_supreme (543).txt', 'C.A_supreme (544).txt', 'C.A_supreme (545).txt', 'C.A_supreme (546).txt', 'C.A_supreme (547).txt', 'C.A_supreme (548).txt', 'C.A_supreme (549).txt', 'C.A_supreme (55).txt', 'C.A_supreme (550).txt', 'C.A_supreme (551).txt', 'C.A_supreme (552).txt', 'C.A_supreme (553).txt', 'C.A_supreme (554).txt', 'C.A_supreme (555).txt', 'C.A_supreme (556).txt', 'C.A_supreme (557).txt', 'C.A_supreme (558).txt', 'C.A_supreme (559).txt', 'C.A_supreme (56).txt', 'C.A_supreme (560).txt', 'C.A_supreme (561).txt', 'C.A_supreme (562).txt', 'C.A_supreme (563).txt', 'C.A_supreme (564).txt', 'C.A_supreme (565).txt', 'C.A_supreme (566).txt', 'C.A_supreme (567).txt', 'C.A_supreme (568).txt', 'C.A_supreme (569).txt', 'C.A_supreme (57).txt', 'C.A_supreme (570).txt', 'C.A_supreme (571).txt', 'C.A_supreme (572).txt', 'C.A_supreme (573).txt', 'C.A_supreme (574).txt', 'C.A_supreme (575).txt', 'C.A_supreme (576).txt', 'C.A_supreme (577).txt', 'C.A_supreme (578).txt', 'C.A_supreme (579).txt', 'C.A_supreme (58).txt', 'C.A_supreme (580).txt', 'C.A_supreme (581).txt', 'C.A_supreme (582).txt', 'C.A_supreme (583).txt', 'C.A_supreme (584).txt', 'C.A_supreme (585).txt', 'C.A_supreme (586).txt', 'C.A_supreme (587).txt', 'C.A_supreme (588).txt', 'C.A_supreme (589).txt', 'C.A_supreme (59).txt', 'C.A_supreme (590).txt', 'C.A_supreme (591).txt', 'C.A_supreme (592).txt', 'C.A_supreme (593).txt', 'C.A_supreme (594).txt', 'C.A_supreme (595).txt', 'C.A_supreme (596).txt', 'C.A_supreme (597).txt', 'C.A_supreme (598).txt', 'C.A_supreme (599).txt', 'C.A_supreme (6).txt', 'C.A_supreme (60).txt', 'C.A_supreme (600).txt', 'C.A_supreme (601).txt', 'C.A_supreme (602).txt', 'C.A_supreme (603).txt', 'C.A_supreme (604).txt', 'C.A_supreme (605).txt', 'C.A_supreme (606).txt', 'C.A_supreme (607).txt', 'C.A_supreme (608).txt', 'C.A_supreme (609).txt', 'C.A_supreme (61).txt', 'C.A_supreme (610).txt', 'C.A_supreme (611).txt', 'C.A_supreme (612).txt', 'C.A_supreme (613).txt', 'C.A_supreme (614).txt', 'C.A_supreme (615).txt', 'C.A_supreme (616).txt', 'C.A_supreme (617).txt', 'C.A_supreme (618).txt', 'C.A_supreme (619).txt', 'C.A_supreme (62).txt', 'C.A_supreme (620).txt', 'C.A_supreme (621).txt', 'C.A_supreme (622).txt', 'C.A_supreme (623).txt', 'C.A_supreme (624).txt', 'C.A_supreme (625).txt', 'C.A_supreme (626).txt', 'C.A_supreme (627).txt', 'C.A_supreme (628).txt', 'C.A_supreme (629).txt', 'C.A_supreme (63).txt', 'C.A_supreme (630).txt', 'C.A_supreme (631).txt', 'C.A_supreme (632).txt', 'C.A_supreme (633).txt', 'C.A_supreme (634).txt', 'C.A_supreme (635).txt', 'C.A_supreme (636).txt', 'C.A_supreme (637).txt', 'C.A_supreme (638).txt', 'C.A_supreme (639).txt', 'C.A_supreme (64).txt', 'C.A_supreme (640).txt', 'C.A_supreme (641).txt', 'C.A_supreme (642).txt', 'C.A_supreme (643).txt', 'C.A_supreme (644).txt', 'C.A_supreme (645).txt', 'C.A_supreme (646).txt', 'C.A_supreme (647).txt', 'C.A_supreme (648).txt', 'C.A_supreme (649).txt', 'C.A_supreme (65).txt', 'C.A_supreme (650).txt', 'C.A_supreme (651).txt', 'C.A_supreme (652).txt', 'C.A_supreme (653).txt', 'C.A_supreme (654).txt', 'C.A_supreme (655).txt', 'C.A_supreme (656).txt', 'C.A_supreme (657).txt', 'C.A_supreme (658).txt', 'C.A_supreme (659).txt', 'C.A_supreme (66).txt', 'C.A_supreme (660).txt', 'C.A_supreme (661).txt', 'C.A_supreme (662).txt', 'C.A_supreme (663).txt', 'C.A_supreme (664).txt', 'C.A_supreme (665).txt', 'C.A_supreme (666).txt', 'C.A_supreme (667).txt', 'C.A_supreme (668).txt', 'C.A_supreme (669).txt', 'C.A_supreme (67).txt', 'C.A_supreme (670).txt', 'C.A_supreme (671).txt', 'C.A_supreme (672).txt', 'C.A_supreme (673).txt', 'C.A_supreme (674).txt', 'C.A_supreme (675).txt', 'C.A_supreme (676).txt', 'C.A_supreme (677).txt', 'C.A_supreme (678).txt', 'C.A_supreme (679).txt', 'C.A_supreme (68).txt', 'C.A_supreme (680).txt', 'C.A_supreme (681).txt', 'C.A_supreme (682).txt', 'C.A_supreme (683).txt', 'C.A_supreme (684).txt', 'C.A_supreme (685).txt', 'C.A_supreme (686).txt', 'C.A_supreme (687).txt', 'C.A_supreme (688).txt', 'C.A_supreme (689).txt', 'C.A_supreme (69).txt', 'C.A_supreme (690).txt', 'C.A_supreme (691).txt', 'C.A_supreme (692).txt', 'C.A_supreme (693).txt', 'C.A_supreme (694).txt', 'C.A_supreme (695).txt', 'C.A_supreme (696).txt', 'C.A_supreme (697).txt', 'C.A_supreme (698).txt', 'C.A_supreme (699).txt', 'C.A_supreme (7).txt', 'C.A_supreme (70).txt', 'C.A_supreme (700).txt', 'C.A_supreme (701).txt', 'C.A_supreme (702).txt', 'C.A_supreme (703).txt', 'C.A_supreme (704).txt', 'C.A_supreme (705).txt', 'C.A_supreme (706).txt', 'C.A_supreme (707).txt', 'C.A_supreme (708).txt', 'C.A_supreme (709).txt', 'C.A_supreme (71).txt', 'C.A_supreme (710).txt', 'C.A_supreme (711).txt', 'C.A_supreme (712).txt', 'C.A_supreme (713).txt', 'C.A_supreme (714).txt', 'C.A_supreme (715).txt', 'C.A_supreme (716).txt', 'C.A_supreme (717).txt', 'C.A_supreme (718).txt', 'C.A_supreme (719).txt', 'C.A_supreme (72).txt', 'C.A_supreme (720).txt', 'C.A_supreme (721).txt', 'C.A_supreme (722).txt', 'C.A_supreme (723).txt', 'C.A_supreme (724).txt', 'C.A_supreme (725).txt', 'C.A_supreme (726).txt', 'C.A_supreme (727).txt', 'C.A_supreme (728).txt', 'C.A_supreme (729).txt', 'C.A_supreme (73).txt', 'C.A_supreme (730).txt', 'C.A_supreme (731).txt', 'C.A_supreme (732).txt', 'C.A_supreme (733).txt', 'C.A_supreme (734).txt', 'C.A_supreme (735).txt', 'C.A_supreme (736).txt', 'C.A_supreme (737).txt', 'C.A_supreme (738).txt', 'C.A_supreme (739).txt', 'C.A_supreme (74).txt', 'C.A_supreme (740).txt', 'C.A_supreme (741).txt', 'C.A_supreme (742).txt', 'C.A_supreme (743).txt', 'C.A_supreme (744).txt', 'C.A_supreme (745).txt', 'C.A_supreme (746).txt', 'C.A_supreme (747).txt', 'C.A_supreme (748).txt', 'C.A_supreme (749).txt', 'C.A_supreme (75).txt', 'C.A_supreme (750).txt', 'C.A_supreme (751).txt', 'C.A_supreme (752).txt', 'C.A_supreme (753).txt', 'C.A_supreme (754).txt', 'C.A_supreme (755).txt', 'C.A_supreme (756).txt', 'C.A_supreme (757).txt', 'C.A_supreme (758).txt', 'C.A_supreme (759).txt', 'C.A_supreme (76).txt', 'C.A_supreme (760).txt', 'C.A_supreme (761).txt', 'C.A_supreme (762).txt', 'C.A_supreme (763).txt', 'C.A_supreme (764).txt', 'C.A_supreme (765).txt', 'C.A_supreme (766).txt', 'C.A_supreme (767).txt', 'C.A_supreme (768).txt', 'C.A_supreme (769).txt', 'C.A_supreme (77).txt', 'C.A_supreme (770).txt', 'C.A_supreme (771).txt', 'C.A_supreme (772).txt', 'C.A_supreme (773).txt', 'C.A_supreme (774).txt', 'C.A_supreme (775).txt', 'C.A_supreme (776).txt', 'C.A_supreme (777).txt', 'C.A_supreme (778).txt', 'C.A_supreme (779).txt', 'C.A_supreme (78).txt', 'C.A_supreme (780).txt', 'C.A_supreme (781).txt', 'C.A_supreme (782).txt', 'C.A_supreme (783).txt', 'C.A_supreme (784).txt', 'C.A_supreme (785).txt', 'C.A_supreme (786).txt', 'C.A_supreme (787).txt', 'C.A_supreme (788).txt', 'C.A_supreme (789).txt', 'C.A_supreme (79).txt', 'C.A_supreme (790).txt', 'C.A_supreme (791).txt', 'C.A_supreme (792).txt', 'C.A_supreme (793).txt', 'C.A_supreme (794).txt', 'C.A_supreme (795).txt', 'C.A_supreme (796).txt', 'C.A_supreme (797).txt', 'C.A_supreme (798).txt', 'C.A_supreme (799).txt', 'C.A_supreme (8).txt', 'C.A_supreme (80).txt', 'C.A_supreme (800).txt', 'C.A_supreme (801).txt', 'C.A_supreme (802).txt', 'C.A_supreme (803).txt', 'C.A_supreme (804).txt', 'C.A_supreme (805).txt', 'C.A_supreme (806).txt', 'C.A_supreme (807).txt', 'C.A_supreme (808).txt', 'C.A_supreme (809).txt', 'C.A_supreme (81).txt', 'C.A_supreme (810).txt', 'C.A_supreme (811).txt', 'C.A_supreme (812).txt', 'C.A_supreme (813).txt', 'C.A_supreme (814).txt', 'C.A_supreme (815).txt', 'C.A_supreme (816).txt', 'C.A_supreme (817).txt', 'C.A_supreme (818).txt', 'C.A_supreme (819).txt', 'C.A_supreme (82).txt', 'C.A_supreme (820).txt', 'C.A_supreme (821).txt', 'C.A_supreme (822).txt', 'C.A_supreme (823).txt', 'C.A_supreme (824).txt', 'C.A_supreme (825).txt', 'C.A_supreme (826).txt', 'C.A_supreme (827).txt', 'C.A_supreme (828).txt', 'C.A_supreme (829).txt', 'C.A_supreme (83).txt', 'C.A_supreme (830).txt', 'C.A_supreme (831).txt', 'C.A_supreme (832).txt', 'C.A_supreme (833).txt', 'C.A_supreme (834).txt', 'C.A_supreme (835).txt', 'C.A_supreme (836).txt', 'C.A_supreme (837).txt', 'C.A_supreme (838).txt', 'C.A_supreme (839).txt', 'C.A_supreme (84).txt', 'C.A_supreme (840).txt', 'C.A_supreme (841).txt', 'C.A_supreme (842).txt', 'C.A_supreme (843).txt', 'C.A_supreme (844).txt', 'C.A_supreme (845).txt', 'C.A_supreme (846).txt', 'C.A_supreme (847).txt', 'C.A_supreme (848).txt', 'C.A_supreme (849).txt', 'C.A_supreme (85).txt', 'C.A_supreme (850).txt', 'C.A_supreme (851).txt', 'C.A_supreme (852).txt', 'C.A_supreme (853).txt', 'C.A_supreme (854).txt', 'C.A_supreme (855).txt', 'C.A_supreme (856).txt', 'C.A_supreme (857).txt', 'C.A_supreme (858).txt', 'C.A_supreme (859).txt', 'C.A_supreme (86).txt', 'C.A_supreme (860).txt', 'C.A_supreme (861).txt', 'C.A_supreme (862).txt', 'C.A_supreme (863).txt', 'C.A_supreme (864).txt', 'C.A_supreme (865).txt', 'C.A_supreme (866).txt', 'C.A_supreme (867).txt', 'C.A_supreme (868).txt', 'C.A_supreme (869).txt', 'C.A_supreme (87).txt', 'C.A_supreme (870).txt', 'C.A_supreme (871).txt', 'C.A_supreme (872).txt', 'C.A_supreme (873).txt', 'C.A_supreme (874).txt', 'C.A_supreme (875).txt', 'C.A_supreme (876).txt', 'C.A_supreme (877).txt', 'C.A_supreme (878).txt', 'C.A_supreme (879).txt', 'C.A_supreme (88).txt', 'C.A_supreme (880).txt', 'C.A_supreme (881).txt', 'C.A_supreme (882).txt', 'C.A_supreme (883).txt', 'C.A_supreme (884).txt', 'C.A_supreme (885).txt', 'C.A_supreme (886).txt', 'C.A_supreme (887).txt', 'C.A_supreme (888).txt', 'C.A_supreme (889).txt', 'C.A_supreme (89).txt', 'C.A_supreme (890).txt', 'C.A_supreme (891).txt', 'C.A_supreme (892).txt', 'C.A_supreme (893).txt', 'C.A_supreme (894).txt', 'C.A_supreme (895).txt', 'C.A_supreme (896).txt', 'C.A_supreme (897).txt', 'C.A_supreme (898).txt', 'C.A_supreme (899).txt', 'C.A_supreme (9).txt', 'C.A_supreme (90).txt', 'C.A_supreme (900).txt', 'C.A_supreme (901).txt', 'C.A_supreme (902).txt', 'C.A_supreme (903).txt', 'C.A_supreme (904).txt', 'C.A_supreme (905).txt', 'C.A_supreme (906).txt', 'C.A_supreme (907).txt', 'C.A_supreme (908).txt', 'C.A_supreme (909).txt', 'C.A_supreme (91).txt', 'C.A_supreme (910).txt', 'C.A_supreme (911).txt', 'C.A_supreme (912).txt', 'C.A_supreme (913).txt', 'C.A_supreme (914).txt', 'C.A_supreme (915).txt', 'C.A_supreme (916).txt', 'C.A_supreme (917).txt', 'C.A_supreme (918).txt', 'C.A_supreme (919).txt', 'C.A_supreme (92).txt', 'C.A_supreme (920).txt', 'C.A_supreme (921).txt', 'C.A_supreme (922).txt', 'C.A_supreme (923).txt', 'C.A_supreme (924).txt', 'C.A_supreme (925).txt', 'C.A_supreme (926).txt', 'C.A_supreme (927).txt', 'C.A_supreme (928).txt', 'C.A_supreme (929).txt', 'C.A_supreme (93).txt', 'C.A_supreme (930).txt', 'C.A_supreme (931).txt', 'C.A_supreme (932).txt', 'C.A_supreme (933).txt', 'C.A_supreme (934).txt', 'C.A_supreme (935).txt', 'C.A_supreme (936).txt', 'C.A_supreme (937).txt', 'C.A_supreme (938).txt', 'C.A_supreme (939).txt', 'C.A_supreme (94).txt', 'C.A_supreme (940).txt', 'C.A_supreme (941).txt', 'C.A_supreme (942).txt', 'C.A_supreme (943).txt', 'C.A_supreme (944).txt', 'C.A_supreme (945).txt', 'C.A_supreme (946).txt', 'C.A_supreme (947).txt', 'C.A_supreme (948).txt', 'C.A_supreme (949).txt', 'C.A_supreme (95).txt', 'C.A_supreme (950).txt', 'C.A_supreme (951).txt', 'C.A_supreme (952).txt', 'C.A_supreme (953).txt', 'C.A_supreme (954).txt', 'C.A_supreme (955).txt', 'C.A_supreme (956).txt', 'C.A_supreme (957).txt', 'C.A_supreme (958).txt', 'C.A_supreme (959).txt', 'C.A_supreme (96).txt', 'C.A_supreme (960).txt', 'C.A_supreme (961).txt', 'C.A_supreme (962).txt', 'C.A_supreme (963).txt', 'C.A_supreme (964).txt', 'C.A_supreme (965).txt', 'C.A_supreme (966).txt', 'C.A_supreme (967).txt', 'C.A_supreme (968).txt', 'C.A_supreme (969).txt', 'C.A_supreme (97).txt', 'C.A_supreme (970).txt', 'C.A_supreme (971).txt', 'C.A_supreme (972).txt', 'C.A_supreme (973).txt', 'C.A_supreme (974).txt', 'C.A_supreme (975).txt', 'C.A_supreme (976).txt', 'C.A_supreme (977).txt', 'C.A_supreme (978).txt', 'C.A_supreme (979).txt', 'C.A_supreme (98).txt', 'C.A_supreme (980).txt', 'C.A_supreme (981).txt', 'C.A_supreme (982).txt', 'C.A_supreme (983).txt', 'C.A_supreme (984).txt', 'C.A_supreme (985).txt', 'C.A_supreme (986).txt', 'C.A_supreme (987).txt', 'C.A_supreme (988).txt', 'C.A_supreme (989).txt', 'C.A_supreme (99).txt', 'C.A_supreme (990).txt', 'C.A_supreme (991).txt', 'C.A_supreme (992).txt', 'C.A_supreme (993).txt', 'C.A_supreme (994).txt', 'C.A_supreme (995).txt', 'C.A_supreme (996).txt', 'C.A_supreme (997).txt', 'C.A_supreme (998).txt', 'C.A_supreme (999).txt']\n"
     ]
    },
    {
     "data": {
      "text/html": [
       "<div>\n",
       "<style scoped>\n",
       "    .dataframe tbody tr th:only-of-type {\n",
       "        vertical-align: middle;\n",
       "    }\n",
       "\n",
       "    .dataframe tbody tr th {\n",
       "        vertical-align: top;\n",
       "    }\n",
       "\n",
       "    .dataframe thead th {\n",
       "        text-align: right;\n",
       "    }\n",
       "</style>\n",
       "<table border=\"1\" class=\"dataframe\">\n",
       "  <thead>\n",
       "    <tr style=\"text-align: right;\">\n",
       "      <th></th>\n",
       "      <th>article</th>\n",
       "    </tr>\n",
       "  </thead>\n",
       "  <tbody>\n",
       "    <tr>\n",
       "      <th>0</th>\n",
       "      <td>IN THE SUPREME COURT OF PAKISTAN  \\n(Original ...</td>\n",
       "    </tr>\n",
       "    <tr>\n",
       "      <th>1</th>\n",
       "      <td>IN THE SUPREME COURT OF PAKISTAN   \\n(Appellat...</td>\n",
       "    </tr>\n",
       "    <tr>\n",
       "      <th>2</th>\n",
       "      <td>IN THE SUPREME COURT OF PAKISTAN  \\n(APPELLATE...</td>\n",
       "    </tr>\n",
       "    <tr>\n",
       "      <th>3</th>\n",
       "      <td>IN THE SUPREME COURT OF PAKISTAN  \\n(Appellate...</td>\n",
       "    </tr>\n",
       "    <tr>\n",
       "      <th>4</th>\n",
       "      <td>IN THE SUPREME COURT OF PAKISTAN  \\n(Appellate...</td>\n",
       "    </tr>\n",
       "    <tr>\n",
       "      <th>...</th>\n",
       "      <td>...</td>\n",
       "    </tr>\n",
       "    <tr>\n",
       "      <th>95</th>\n",
       "      <td>IN THE SUPREME COURT OF PAKISTAN  \\n(APPELLATE...</td>\n",
       "    </tr>\n",
       "    <tr>\n",
       "      <th>96</th>\n",
       "      <td>IN THE SUPREME COURT OF PAKISTAN   \\n(Appellat...</td>\n",
       "    </tr>\n",
       "    <tr>\n",
       "      <th>97</th>\n",
       "      <td>IN THE SUPREME COURT OF PAKISTAN  \\n(Appellate...</td>\n",
       "    </tr>\n",
       "    <tr>\n",
       "      <th>98</th>\n",
       "      <td>IN THE SUPREME COURT OF PAKISTAN  \\n(APPELLATE...</td>\n",
       "    </tr>\n",
       "    <tr>\n",
       "      <th>99</th>\n",
       "      <td>\\nSUPREME COURT OF PAKISTAN  \\n(Appellate Jur...</td>\n",
       "    </tr>\n",
       "  </tbody>\n",
       "</table>\n",
       "<p>100 rows × 1 columns</p>\n",
       "</div>"
      ],
      "text/plain": [
       "                                              article\n",
       "0   IN THE SUPREME COURT OF PAKISTAN  \\n(Original ...\n",
       "1   IN THE SUPREME COURT OF PAKISTAN   \\n(Appellat...\n",
       "2   IN THE SUPREME COURT OF PAKISTAN  \\n(APPELLATE...\n",
       "3   IN THE SUPREME COURT OF PAKISTAN  \\n(Appellate...\n",
       "4   IN THE SUPREME COURT OF PAKISTAN  \\n(Appellate...\n",
       "..                                                ...\n",
       "95  IN THE SUPREME COURT OF PAKISTAN  \\n(APPELLATE...\n",
       "96  IN THE SUPREME COURT OF PAKISTAN   \\n(Appellat...\n",
       "97  IN THE SUPREME COURT OF PAKISTAN  \\n(Appellate...\n",
       "98  IN THE SUPREME COURT OF PAKISTAN  \\n(APPELLATE...\n",
       "99   \\nSUPREME COURT OF PAKISTAN  \\n(Appellate Jur...\n",
       "\n",
       "[100 rows x 1 columns]"
      ]
     },
     "execution_count": 5,
     "metadata": {},
     "output_type": "execute_result"
    }
   ],
   "source": [
    "all_files = os.listdir(\"C:/Users/fc/Supreme_court_Of_Pakistan_judgments/\")\n",
    "print(all_files)\n",
    "Object_casedocs1=[]\n",
    "for file_name in all_files:\n",
    "    name = \"C:/Users/fc/Supreme_court_Of_Pakistan_judgments/\" + str(file_name)\n",
    "    with open(name,'r',encoding=\"latin-1\") as f:\n",
    "        Object_casedocs1.append(f.read())\n",
    "df_articles = pd.DataFrame(Object_casedocs1)\n",
    "df_articles.columns = ['article']\n",
    "df_articles.head(100)"
   ]
  },
  {
   "cell_type": "code",
   "execution_count": 43,
   "id": "ff0b8a74-e293-49c0-a540-3c87b43b5eae",
   "metadata": {},
   "outputs": [
    {
     "name": "stdout",
     "output_type": "stream",
     "text": [
      "Converted 18TH_AMENDMENT_ORDER ().pdf to text.\n",
      "Converted AdditionalNoteConst.P.77of2012 ().pdf to text.\n",
      "Converted C.A.1074_2009_dt_13-2-2017 ().pdf to text.\n",
      "Converted C.A.1122of2011 ().pdf to text.\n",
      "Converted c.a.149-150_2010 ().pdf to text.\n",
      "Converted c.a.1540-1599_2013 ().pdf to text.\n",
      "Converted C.A.1628_2014 ().pdf to text.\n",
      "Converted C.A.194-P_2010 ().pdf to text.\n",
      "Converted C.A.212and213OF2011 ().pdf to text.\n",
      "Converted C.A.2234and2235of2005-dt-31-8-2013 ().pdf to text.\n",
      "Converted C.A.269_ETC_OF_2011 ().pdf to text.\n",
      "Converted c.a.32_k_2018 ().pdf to text.\n",
      "Converted C.A.357OF2012 ().pdf to text.\n",
      "Converted C.A.368TO370OF2011 ().pdf to text.\n",
      "Converted C.A.39_2010 ().pdf to text.\n",
      "Converted C.A.401_2011 ().pdf to text.\n"
     ]
    },
    {
     "name": "stderr",
     "output_type": "stream",
     "text": [
      "incorrect startxref pointer(3)\n"
     ]
    },
    {
     "name": "stdout",
     "output_type": "stream",
     "text": [
      "Converted C.A.404of2011 ().pdf to text.\n",
      "Converted C.A.468OF2010 ().pdf to text.\n",
      "Converted c.a.482_2014 ().pdf to text.\n",
      "Converted C.A.540_L_2009_dt_05_01_2017 ().pdf to text.\n",
      "Converted C.A.669-L_2013 ().pdf to text.\n"
     ]
    },
    {
     "name": "stderr",
     "output_type": "stream",
     "text": [
      "incorrect startxref pointer(1)\n"
     ]
    },
    {
     "name": "stdout",
     "output_type": "stream",
     "text": [
      "Converted C.A.800Lof2013etc ().pdf to text.\n",
      "Converted C.A.800LOF2013_27.08.2013 ().pdf to text.\n",
      "Converted C.A.82-K-2015 ().pdf to text.\n",
      "Converted C.A.83and84of2006 ().pdf to text.\n",
      "Converted C.A.876-879of2005 ().pdf to text.\n",
      "Converted C.A.No.427of2013 ().pdf to text.\n",
      "Converted c.a._ 870_2020 ().pdf to text.\n",
      "Converted C.A._03_2017 ().pdf to text.\n",
      "Converted C.A._03_2018 ().pdf to text.\n",
      "Converted C.A._1000_2006 ().pdf to text.\n"
     ]
    },
    {
     "name": "stderr",
     "output_type": "stream",
     "text": [
      "incorrect startxref pointer(1)\n"
     ]
    },
    {
     "name": "stdout",
     "output_type": "stream",
     "text": [
      "Converted c.a._1000_2020 ().pdf to text.\n",
      "Converted C.A._1002_2014 ().pdf to text.\n",
      "Converted c.a._1002_2015 ().pdf to text.\n",
      "Converted c.a._1003_2019 ().pdf to text.\n",
      "Converted c.a._1005_2009 ().pdf to text.\n",
      "Converted c.a._1009_2010 ().pdf to text.\n",
      "Converted c.a._1010_2020 ().pdf to text.\n",
      "Converted C.A._1011_2006 ().pdf to text.\n",
      "Converted c.a._1011_2016 ().pdf to text.\n",
      "Converted c.a._1011_2020 ().pdf to text.\n",
      "Converted c.a._1012_2018 ().pdf to text.\n",
      "Converted c.a._1018_2016 ().pdf to text.\n"
     ]
    },
    {
     "name": "stderr",
     "output_type": "stream",
     "text": [
      "incorrect startxref pointer(3)\n",
      "incorrect startxref pointer(1)\n"
     ]
    },
    {
     "name": "stdout",
     "output_type": "stream",
     "text": [
      "Converted C.A._101_2011 ().pdf to text.\n",
      "Failed to convert C.A._1020_2014 ().pdf. Error: '/Root'\n",
      "Converted C.A._1022_2012 ().pdf to text.\n",
      "Converted C.A._1023_2016 ().pdf to text.\n",
      "Converted c.a._1029_2019 ().pdf to text.\n",
      "Converted c.a._102_l_2017 ().pdf to text.\n",
      "Converted c.a._1032_2018 ().pdf to text.\n",
      "Converted C.A._1033_2014 ().pdf to text.\n",
      "Converted C.A._104-L_2015 ().pdf to text.\n",
      "Converted C.A._1042_2018 ().pdf to text.\n",
      "Converted c.a._1044_2015 ().pdf to text.\n",
      "Converted C.A._1049_2011 ().pdf to text.\n",
      "Converted C.A._1050_2009 ().pdf to text.\n",
      "Converted C.A._1072_2005 ().pdf to text.\n",
      "Converted c.a._1076_2019 ().pdf to text.\n",
      "Converted c.a._1077_2011 ().pdf to text.\n",
      "Converted C.A._1079_2011 ().pdf to text.\n",
      "Converted c.a._1079_2015 ().pdf to text.\n",
      "Converted c.a._1080_2011 ().pdf to text.\n"
     ]
    },
    {
     "name": "stderr",
     "output_type": "stream",
     "text": [
      "incorrect startxref pointer(1)\n"
     ]
    },
    {
     "name": "stdout",
     "output_type": "stream",
     "text": [
      "Converted c.a._1080_2013 ().pdf to text.\n",
      "Converted C.A._1083_2017 ().pdf to text.\n",
      "Converted C.A._1084_2008 ().pdf to text.\n",
      "Converted C.A._1085_2017 ().pdf to text.\n",
      "Converted C.A._1086_2009 ().pdf to text.\n",
      "Converted C.A._1086_2014 ().pdf to text.\n",
      "Converted c.a._1089_2015 ().pdf to text.\n",
      "Converted c.a._108_2015 ().pdf to text.\n",
      "Converted C.A._1095_2018 ().pdf to text.\n",
      "Converted c.a._1095_2018_13092019 ().pdf to text.\n",
      "Converted c.a._10_2020 ().pdf to text.\n",
      "Converted c.a._10_2021 ().pdf to text.\n",
      "Converted c.a._10_k_2019 ().pdf to text.\n",
      "Converted c.a._10_q_2021 ().pdf to text.\n",
      "Converted C.A._1109_2013 ().pdf to text.\n",
      "Converted C.A._110_L_2013 ().pdf to text.\n",
      "Converted c.a._1113_2017 ().pdf to text.\n",
      "Converted c.a._1113_2017_dissenting_note ().pdf to text.\n",
      "Converted c.a._1120_2009 ().pdf to text.\n",
      "Converted c.a._1121_2018 ().pdf to text.\n",
      "Converted C.A._1122_2013 ().pdf to text.\n",
      "Converted C.A._1125_2007 ().pdf to text.\n",
      "Converted C.A._1125_2014 ().pdf to text.\n",
      "Converted c.a._1125_2020 ().pdf to text.\n",
      "Converted c.a._1127_2011 ().pdf to text.\n",
      "Converted C.A._1129_2013 ().pdf to text.\n",
      "Converted C.A._1132_2007 ().pdf to text.\n"
     ]
    },
    {
     "name": "stderr",
     "output_type": "stream",
     "text": [
      "incorrect startxref pointer(1)\n"
     ]
    },
    {
     "name": "stdout",
     "output_type": "stream",
     "text": [
      "Converted c.a._1134_2020 ().pdf to text.\n",
      "Converted C.A._1137_2008 ().pdf to text.\n",
      "Converted C.A._1137_2012 ().pdf to text.\n",
      "Converted c.a._1137_2014 ().pdf to text.\n",
      "Converted C.A._1149_2015 ().pdf to text.\n",
      "Converted c.a._1167_2020 ().pdf to text.\n",
      "Converted C.A._1169_2014 ().pdf to text.\n",
      "Converted C.A._116_K_2016 ().pdf to text.\n",
      "Converted C.A._1171_2013 ().pdf to text.\n",
      "Converted C.A._1171_2017 ().pdf to text.\n",
      "Converted c.a._1172_2020 ().pdf to text.\n",
      "Converted C.A._1178_2008 ().pdf to text.\n",
      "Converted C.A._1184_2011 ().pdf to text.\n",
      "Converted C.A._1189_2014 ().pdf to text.\n",
      "Converted C.A._1189_2017 ().pdf to text.\n",
      "Converted C.A._118_2016 ().pdf to text.\n",
      "Converted c.a._1191_2014 ().pdf to text.\n",
      "Converted c.a._1191_2016 ().pdf to text.\n",
      "Converted C.A._1194_2014 ().pdf to text.\n",
      "Converted c.a._11_2022 ().pdf to text.\n",
      "Converted C.A._1203_2014 ().pdf to text.\n",
      "Converted C.A._1207_2004 ().pdf to text.\n",
      "Converted C.A._1208_2011 ().pdf to text.\n",
      "Converted C.A._1213_2015 ().pdf to text.\n",
      "Converted C.A._1216_2015 ().pdf to text.\n",
      "Converted C.A._1219_2014 ().pdf to text.\n",
      "Converted c.a._1219_2015 ().pdf to text.\n",
      "Converted c.a._1226_2016 ().pdf to text.\n",
      "Converted c.a._1227_2016 ().pdf to text.\n",
      "Converted c.a._1229_2018 ().pdf to text.\n",
      "Converted c.a._1237_2020 ().pdf to text.\n",
      "Converted c.a._1241_2013 ().pdf to text.\n",
      "Converted C.A._1242_2013 ().pdf to text.\n",
      "Converted C.A._1255_2012 ().pdf to text.\n"
     ]
    },
    {
     "name": "stderr",
     "output_type": "stream",
     "text": [
      "incorrect startxref pointer(1)\n"
     ]
    },
    {
     "name": "stdout",
     "output_type": "stream",
     "text": [
      "Converted C.A._1256_2008 ().pdf to text.\n",
      "Failed to convert C.A._1257_2012 ().pdf. Error: Stream has ended unexpectedly\n",
      "Converted c.a._1257_2013 ().pdf to text.\n",
      "Converted c.a._125_k_2016 () (1).pdf to text.\n",
      "Converted C.A._125_K_2016 ().pdf to text.\n",
      "Converted C.A._125_K_2016_JPMC_Dissenting_Note ().pdf to text.\n",
      "Converted C.A._1262_2018 ().pdf to text.\n",
      "Converted C.A._1264_2006 ().pdf to text.\n",
      "Converted c.a._1269_2013 ().pdf to text.\n",
      "Converted c.a._1275_2009 ().pdf to text.\n",
      "Converted c.a._1280_2019 ().pdf to text.\n",
      "Converted c.a._1286_2018 ().pdf to text.\n",
      "Converted C.A._1291_2005 ().pdf to text.\n",
      "Converted c.a._1292_2021 ().pdf to text.\n",
      "Converted c.a._1295_2019 ().pdf to text.\n",
      "Converted c.a._1296_2013 ().pdf to text.\n",
      "Converted c.a._1300_2019 ().pdf to text.\n",
      "Converted c.a._130_2016 ().pdf to text.\n",
      "Converted c.a._130_2021 ().pdf to text.\n",
      "Converted C.A._1313_2014 ().pdf to text.\n",
      "Converted c.a._1314_2014 ().pdf to text.\n",
      "Converted C.A._1338_2007 ().pdf to text.\n",
      "Converted C.A._134-P_2013 ().pdf to text.\n",
      "Converted C.A._1340_2018 ().pdf to text.\n",
      "Converted C.A._1348_2006 ().pdf to text.\n",
      "Converted c.a._1348_2014 ().pdf to text.\n",
      "Converted C.A._1352_2013 ().pdf to text.\n",
      "Converted c.a._1355_2006 ().pdf to text.\n",
      "Converted C.A._1359_2014 ().pdf to text.\n",
      "Converted c.a._1363_2018 ().pdf to text.\n",
      "Converted c.a._136_2011 ().pdf to text.\n",
      "Converted C.A._137-K_1976 ().pdf to text.\n",
      "Converted c.a._1385_2019 ().pdf to text.\n",
      "Converted c.a._1389_2014 ().pdf to text.\n",
      "Converted c.a._138_l_2010 ().pdf to text.\n",
      "Converted c.a._1399_2019 ().pdf to text.\n",
      "Converted C.A._139_2013 ().pdf to text.\n",
      "Converted c.a._139_p_2013 ().pdf to text.\n",
      "Converted c.a._13_q_2020 ().pdf to text.\n",
      "Converted c.a._1400_2019 ().pdf to text.\n",
      "Converted C.A._1406_2016 ().pdf to text.\n",
      "Converted c.a._1409_2013 ().pdf to text.\n",
      "Converted c.a._140_l_2015 ().pdf to text.\n",
      "Converted c.a._1414_2021 ().pdf to text.\n",
      "Converted C.A._1419_2009 ().pdf to text.\n",
      "Converted c.a._1421_2015 ().pdf to text.\n"
     ]
    },
    {
     "name": "stderr",
     "output_type": "stream",
     "text": [
      "incorrect startxref pointer(3)\n"
     ]
    },
    {
     "name": "stdout",
     "output_type": "stream",
     "text": [
      "Converted c.a._1422_2019 ().pdf to text.\n",
      "Converted C.A._1428_2015 ().pdf to text.\n",
      "Converted C.A._1428_2016 ().pdf to text.\n",
      "Converted c.a._1429_2014 ().pdf to text.\n",
      "Converted c.a._142_2019 ().pdf to text.\n",
      "Converted C.A._1440_2007 ().pdf to text.\n",
      "Converted c.a._1444_2013 ().pdf to text.\n",
      "Converted C.A._1447_2016 ().pdf to text.\n",
      "Converted C.A._1459_2018 ().pdf to text.\n",
      "Converted C.A._145_2010 ().pdf to text.\n",
      "Converted c.a._1460_2013 ().pdf to text.\n"
     ]
    },
    {
     "name": "stderr",
     "output_type": "stream",
     "text": [
      "incorrect startxref pointer(1)\n",
      "NumberObject(b'-') invalid; use 0 instead\n"
     ]
    },
    {
     "name": "stdout",
     "output_type": "stream",
     "text": [
      "Converted c.a._1471_2013 ().pdf to text.\n",
      "Failed to convert C.A._1471_2015 ().pdf. Error: Invalid Elementary Object starting with b')' @13297: b'pe)9(l)-4(l)-4(a1 )-)-21(ppe))-220(by)-).6 524.16 Tm\\n[(a28(i)-J\\nET9y)-).6aised)N'\n",
      "Converted c.a._1474_2015 ().pdf to text.\n",
      "Converted c.a._1474_2021 ().pdf to text.\n",
      "Converted C.A._1475_2007 ().pdf to text.\n",
      "Converted c.a._1476_2018 ().pdf to text.\n",
      "Converted c.a._1476_2018_urdu ().pdf to text.\n",
      "Converted c.a._1477_2019 ().pdf to text.\n",
      "Converted C.A._1481_2007 ().pdf to text.\n",
      "Converted c.a._1481_2015 ().pdf to text.\n"
     ]
    },
    {
     "name": "stderr",
     "output_type": "stream",
     "text": [
      "incorrect startxref pointer(1)\n"
     ]
    },
    {
     "name": "stdout",
     "output_type": "stream",
     "text": [
      "Converted c.a._1486_2017 ().pdf to text.\n",
      "Converted C.A._1491_2013 ().pdf to text.\n",
      "Converted c.a._1494_2017 ().pdf to text.\n",
      "Converted c.a._1496_2019 ().pdf to text.\n",
      "Converted c.a._1498_2016 ().pdf to text.\n",
      "Converted c.a._1498_2018 ().pdf to text.\n",
      "Converted c.a._1498_2018_note ().pdf to text.\n",
      "Converted c.a._1499_2019 ().pdf to text.\n",
      "Converted C.A._14_L_2013 ().pdf to text.\n",
      "Converted C.A._1509_2016 ().pdf to text.\n",
      "Converted C.A._150_2006 ().pdf to text.\n",
      "Converted C.A._1515_2013 ().pdf to text.\n",
      "Converted C.A._1515_2016 ().pdf to text.\n",
      "Converted c.a._1518_2013 ().pdf to text.\n",
      "Converted C.A._1519_2013 ().pdf to text.\n",
      "Converted c.a._1520_2016 ().pdf to text.\n",
      "Converted c.a._1521_2018 ().pdf to text.\n",
      "Converted c.a._1522_2013 ().pdf to text.\n",
      "Converted C.A._1525_2016 ().pdf to text.\n",
      "Converted c.a._152_2019 ().pdf to text.\n",
      "Converted c.a._152_l_2010 ().pdf to text.\n",
      "Converted C.A._1540_2006 ().pdf to text.\n",
      "Converted c.a._1546_2019 ().pdf to text.\n",
      "Converted c.a._1547_2019 ().pdf to text.\n",
      "Converted c.a._154_l_2018 ().pdf to text.\n",
      "Converted c.a._1551_2017 ().pdf to text.\n",
      "Converted C.A._1560_2008 ().pdf to text.\n",
      "Converted c.a._1562_2020 ().pdf to text.\n",
      "Converted C.A._1563_2014 ().pdf to text.\n",
      "Converted c.a._1573_2017 ().pdf to text.\n"
     ]
    },
    {
     "name": "stderr",
     "output_type": "stream",
     "text": [
      "incorrect startxref pointer(1)\n"
     ]
    },
    {
     "name": "stdout",
     "output_type": "stream",
     "text": [
      "Converted C.A._157_K_2016 ().pdf to text.\n",
      "Failed to convert C.A._1583_201 ().pdf. Error: Invalid Elementary Object starting with b'\\\\' @39892: b'\\n/F2 12 0 0 eo9 0 0 \\\\S543.2 Tm\\n[(single)] TJ\\nET\\nQ\\nq\\nBT\\n/F2 12 Tf\\n0 0 0 rg\\n1.0009'\n"
     ]
    },
    {
     "name": "stderr",
     "output_type": "stream",
     "text": [
      "incorrect startxref pointer(1)\n"
     ]
    },
    {
     "name": "stdout",
     "output_type": "stream",
     "text": [
      "Converted C.A._158_2006 ().pdf to text.\n",
      "Converted c.a._158_l_2011 ().pdf to text.\n",
      "Converted C.A._1590_2006 ().pdf to text.\n",
      "Converted c.a._1595_2019_07062024 ().pdf to text.\n",
      "Converted C.A._1600_2006 ().pdf to text.\n",
      "Converted c.a._1602_2014 ().pdf to text.\n",
      "Converted C.A._1611_2014 ().pdf to text.\n",
      "Converted c.a._1618_2019 ().pdf to text.\n",
      "Converted c.a._1621_2017 ().pdf to text.\n"
     ]
    },
    {
     "name": "stderr",
     "output_type": "stream",
     "text": [
      "incorrect startxref pointer(1)\n"
     ]
    },
    {
     "name": "stdout",
     "output_type": "stream",
     "text": [
      "Converted C.A._1628_2017 ().pdf to text.\n",
      "Failed to convert C.A._1631_2017 ().pdf. Error: '/Root'\n",
      "Converted C.A._1646_2000 ().pdf to text.\n",
      "Converted c.a._1653_2007 ().pdf to text.\n",
      "Converted c.a._1653_2021 ().pdf to text.\n",
      "Converted c.a._1660_2014 ().pdf to text.\n",
      "Converted c.a._1664_2014 ().pdf to text.\n",
      "Converted c.a._166_2021 ().pdf to text.\n",
      "Converted C.A._167-Q_2005 ().pdf to text.\n",
      "Converted c.a._1683_2014 ().pdf to text.\n",
      "Converted c.a._1684_2021 ().pdf to text.\n",
      "Converted c.a._1685_2021 ().pdf to text.\n",
      "Converted c.a._1692_2021 ().pdf to text.\n",
      "Converted c.a._1698_2014 ().pdf to text.\n",
      "Converted C.A._1703_2013 ().pdf to text.\n",
      "Converted c.a._170_2017 ().pdf to text.\n",
      "Converted c.a._171_2019 ().pdf to text.\n",
      "Converted c.a._1729_2019 ().pdf to text.\n",
      "Converted c.a._1731_2021 ().pdf to text.\n",
      "Converted c.a._1736_2019 ().pdf to text.\n",
      "Converted c.a._174_2012 ().pdf to text.\n",
      "Converted c.a._1767_2019 ().pdf to text.\n",
      "Converted C.A._176_2015 ().pdf to text.\n",
      "Converted c.a._176_2016 ().pdf to text.\n",
      "Converted c.a._1772_2008 ().pdf to text.\n",
      "Converted c.a._177_p_2020 ().pdf to text.\n",
      "Converted c.a._178_2020 ().pdf to text.\n",
      "Converted C.A._1793_2016 ().pdf to text.\n",
      "Converted C.A._1797_2005 ().pdf to text.\n",
      "Converted c.a._1798_2016 ().pdf to text.\n",
      "Converted c.a._179_2016 ().pdf to text.\n",
      "Converted c.a._17_2020 ().pdf to text.\n",
      "Converted c.a._17_l_2019 ().pdf to text.\n",
      "Converted c.a._17_q_2021 ().pdf to text.\n",
      "Converted c.a._17_q_2023 ().pdf to text.\n",
      "Converted c.a._180_2015 ().pdf to text.\n",
      "Converted c.a._1833_2019 ().pdf to text.\n",
      "Converted c.a._183_2015 ().pdf to text.\n",
      "Converted C.A._185_2015 ().pdf to text.\n",
      "Converted c.a._185_l_2015 ().pdf to text.\n",
      "Converted c.a._1877_2016_dt_24_01_2024 ().pdf to text.\n",
      "Converted c.a._188_2019 ().pdf to text.\n",
      "Converted c.a._188_2020 ().pdf to text.\n",
      "Converted C.A._1890_2002 ().pdf to text.\n",
      "Converted c.a._18_k_2020 ().pdf to text.\n",
      "Converted c.a._18_k_2021 ().pdf to text.\n",
      "Converted c.a._190_2015 ().pdf to text.\n",
      "Converted C.A._194_2015 ().pdf to text.\n",
      "Converted C.A._1950_2007 ().pdf to text.\n",
      "Converted c.a._196_p_2014_13062023 ().pdf to text.\n",
      "Converted c.a._1980_2023 ().pdf to text.\n",
      "Converted c.a._1989_2019 ().pdf to text.\n",
      "Converted c.a._19_2022 ().pdf to text.\n",
      "Converted c.a._1_2020 ().pdf to text.\n",
      "Converted c.a._1_k_2021 ().pdf to text.\n",
      "Converted c.a._2015_2022 ().pdf to text.\n",
      "Converted c.a._2016_2022 ().pdf to text.\n",
      "Converted c.a._201_2020 ().pdf to text.\n",
      "Converted c.a._202_2021 ().pdf to text.\n",
      "Converted C.A._204-L_2015 ().pdf to text.\n",
      "Converted c.a._2056_2019 ().pdf to text.\n",
      "Converted c.a._2063_2019 ().pdf to text.\n",
      "Converted c.a._2084_2016 ().pdf to text.\n",
      "Converted c.a._2092_2019 ().pdf to text.\n",
      "Converted c.a._20_2014 ().pdf to text.\n",
      "Converted C.A._2105_2008 ().pdf to text.\n",
      "Converted C.A._2109_2016 ().pdf to text.\n",
      "Converted c.a._2121_2017 ().pdf to text.\n",
      "Converted C.A._2133_2006 ().pdf to text.\n",
      "Converted C.A._2148_2016_dt_4-4-2018 ().pdf to text.\n",
      "Converted c.a._2150_2019 ().pdf to text.\n",
      "Converted c.a._2186_2017 ().pdf to text.\n",
      "Converted C.A._219-L_2015 ().pdf to text.\n",
      "Converted c.a._219_2015 ().pdf to text.\n",
      "Converted c.a._21_2021 ().pdf to text.\n"
     ]
    },
    {
     "name": "stderr",
     "output_type": "stream",
     "text": [
      "incorrect startxref pointer(1)\n"
     ]
    },
    {
     "name": "stdout",
     "output_type": "stream",
     "text": [
      "Converted C.A._2215_2006 ().pdf to text.\n",
      "Converted c.a._221_2018 ().pdf to text.\n",
      "Failed to convert C.A._222_L_2016_dt_10_10_2016 ().pdf. Error: Invalid Elementary Object starting with b'e' @11750: b' T\\x85))-399(2)-2e)4(r))-s))-55 jab (w)27(ho99(2)-m\\n[(19(5(r))-259((ak)4(e)4(s7(he)'\n"
     ]
    },
    {
     "name": "stderr",
     "output_type": "stream",
     "text": [
      "incorrect startxref pointer(1)\n"
     ]
    },
    {
     "name": "stdout",
     "output_type": "stream",
     "text": [
      "Converted c.a._226_p_2018 ().pdf to text.\n",
      "Converted C.A._227_L_2010 ().pdf to text.\n",
      "Converted c.a._228_2020 ().pdf to text.\n",
      "Converted c.a._230_2016 ().pdf to text.\n",
      "Converted c.a._231_2020 ().pdf to text.\n",
      "Converted c.a._232_2020 ().pdf to text.\n",
      "Converted c.a._232_p_2014 ().pdf to text.\n",
      "Converted C.A._233_2015 ().pdf to text.\n",
      "Converted C.A._2352_2008 ().pdf to text.\n",
      "Converted c.a._23_2017 ().pdf to text.\n",
      "Converted c.a._23_p_2017 ().pdf to text.\n",
      "Converted c.a._23_q_2017 ().pdf to text.\n",
      "Converted c.a._240_2020 ().pdf to text.\n",
      "Converted c.a._240_p_2014 ().pdf to text.\n",
      "Converted c.a._2433_2016 ().pdf to text.\n",
      "Converted c.a._2434_2016 ().pdf to text.\n",
      "Converted c.a._243_2011 ().pdf to text.\n",
      "Converted c.a._2440_2016 ().pdf to text.\n",
      "Converted c.a._2444_2016 ().pdf to text.\n",
      "Converted c.a._247_2021 ().pdf to text.\n",
      "Converted C.A._248-P_2010 ().pdf to text.\n",
      "Converted c.a._248_2014 ().pdf to text.\n",
      "Converted c.a._248_2020 ().pdf to text.\n",
      "Converted c.a._249_2020 ().pdf to text.\n",
      "Converted c.a._24_2015 ().pdf to text.\n",
      "Converted c.a._24_k_2019 ().pdf to text.\n"
     ]
    },
    {
     "name": "stderr",
     "output_type": "stream",
     "text": [
      "incorrect startxref pointer(1)\n"
     ]
    },
    {
     "name": "stdout",
     "output_type": "stream",
     "text": [
      "Converted c.a._24_q_2014 ().pdf to text.\n",
      "Converted c.a._251_2015 ().pdf to text.\n",
      "Failed to convert C.A._2561_2016 ().pdf. Error: Invalid Elementary Object starting with b'T' @12747: b'l)20119(aere )-1192 Tf\\n0 0 0 rg\\n1 0 0 1 477.84 255.84 Tm\\n[(ph(by aille ),[(ph(by'\n",
      "Converted C.A._2564_2001 ().pdf to text.\n",
      "Converted c.a._258_2020 ().pdf to text.\n",
      "Converted C.A._25_K_2018 ().pdf to text.\n",
      "Converted c.a._25_q_2018_dt_25_01_2024 ().pdf to text.\n",
      "Converted c.a._2613_2016 ().pdf to text.\n",
      "Converted c.a._2619_2016 ().pdf to text.\n",
      "Converted c.a._263_2014 ().pdf to text.\n",
      "Converted C.A._2669_2016 ().pdf to text.\n",
      "Converted c.a._268_2020 ().pdf to text.\n",
      "Converted C.A._26_2009 ().pdf to text.\n",
      "Converted c.a._26_2015l ().pdf to text.\n",
      "Converted C.A._26_K_2018 ().pdf to text.\n",
      "Converted c.a._26_k_2021 ().pdf to text.\n",
      "Converted c.a._26_q_2017 ().pdf to text.\n",
      "Converted c.a._271_2015 ().pdf to text.\n",
      "Converted c.a._273_2015 ().pdf to text.\n",
      "Converted C.A._2755_2006 ().pdf to text.\n",
      "Converted c.a._277_2014 ().pdf to text.\n",
      "Converted c.a._278_2015 ().pdf to text.\n",
      "Converted c.a._2797_2022 ().pdf to text.\n",
      "Converted C.A._27_2009 ().pdf to text.\n",
      "Converted C.A._280-L_2009 ().pdf to text.\n",
      "Converted c.a._284_2017 ().pdf to text.\n",
      "Converted C.A._288_2013 ().pdf to text.\n",
      "Converted c.a._290_2022 ().pdf to text.\n",
      "Converted c.a._292_2024 ().pdf to text.\n",
      "Converted C.A._294_2015 ().pdf to text.\n",
      "Converted C.A._300_2017 ().pdf to text.\n",
      "Converted C.A._301_2014 ().pdf to text.\n",
      "Converted c.a._303_2014 ().pdf to text.\n",
      "Converted C.A._305_2008 ().pdf to text.\n",
      "Converted C.A._307-L_2015 ().pdf to text.\n",
      "Converted c.a._307_2017 ().pdf to text.\n",
      "Converted C.A._308_2008 ().pdf to text.\n",
      "Converted C.A._308_2014 ().pdf to text.\n",
      "Converted c.a._3090_2022 ().pdf to text.\n",
      "Converted c.a._30_l_2018 ().pdf to text.\n",
      "Converted c.a._315_2022 ().pdf to text.\n",
      "Converted c.a._317_2022 ().pdf to text.\n",
      "Converted c.a._317_l_2011 ().pdf to text.\n",
      "Converted C.A._319_2014 ().pdf to text.\n"
     ]
    },
    {
     "name": "stderr",
     "output_type": "stream",
     "text": [
      "incorrect startxref pointer(1)\n"
     ]
    },
    {
     "name": "stdout",
     "output_type": "stream",
     "text": [
      "Converted c.a._31_2020 ().pdf to text.\n",
      "Failed to convert C.A._321-L_2014 ().pdf. Error: Invalid Elementary Object starting with b')' @3679: b'p)-10(t)32 259.68 8.)15( )-n\\nq\\n)-1(,)15( )-179(r)5(e)-1(c)-1(e)-1(i)17(p)-10(t)3'\n",
      "Converted C.A._322_2018 ().pdf to text.\n",
      "Converted c.a._323_2018 ().pdf to text.\n",
      "Converted c.a._324_2020 ().pdf to text.\n",
      "Converted c.a._326_l_2020 ().pdf to text.\n",
      "Converted c.a._329_2022 ().pdf to text.\n",
      "Converted c.a._333_2024_12072024 ().pdf to text.\n",
      "Converted c.a._333_2024_25062024 ().pdf to text.\n",
      "Converted c.a._333_2024_mv ().pdf to text.\n",
      "Converted C.A._334_2004 ().pdf to text.\n",
      "Converted c.a._339_2016 ().pdf to text.\n",
      "Converted c.a._33_k_2018 ().pdf to text.\n",
      "Converted C.A._340_2002 ().pdf to text.\n",
      "Converted c.a._342_2014 ().pdf to text.\n",
      "Converted c.a._343_l_2020 ().pdf to text.\n",
      "Converted c.a._346_2020 ().pdf to text.\n",
      "Converted c.a._350_2020 ().pdf to text.\n",
      "Converted c.a._353_2010 ().pdf to text.\n",
      "Converted C.A._353_2015 ().pdf to text.\n",
      "Converted c.a._354_2020 ().pdf to text.\n",
      "Converted c.a._357_2020 ().pdf to text.\n",
      "Converted C.A._359_2013 ().pdf to text.\n"
     ]
    },
    {
     "name": "stderr",
     "output_type": "stream",
     "text": [
      "incorrect startxref pointer(1)\n"
     ]
    },
    {
     "name": "stdout",
     "output_type": "stream",
     "text": [
      "Converted c.a._359_2020 ().pdf to text.\n",
      "Failed to convert C.A._363-L_2015 ().pdf. Error: Stream has ended unexpectedly\n",
      "Converted c.a._364_2023 ().pdf to text.\n",
      "Converted c.a._364_p_2019 ().pdf to text.\n",
      "Converted c.a._370_2020 ().pdf to text.\n",
      "Converted c.a._371_2020 ().pdf to text.\n",
      "Converted c.a._377_2014 ().pdf to text.\n",
      "Converted c.a._383_2013 ().pdf to text.\n",
      "Converted C.A._384_2014 ().pdf to text.\n",
      "Converted c.a._389_2015 ().pdf to text.\n"
     ]
    },
    {
     "name": "stderr",
     "output_type": "stream",
     "text": [
      "incorrect startxref pointer(1)\n"
     ]
    },
    {
     "name": "stdout",
     "output_type": "stream",
     "text": [
      "Converted C.A._394_2014 ().pdf to text.\n",
      "Converted c.a._396_2018 ().pdf to text.\n",
      "Converted C.A._39_2015 ().pdf to text.\n",
      "Converted c.a._39_k_2021 ().pdf to text.\n",
      "Converted C.A._3_2018 ().pdf to text.\n",
      "Converted C.A._3_2018_dt-14-9-2018 ().pdf to text.\n",
      "Converted c.a._3_k_2021 ().pdf to text.\n",
      "Converted c.a._3_l_2016 ().pdf to text.\n",
      "Converted c.a._401_2015 ().pdf to text.\n",
      "Converted c.a._404_2014 ().pdf to text.\n",
      "Converted c.a._408_2022 ().pdf to text.\n",
      "Converted c.a._40_2021 ().pdf to text.\n",
      "Converted c.a._40_q_2018 ().pdf to text.\n",
      "Converted c.a._410_2020 ().pdf to text.\n",
      "Converted c.a._414_2021 ().pdf to text.\n",
      "Converted c.a._415_2018 ().pdf to text.\n",
      "Converted C.A._417-L_2009 ().pdf to text.\n",
      "Converted c.a._419_2011 ().pdf to text.\n",
      "Converted c.a._420_2020 ().pdf to text.\n",
      "Converted c.a._421_2018 ().pdf to text.\n",
      "Converted C.A._424_2015 ().pdf to text.\n",
      "Converted C.A._427_2009 ().pdf to text.\n",
      "Converted c.a._429_2020 ().pdf to text.\n",
      "Converted C.A._42_K_2016 ().pdf to text.\n",
      "Converted c.a._42_p_2016 ().pdf to text.\n",
      "Converted c.a._431_2021_07072023 ().pdf to text.\n",
      "Converted c.a._433_2015 ().pdf to text.\n",
      "Converted c.a._433_2020 ().pdf to text.\n",
      "Converted c.a._438_2021 ().pdf to text.\n",
      "Converted c.a._43_q_2018 ().pdf to text.\n",
      "Converted C.A._441_2010 ().pdf to text.\n",
      "Converted c.a._441_2020 ().pdf to text.\n",
      "Converted c.a._441_2021 ().pdf to text.\n",
      "Converted c.a._443_2021 ().pdf to text.\n",
      "Converted c.a._444_2017 ().pdf to text.\n",
      "Converted C.A._446_2012 ().pdf to text.\n",
      "Converted c.a._446_2021 ().pdf to text.\n",
      "Converted C.A._448_2014_DJ ().pdf to text.\n",
      "Converted C.A._450_2010 ().pdf to text.\n",
      "Converted c.a._451_2017 ().pdf to text.\n",
      "Converted c.a._455_2012 ().pdf to text.\n",
      "Converted C.A._457_2010 ().pdf to text.\n",
      "Converted c.a._458_2017 ().pdf to text.\n",
      "Converted c.a._45_l_2018 ().pdf to text.\n",
      "Converted C.A._461_2014 ().pdf to text.\n",
      "Converted c.a._465_2021 ().pdf to text.\n",
      "Converted C.A._467_2015 ().pdf to text.\n",
      "Converted c.a._469_2021 ().pdf to text.\n",
      "Converted c.a._46_p_2020 ().pdf to text.\n",
      "Converted c.a._471_l_2012 ().pdf to text.\n",
      "Converted c.a._472_2013 ().pdf to text.\n",
      "Converted C.A._475-L_2010 ().pdf to text.\n",
      "Converted c.a._477_2021 ().pdf to text.\n",
      "Converted c.a._485_2020 ().pdf to text.\n",
      "Converted c.a._4862_2018 ().pdf to text.\n"
     ]
    },
    {
     "name": "stderr",
     "output_type": "stream",
     "text": [
      "incorrect startxref pointer(1)\n"
     ]
    },
    {
     "name": "stdout",
     "output_type": "stream",
     "text": [
      "Converted c.a._489_2013l ().pdf to text.\n",
      "Failed to convert C.A._490_2009 ().pdf. Error: Stream has ended unexpectedly\n",
      "Converted c.a._491_2012 ().pdf to text.\n",
      "Converted C.A._493_2011 ().pdf to text.\n",
      "Converted c.a._497_2020 ().pdf to text.\n",
      "Converted c.a._498_2020 ().pdf to text.\n",
      "Converted c.a._499_2017 ().pdf to text.\n",
      "Converted C.A._49_2015 ().pdf to text.\n",
      "Converted c.a._49_2022 ().pdf to text.\n",
      "Converted C.A._5-Q_2014 ().pdf to text.\n",
      "Converted c.a._502_2017 ().pdf to text.\n",
      "Converted C.A._503_2006 ().pdf to text.\n",
      "Converted c.a._506_2011 ().pdf to text.\n",
      "Converted c.a._507_2020 ().pdf to text.\n",
      "Converted C.A._508_2017 ().pdf to text.\n",
      "Converted c.a._508_2020 ().pdf to text.\n",
      "Converted C.A._510_2012 ().pdf to text.\n",
      "Converted c.a._512_2021 ().pdf to text.\n",
      "Converted c.a._513_2014 ().pdf to text.\n",
      "Converted C.A._514_2008 ().pdf to text.\n",
      "Converted c.a._515_2015 ().pdf to text.\n",
      "Converted c.a._51_2011 ().pdf to text.\n",
      "Converted c.a._51_k_2021 ().pdf to text.\n"
     ]
    },
    {
     "name": "stderr",
     "output_type": "stream",
     "text": [
      "incorrect startxref pointer(1)\n"
     ]
    },
    {
     "name": "stdout",
     "output_type": "stream",
     "text": [
      "Converted C.A._521_2015 ().pdf to text.\n",
      "Failed to convert C.A._525_2013 ().pdf. Error: Invalid Elementary Object starting with b'B' @11958: b'(u)] Tac)1(o)7(n)-62BT\\nTf\\n 12 Tf\\n0 0  rg\\n1.0006 0 0 1 321.12 865.68 Tm\\n[(-)] TJ\\n'\n",
      "Converted c.a._527_2020 ().pdf to text.\n",
      "Converted c.a._528_l_2012 ().pdf to text.\n",
      "Converted c.a._52_k_2022 ().pdf to text.\n",
      "Converted C.A._532_2015 ().pdf to text.\n",
      "Converted C.A._535_2015 ().pdf to text.\n",
      "Converted c.a._538_2022 ().pdf to text.\n",
      "Converted C.A._539_2003 ().pdf to text.\n",
      "Converted c.a._53_2015 ().pdf to text.\n",
      "Converted c.a._540_2020 ().pdf to text.\n",
      "Converted C.A._542-L_2012 ().pdf to text.\n",
      "Converted C.A._545_2015 ().pdf to text.\n",
      "Converted C.A._545_2015_dt_8-7-2015 ().pdf to text.\n",
      "Converted C.A._545_K_2010 ().pdf to text.\n",
      "Converted c.a._547_2012 ().pdf to text.\n",
      "Converted C.A._548_2009 ().pdf to text.\n",
      "Converted c.a._550_2020 ().pdf to text.\n",
      "Converted c.a._551_2020 ().pdf to text.\n",
      "Converted C.A._552_2015 ().pdf to text.\n",
      "Converted c.a._559_2020 ().pdf to text.\n",
      "Converted c.a._561_2020 ().pdf to text.\n",
      "Converted c.a._565_2011 ().pdf to text.\n",
      "Converted C.A._56_2011 ().pdf to text.\n",
      "Converted c.a._56_k_2021 ().pdf to text.\n",
      "Converted C.A._56_L_2018 ().pdf to text.\n",
      "Converted c.a._570_2011 ().pdf to text.\n",
      "Converted c.a._573_2013 ().pdf to text.\n",
      "Converted c.a._579_2021 ().pdf to text.\n"
     ]
    },
    {
     "name": "stderr",
     "output_type": "stream",
     "text": [
      "incorrect startxref pointer(2)\n"
     ]
    },
    {
     "name": "stdout",
     "output_type": "stream",
     "text": [
      "Converted c.a._57_k_2018 ().pdf to text.\n",
      "Converted C.A._585_2018 ().pdf to text.\n",
      "Converted C.A._587_2017 ().pdf to text.\n",
      "Converted C.A._588_2017 ().pdf to text.\n",
      "Converted c.a._58_2020 ().pdf to text.\n",
      "Converted c.a._597_2020 ().pdf to text.\n",
      "Converted c.a._601_2019 ().pdf to text.\n",
      "Converted C.A._605_2015 ().pdf to text.\n",
      "Converted c.a._607_2021 ().pdf to text.\n"
     ]
    },
    {
     "name": "stderr",
     "output_type": "stream",
     "text": [
      "incorrect startxref pointer(1)\n"
     ]
    },
    {
     "name": "stdout",
     "output_type": "stream",
     "text": [
      "Converted c.a._608_2021 ().pdf to text.\n"
     ]
    },
    {
     "name": "stderr",
     "output_type": "stream",
     "text": [
      "NumberObject(b'20-33') invalid; use 0 instead\n"
     ]
    },
    {
     "name": "stdout",
     "output_type": "stream",
     "text": [
      "Failed to convert C.A._613_2014 ().pdf. Error: Stream has ended unexpectedly\n",
      "Converted C.A._616_2006 ().pdf to text.\n",
      "Converted C.A._616_2014 ().pdf to text.\n",
      "Converted c.a._616_2020 ().pdf to text.\n",
      "Converted c.a._617_2020 ().pdf to text.\n",
      "Converted C.A._620_2006 ().pdf to text.\n",
      "Converted c.a._621_2019 ().pdf to text.\n",
      "Converted C.A._622 _2008 ().pdf to text.\n",
      "Converted c.a._630_2010 ().pdf to text.\n",
      "Converted c.a._632_2019 ().pdf to text.\n",
      "Converted C.A._633_2007 ().pdf to text.\n",
      "Converted c.a._634_2014 ().pdf to text.\n",
      "Converted C.A._634_L_2012 ().pdf to text.\n",
      "Converted c.a._639_2014 ().pdf to text.\n",
      "Converted c.a._647_2018 ().pdf to text.\n",
      "Converted c.a._648_2021 ().pdf to text.\n",
      "Converted c.a._648_2022 ().pdf to text.\n",
      "Converted c.a._649_2019 ().pdf to text.\n",
      "Converted c.a._64_2022 ().pdf to text.\n"
     ]
    },
    {
     "name": "stderr",
     "output_type": "stream",
     "text": [
      "incorrect startxref pointer(1)\n"
     ]
    },
    {
     "name": "stdout",
     "output_type": "stream",
     "text": [
      "Converted C.A._651_2012 ().pdf to text.\n",
      "Converted C.A._651_2014 ().pdf to text.\n",
      "Converted c.a._653_2014 ().pdf to text.\n",
      "Converted C.A._654_2007 ().pdf to text.\n",
      "Converted C.A._654_2010 ().pdf to text.\n",
      "Converted c.a._654_2021 ().pdf to text.\n",
      "Converted c.a._656_2011 ().pdf to text.\n",
      "Converted c.a._65_k_2019 ().pdf to text.\n",
      "Converted c.a._661_2018 ().pdf to text.\n",
      "Converted C.A._663_2013 ().pdf to text.\n",
      "Converted c.a._664_k_2017 ().pdf to text.\n",
      "Converted c.a._668_2022 ().pdf to text.\n",
      "Converted c.a._675_2019 ().pdf to text.\n",
      "Converted c.a._681_2020 ().pdf to text.\n"
     ]
    },
    {
     "name": "stderr",
     "output_type": "stream",
     "text": [
      "incorrect startxref pointer(1)\n"
     ]
    },
    {
     "name": "stdout",
     "output_type": "stream",
     "text": [
      "Converted C.A._682_2008 ().pdf to text.\n",
      "Failed to convert C.A._694_2008 ().pdf. Error: Invalid Elementary Object starting with b'q' @12587: b'48.8 Tm\\n[(C)9()6(h)\\nq\\nB(v)5(i)11(8-369(o)6(f)-6( )-369()-8(o)6tTJ\\nET\\nQ\\n )-69(o)6'\n",
      "Converted C.A._697_2008 ().pdf to text.\n",
      "Converted C.A._699_2017 ().pdf to text.\n",
      "Converted C.A._69_2015 ().pdf to text.\n",
      "Converted C.A._6_2016 ().pdf to text.\n",
      "Converted c.a._700_2014 ().pdf to text.\n",
      "Converted c.a._700_2016 ().pdf to text.\n",
      "Converted C.A._700_2017 ().pdf to text.\n"
     ]
    },
    {
     "name": "stderr",
     "output_type": "stream",
     "text": [
      "incorrect startxref pointer(2)\n"
     ]
    },
    {
     "name": "stdout",
     "output_type": "stream",
     "text": [
      "Converted C.A._704_2017 ().pdf to text.\n",
      "Converted C.A._709_2017 ().pdf to text.\n",
      "Converted C.A._710_2014 ().pdf to text.\n",
      "Converted c.a._712_2020 ().pdf to text.\n",
      "Converted C.A._718_2007 ().pdf to text.\n",
      "Converted c.a._71_p_2014 ().pdf to text.\n",
      "Converted c.a._71_p_2014_urdu ().pdf to text.\n",
      "Converted c.a._722_2012 ().pdf to text.\n",
      "Converted C.A._723_2013 ().pdf to text.\n",
      "Converted C.A._725_2008 ().pdf to text.\n",
      "Converted c.a._730_2015 ().pdf to text.\n",
      "Converted c.a._731_2016 ().pdf to text.\n",
      "Converted c.a._735_2016 ().pdf to text.\n",
      "Converted c.a._73_2016 ().pdf to text.\n",
      "Converted c.a._73_2020 ().pdf to text.\n",
      "Converted c.a._73_k_2018 ().pdf to text.\n",
      "Converted c.a._749_2013 ().pdf to text.\n",
      "Converted c.a._749_2021 ().pdf to text.\n",
      "Converted c.a._754_2020 ().pdf to text.\n",
      "Converted c.a._756_2021 ().pdf to text.\n",
      "Converted c.a._759_2020 ().pdf to text.\n",
      "Converted C.A._760_2016 ().pdf to text.\n",
      "Converted c.a._762_l_2012 ().pdf to text.\n",
      "Converted c.a._764_2021 ().pdf to text.\n",
      "Converted C.A._767_2014 ().pdf to text.\n",
      "Converted C.A._774_2013 ().pdf to text.\n",
      "Converted c.a._775_2015 ().pdf to text.\n",
      "Converted C.A._77_2015 ().pdf to text.\n",
      "Converted c.a._781_2017 ().pdf to text.\n",
      "Converted c.a._782_2014 ().pdf to text.\n",
      "Converted C.A._785_2017 ().pdf to text.\n",
      "Converted C.A._786_2017 ().pdf to text.\n",
      "Converted C.A._794_2006 ().pdf to text.\n",
      "Converted c.a._795_2017 ().pdf to text.\n",
      "Converted c.a._795_l_2012 ().pdf to text.\n",
      "Converted c.a._797_2013 ().pdf to text.\n",
      "Converted c.a._797_2017 ().pdf to text.\n",
      "Converted c.a._799_2007 ().pdf to text.\n",
      "Converted c.a._799_2021 ().pdf to text.\n",
      "Converted C.A._79_P_2013 ().pdf to text.\n",
      "Converted C.A._800_2011 ().pdf to text.\n",
      "Converted c.a._801_2021 ().pdf to text.\n"
     ]
    },
    {
     "name": "stderr",
     "output_type": "stream",
     "text": [
      "incorrect startxref pointer(1)\n"
     ]
    },
    {
     "name": "stdout",
     "output_type": "stream",
     "text": [
      "Converted c.a._803_2016 ().pdf to text.\n"
     ]
    },
    {
     "name": "stderr",
     "output_type": "stream",
     "text": [
      "incorrect startxref pointer(1)\n"
     ]
    },
    {
     "name": "stdout",
     "output_type": "stream",
     "text": [
      "Converted C.A._805_2016 () (1).pdf to text.\n",
      "Converted C.A._805_2016 ().pdf to text.\n"
     ]
    },
    {
     "name": "stderr",
     "output_type": "stream",
     "text": [
      "incorrect startxref pointer(1)\n"
     ]
    },
    {
     "name": "stdout",
     "output_type": "stream",
     "text": [
      "Converted C.A._80_L_2014 ().pdf to text.\n",
      "Failed to convert C.A._815_2016 ().pdf. Error: Invalid Elementary Object starting with b'B' @12003: b'(the )-399(Punjab ) Bashir)836Dmh1\\n/F2 06 0 0 1 365)-399(of )-399(th)] TJ\\nET\\nQ\\nq'\n",
      "Converted c.a._81_k_2022 ().pdf to text.\n",
      "Converted c.a._822_2014 ().pdf to text.\n"
     ]
    },
    {
     "name": "stderr",
     "output_type": "stream",
     "text": [
      "incorrect startxref pointer(1)\n"
     ]
    },
    {
     "name": "stdout",
     "output_type": "stream",
     "text": [
      "Converted C.A._825_2015 ().pdf to text.\n",
      "Failed to convert C.A._826_2016 ().pdf. Error: Invalid Elementary Object starting with b')' @11822: b' f\\n0 0 0 rg3BT\\n/F3or)95.l178 Tm\\n/F3 12.96 Tf\\n0 0 0 rg\\n1.0006 0 0 1 187.2 118.08 '\n",
      "Converted c.a._827_2020 ().pdf to text.\n",
      "Converted c.a._82_2016 ().pdf to text.\n",
      "Converted C.A._833_2006 ().pdf to text.\n",
      "Converted c.a._835_2021 ().pdf to text.\n",
      "Converted c.a._836_l_2013 ().pdf to text.\n",
      "Converted c.a._837_2011 ().pdf to text.\n",
      "Converted c.a._837_2015 ().pdf to text.\n",
      "Converted C.A._839_2015 ().pdf to text.\n",
      "Converted c.a._840_2017 ().pdf to text.\n",
      "Converted C.A._843_2012 ().pdf to text.\n",
      "Converted C.A._845_2010 ().pdf to text.\n",
      "Converted c.a._849_2015 ().pdf to text.\n",
      "Converted c.a._84_k_2023 ().pdf to text.\n",
      "Converted C.A._85_K_2015 ().pdf to text.\n",
      "Converted C.A._861_2007 ().pdf to text.\n",
      "Converted c.a._864_2017 ().pdf to text.\n",
      "Converted C.A._870_2014 ().pdf to text.\n",
      "Converted c.a._875_2017 ().pdf to text.\n",
      "Converted C.A._886_2014 ().pdf to text.\n"
     ]
    },
    {
     "name": "stderr",
     "output_type": "stream",
     "text": [
      "incorrect startxref pointer(1)\n"
     ]
    },
    {
     "name": "stdout",
     "output_type": "stream",
     "text": [
      "Converted c.a._894_2015 ().pdf to text.\n",
      "Converted C.A._8_2007 ().pdf to text.\n",
      "Converted c.a._8_l_2009 ().pdf to text.\n",
      "Converted c.a._8_q_2017 ().pdf to text.\n",
      "Converted c.a._900_2020 ().pdf to text.\n",
      "Converted c.a._902_2020 ().pdf to text.\n",
      "Converted C.A._904_2013 ().pdf to text.\n",
      "Converted C.A._908_2012 ().pdf to text.\n",
      "Converted c.a._908_2015 ().pdf to text.\n",
      "Converted c.a._909_2020 ().pdf to text.\n",
      "Converted C.A._90_2011_EnglishVersion ().pdf to text.\n",
      "Converted C.A._90_2011_UrduVersion ().pdf to text.\n",
      "Converted c.a._90_k_2023 ().pdf to text.\n",
      "Converted C.A._911_2015 ().pdf to text.\n",
      "Converted c.a._914_l_2013 ().pdf to text.\n",
      "Converted c.a._91_k_2017 ().pdf to text.\n",
      "Converted c.a._925_2020 ().pdf to text.\n",
      "Converted c.a._928_2020 ().pdf to text.\n",
      "Converted c.a._929_2017 ().pdf to text.\n",
      "Converted c.a._931_2020 ().pdf to text.\n",
      "Converted c.a._936_2020 ().pdf to text.\n",
      "Converted c.a._937_2018 ().pdf to text.\n"
     ]
    },
    {
     "name": "stderr",
     "output_type": "stream",
     "text": [
      "incorrect startxref pointer(1)\n"
     ]
    },
    {
     "name": "stdout",
     "output_type": "stream",
     "text": [
      "Failed to convert C.A._939_2004 ().pdf. Error: Invalid Elementary Object starting with b'B' @14160: b'(Constitution. )-13\\nBT\\n/F2 10 rg\\n1.4 0 0 1 115.68 157.44 Tm\\n[(Constitution. )-13'\n",
      "Converted C.A._93_2015 ().pdf to text.\n",
      "Converted C.A._94-P_2012 ().pdf to text.\n",
      "Converted C.A._946_2014 ().pdf to text.\n",
      "Converted c.a._94_2008 ().pdf to text.\n",
      "Converted C.A._94_2012 ().pdf to text.\n",
      "Converted c.a._954_2014 ().pdf to text.\n",
      "Converted c.a._957_2014 ().pdf to text.\n",
      "Converted C.A._95_2005 ().pdf to text.\n",
      "Converted c.a._95_p_2014 ().pdf to text.\n",
      "Converted c.a._960_2017 ().pdf to text.\n",
      "Converted c.a._977_2018 ().pdf to text.\n",
      "Converted c.a._97_2003 ().pdf to text.\n",
      "Converted c.a._97_2021 ().pdf to text.\n",
      "Converted c.a._981_2018 ().pdf to text.\n",
      "Converted c.a._981_2018_02012024 ().pdf to text.\n",
      "Converted c.a._981_2018_25032024 ().pdf to text.\n",
      "Converted c.a._982_2018_08_jan_2024 ().pdf to text.\n",
      "Converted c.a._982_2018_19022024 ().pdf to text.\n",
      "Converted c.a._982_2018_19022024_2 ().pdf to text.\n",
      "Converted c.a._985_2020 ().pdf to text.\n",
      "Converted C.A._992_2013 ().pdf to text.\n",
      "Converted c.a._997_2010 ().pdf to text.\n",
      "Converted c.a._998_2020 ().pdf to text.\n",
      "Converted c.a._999_2017 ().pdf to text.\n",
      "Converted C.A._9_2006 ().pdf to text.\n",
      "Converted C.M.A.1427of2011 ().pdf to text.\n",
      "Converted c.m.a.145_q_2022_dt_02_01_23 ().pdf to text.\n",
      "Converted C.M.A.2371of2012dt[07-06-2012] ().pdf to text.\n",
      "Converted C.M.A.2376of2013inConst.P.105-dt-7-5-13 ().pdf to text.\n",
      "Converted C.M.A.2376of2013inConst.P.105-dt-9-5-13 ().pdf to text.\n",
      "Converted C.M.A.3325_of_2012_dt_11-2-2013 ().pdf to text.\n"
     ]
    },
    {
     "name": "stderr",
     "output_type": "stream",
     "text": [
      "incorrect startxref pointer(1)\n"
     ]
    },
    {
     "name": "stdout",
     "output_type": "stream",
     "text": [
      "Converted C.M.A.3325_of_2012_dt_31-1-2013_ENG_URDU.pdf ().pdf to text.\n",
      "Failed to convert C.M.A.3393of2013-dt10.6.2013 ().pdf. Error: list index out of range\n",
      "Converted C.M.A.3470_2013 ().pdf to text.\n",
      "Converted c.m.a.4343_2014_etc_with_urdu_translation ().pdf to text.\n",
      "Converted C.M.A.4918of2012-dt-26-4-2013 ().pdf to text.\n",
      "Converted C.M.A.5144of201(ShortOrder)1 ().pdf to text.\n",
      "Converted C.M.A.5216OF2012 ().pdf to text.\n",
      "Converted C.M.A.6309_2018_14072018 ().pdf to text.\n",
      "Converted C.M.A.64of2013-dt-30-4-2013 ().pdf to text.\n",
      "Converted C.M.A.64of2013dt-12-3-2013 ().pdf to text.\n",
      "Converted C.M.A.No.1535and1536of2013 ().pdf to text.\n",
      "Converted C.M.A.No.19002of2012Dt-27.09.2012 ().pdf to text.\n",
      "Converted C.M.A.No.3685of2012-dt-17-1-2013 ().pdf to text.\n",
      "Converted C.M.A.No.64of2013-dt13.3.2013 ().pdf to text.\n",
      "Converted C.M.A.No.64of2013-dt14.3.2013 ().pdf to text.\n",
      "Converted c.m.a.no20&21of2009 ().pdf to text.\n",
      "Converted C.M.A.NO2380OF2013-DT-25.4.2013 ().pdf to text.\n",
      "Converted c.m.a._10566_2023 ().pdf to text.\n",
      "Converted C.M.A._10618_2018_dt_13-12-2018 ().pdf to text.\n",
      "Converted c.m.a._10945_2022 ().pdf to text.\n",
      "Converted c.m.a._11338_2021 ().pdf to text.\n",
      "Converted c.m.a._1243_2021 ().pdf to text.\n",
      "Converted c.m.a._1243_2021_04042022 ().pdf to text.\n",
      "Converted c.m.a._1243_2021_04042022_2 ().pdf to text.\n",
      "Converted c.m.a._1243_2021_short_order ().pdf to text.\n",
      "Converted c.m.a._12587_2021 ().pdf to text.\n",
      "Converted c.m.a._1609_l_2021 ().pdf to text.\n",
      "Converted C.M.A._1656_2015 ().pdf to text.\n",
      "Converted c.m.a._1824_2021 ().pdf to text.\n",
      "Converted c.m.a._2012_2023_10042023 ().pdf to text.\n"
     ]
    },
    {
     "name": "stderr",
     "output_type": "stream",
     "text": [
      "incorrect startxref pointer(2)\n"
     ]
    },
    {
     "name": "stdout",
     "output_type": "stream",
     "text": [
      "Converted C.M.A._204_2017 ().pdf to text.\n",
      "Converted C.M.A._209_K_2014_dt_5-5-2016 ().pdf to text.\n",
      "Converted C.M.A._230_2019 ().pdf to text.\n",
      "Converted C.M.A._230_2019_09072019 ().pdf to text.\n",
      "Converted C.M.A._2593_2008 ().pdf to text.\n",
      "Converted c.m.a._2769_2023 ().pdf to text.\n",
      "Converted c.m.a._284_281 ().pdf to text.\n",
      "Converted C.M.A._2939_2017 ().pdf to text.\n",
      "Converted C.M.A._3221_2012 ().pdf to text.\n",
      "Converted C.M.A._3305_2014 ().pdf to text.\n",
      "Converted C.M.A._3325_2012_OrderDated_21-8-15 ().pdf to text.\n",
      "Converted c.m.a._3492_2022 ().pdf to text.\n",
      "Converted c.m.a._3577_2019_15112023 ().pdf to text.\n",
      "Converted c.m.a._3610_2022 ().pdf to text.\n",
      "Converted C.M.A._3704_2015 ().pdf to text.\n"
     ]
    },
    {
     "name": "stderr",
     "output_type": "stream",
     "text": [
      "incorrect startxref pointer(2)\n"
     ]
    },
    {
     "name": "stdout",
     "output_type": "stream",
     "text": [
      "Converted C.M.A._376-K_2014 ().pdf to text.\n"
     ]
    },
    {
     "name": "stderr",
     "output_type": "stream",
     "text": [
      "incorrect startxref pointer(1)\n"
     ]
    },
    {
     "name": "stdout",
     "output_type": "stream",
     "text": [
      "Converted C.M.A._376_K_2016_dt_01_08_2016 ().pdf to text.\n",
      "Converted C.M.A._3854_2014 ().pdf to text.\n",
      "Converted C.M.A._3854_2014_dt_17-04-2015 ().pdf to text.\n",
      "Converted C.M.A._3854_2014_dt_31-3-2015 ().pdf to text.\n",
      "Converted c.m.a._3932_2023 ().pdf to text.\n",
      "Converted C.M.A._3986_2017 ().pdf to text.\n",
      "Converted c.m.a._4053_2018 ().pdf to text.\n",
      "Converted C.M.A._4109_2015 ().pdf to text.\n"
     ]
    },
    {
     "name": "stderr",
     "output_type": "stream",
     "text": [
      "incorrect startxref pointer(1)\n"
     ]
    },
    {
     "name": "stdout",
     "output_type": "stream",
     "text": [
      "Converted C.M.A._4109_2015_Urdu ().pdf to text.\n",
      "Converted c.m.a._4821_2018 ().pdf to text.\n",
      "Converted c.m.a._4821_2018_13102021 ().pdf to text.\n",
      "Converted c.m.a._4821_2018_14012022 ().pdf to text.\n",
      "Converted c.m.a._4821_2018_15112021 ().pdf to text.\n",
      "Converted c.m.a._490_2021 ().pdf to text.\n",
      "Converted c.m.a._490_2021_11022021 ().pdf to text.\n",
      "Converted c.m.a._490_2021_20022021 ().pdf to text.\n",
      "Converted c.m.a._501_k_2023 ().pdf to text.\n",
      "Converted c.m.a._5602_2021 ().pdf to text.\n",
      "Converted c.m.a._5777_2021 ().pdf to text.\n",
      "Converted C.M.A._592_K_2013_order_dt_26_03_2015 ().pdf to text.\n",
      "Converted C.M.A._6155_2018 ().pdf to text.\n",
      "Converted C.M.A._6250_2018 ().pdf to text.\n",
      "Converted c.m.a._6336_2023 ().pdf to text.\n",
      "Converted c.m.a._649_l_2021 ().pdf to text.\n",
      "Converted c.m.a._6762_2020 ().pdf to text.\n",
      "Converted c.m.a._6762_2020_13032021 ().pdf to text.\n",
      "Converted c.m.a._677_2020 ().pdf to text.\n",
      "Converted c.m.a._6786_2020 ().pdf to text.\n",
      "Converted c.m.a._7084_2020 ().pdf to text.\n",
      "Converted c.m.a._7084_2020_opinion_hj_5 ().pdf to text.\n",
      "Converted c.m.a._7139_2019 ().pdf to text.\n",
      "Converted c.m.a._7923_2019 ().pdf to text.\n",
      "Converted c.m.a._8093_2020 ().pdf to text.\n",
      "Converted C.M.A._8215_2016 ().pdf to text.\n",
      "Converted c.m.a._8758_2018 () (1).pdf to text.\n",
      "Converted C.M.A._8758_2018 ().pdf to text.\n",
      "Converted c.m.a._8758_2018_23nov2023 ().pdf to text.\n"
     ]
    },
    {
     "name": "stderr",
     "output_type": "stream",
     "text": [
      "incorrect startxref pointer(1)\n"
     ]
    },
    {
     "name": "stdout",
     "output_type": "stream",
     "text": [
      "Converted c.m.a._87_2122 ().pdf to text.\n",
      "Converted c.m.a._9009_2022 ().pdf to text.\n",
      "Failed to convert c.m.app.2274_2014_in_const.p.51_2010_final_order_dt_26.05.2014 ().pdf. Error: Stream has ended unexpectedly\n",
      "Converted c.m.appeal._44_2022 ().pdf to text.\n",
      "Converted c.m.appeal._47_2020 ().pdf to text.\n",
      "Converted c.m.appeal_39_2021 ().pdf to text.\n",
      "Converted C.M.A_687_2017 ().pdf to text.\n",
      "Converted c.p.1603_2012 ().pdf to text.\n",
      "Converted c.p.1795_2022 ().pdf to text.\n",
      "Converted c.p.2124_2013 ().pdf to text.\n",
      "Converted c.p.2132_2014_with_urdu_translation ().pdf to text.\n",
      "Converted C.P.2255-2010-03.07.2013 ().pdf to text.\n",
      "Converted C.P.2255OF2010dt-8-4-2013 ().pdf to text.\n",
      "Converted C.P.2408-LOF2009 ().pdf to text.\n",
      "Converted C.P.41_66_2015 ().pdf to text.\n",
      "Converted c.p.549-k_2019 ().pdf to text.\n",
      "Converted c.p.614_p_2022 ().pdf to text.\n",
      "Converted C.P.756-Lof2013-dt-10-5-2013 ().pdf to text.\n",
      "Converted C.P.784of2014 ().pdf to text.\n",
      "Converted C.P.796of2007 ().pdf to text.\n",
      "Converted C.P.796of2007-dt-10-5-2013 ().pdf to text.\n",
      "Converted C.P.796of2007-UrduTranslation-dt-10-5-2013 ().pdf to text.\n",
      "Converted c.p.l.a.1974_l_2020 ().pdf to text.\n",
      "Converted c.p.l.a.6052_2021 ().pdf to text.\n",
      "Converted c.p.l.a.928_l_2021 ().pdf to text.\n",
      "Converted C.P.No.1017-Lof2011 ().pdf to text.\n",
      "Converted C.P.No.2255of2010-dt-27-6-2013 ().pdf to text.\n",
      "Converted C.P.No.2255of2010-dt-28-6-2013 ().pdf to text.\n",
      "Converted C.P.No.240and241-Kof2013 ().pdf to text.\n",
      "Converted C.P.No.636of2013-dt-9-5-2013 ().pdf to text.\n",
      "Converted c.p._1007_2022 ().pdf to text.\n",
      "Converted c.p._1017_2021 ().pdf to text.\n",
      "Converted c.p._101_2020 ().pdf to text.\n",
      "Converted c.p._1026_2021 ().pdf to text.\n",
      "Converted c.p._1026_l_2019 ().pdf to text.\n",
      "Converted c.p._1028_2019 ().pdf to text.\n",
      "Converted c.p._1032_k_2023 ().pdf to text.\n",
      "Converted c.p._1033_2020 ().pdf to text.\n",
      "Converted c.p._1057_2019 ().pdf to text.\n",
      "Converted c.p._1066_2022 ().pdf to text.\n",
      "Converted C.P._1067_2016 ().pdf to text.\n",
      "Converted C.P._1069_K_2018 ().pdf to text.\n",
      "Converted c.p._1077_2018 ().pdf to text.\n",
      "Converted C.P._107_2018 ().pdf to text.\n",
      "Converted c.p._1084_2011 ().pdf to text.\n",
      "Converted C.P._1088_2016 ().pdf to text.\n",
      "Converted c.p._1092_2018 ().pdf to text.\n",
      "Converted c.p._1097_l_2020 ().pdf to text.\n",
      "Converted c.p._1123_2020 ().pdf to text.\n",
      "Converted c.p._1125_2018 ().pdf to text.\n",
      "Converted c.p._1127_2020 ().pdf to text.\n",
      "Converted c.p._1128_2020 ().pdf to text.\n",
      "Converted c.p._1133_l_2016 ().pdf to text.\n",
      "Converted c.p._1134_l_2018 ().pdf to text.\n",
      "Converted c.p._1148_l_2021 ().pdf to text.\n",
      "Converted c.p._1159_2019 ().pdf to text.\n",
      "Converted c.p._1165_2021 ().pdf to text.\n",
      "Converted c.p._116_2020_16112023 ().pdf to text.\n",
      "Converted c.p._1170_2018 ().pdf to text.\n",
      "Converted c.p._1171_2021 ().pdf to text.\n",
      "Converted c.p._1178_k_2022 ().pdf to text.\n",
      "Converted C.P._1191_2017 ().pdf to text.\n",
      "Converted c.p._1193_2020 ().pdf to text.\n",
      "Converted C.P._1195_2019 ().pdf to text.\n",
      "Converted C.P._1247_2016 ().pdf to text.\n",
      "Converted c.p._1257_2020 ().pdf to text.\n",
      "Converted c.p._1274_l_2013 ().pdf to text.\n",
      "Converted c.p._1276_2020 ().pdf to text.\n"
     ]
    },
    {
     "name": "stderr",
     "output_type": "stream",
     "text": [
      "incorrect startxref pointer(1)\n"
     ]
    },
    {
     "name": "stdout",
     "output_type": "stream",
     "text": [
      "Converted c.p._1278_k_2023 ().pdf to text.\n",
      "Failed to convert C.P._1282_2014_dt_4-9-15 ().pdf. Error: Invalid Elementary Object starting with b')' @20100: b'2 Tm\\n[(o)2(f)7( )-32)3(d)2(i)8(n)-43399 Tf\\n0 0 0 re)1((8(n)-4(c)9(e)-20( -32(200'\n",
      "Converted c.p._1285_2020 ().pdf to text.\n",
      "Converted c.p._1289_2020 ().pdf to text.\n",
      "Converted c.p._1290_l_2019 ().pdf to text.\n",
      "Converted c.p._1303_2020 ().pdf to text.\n",
      "Converted C.P._130_2015 ().pdf to text.\n",
      "Converted c.p._1319_2020 ().pdf to text.\n",
      "Converted c.p._1328_2024 ().pdf to text.\n",
      "Converted c.p._132_p_2021 ().pdf to text.\n",
      "Converted c.p._1331_l_2017 ().pdf to text.\n",
      "Converted c.p._1336_l_2021 ().pdf to text.\n",
      "Converted C.P._1340_2014 ().pdf to text.\n",
      "Converted c.p._1345_l_2021 ().pdf to text.\n",
      "Converted c.p._1347_2019 ().pdf to text.\n",
      "Converted c.p._1354_2020 ().pdf to text.\n",
      "Converted c.p._1369_l_2019 ().pdf to text.\n",
      "Converted c.p._138_p_2015 ().pdf to text.\n",
      "Converted c.p._1393_l_2020 ().pdf to text.\n",
      "Converted c.p._140_l_2015 ().pdf to text.\n",
      "Converted c.p._1417_2022 ().pdf to text.\n",
      "Converted c.p._1418_2023 ().pdf to text.\n"
     ]
    },
    {
     "name": "stderr",
     "output_type": "stream",
     "text": [
      "incorrect startxref pointer(1)\n"
     ]
    },
    {
     "name": "stdout",
     "output_type": "stream",
     "text": [
      "Converted c.p._1422_l_2021_28062024 ().pdf to text.\n",
      "Failed to convert C.P._1424_2016 ().pdf. Error: '/Root'\n",
      "Converted c.p._1431_2022 ().pdf to text.\n",
      "Converted c.p._1441_2021 ().pdf to text.\n",
      "Converted c.p._1444_2019 ().pdf to text.\n",
      "Converted c.p._1451_2020 ().pdf to text.\n",
      "Converted C.P._145_2015 ().pdf to text.\n",
      "Converted C.P._1476_2016 ().pdf to text.\n",
      "Converted c.p._1483_l_2018 ().pdf to text.\n",
      "Converted c.p._1496_k_2021 ().pdf to text.\n",
      "Converted C.P._1499-L_2012 ().pdf to text.\n",
      "Converted c.p._1503_2022 ().pdf to text.\n",
      "Converted c.p._150_2024 ().pdf to text.\n",
      "Converted c.p._150_2024_3012024 ().pdf to text.\n",
      "Converted C.P._1515_2016 ().pdf to text.\n",
      "Converted c.p._1517_2022 ().pdf to text.\n",
      "Converted c.p._151_2024 ().pdf to text.\n",
      "Converted c.p._152_2022 ().pdf to text.\n",
      "Converted c.p._1530_2019 ().pdf to text.\n",
      "Converted c.p._1532_2022 ().pdf to text.\n",
      "Converted c.p._1540_2018 ().pdf to text.\n",
      "Converted c.p._1542_2017 ().pdf to text.\n",
      "Converted c.p._154_2019 ().pdf to text.\n",
      "Converted c.p._1550_2017 ().pdf to text.\n",
      "Converted c.p._1554_l_2020 ().pdf to text.\n",
      "Converted c.p._1564_2020 ().pdf to text.\n",
      "Converted c.p._1567_l_2019 ().pdf to text.\n",
      "Converted c.p._1591_l_2017 ().pdf to text.\n",
      "Converted c.p._1593_l_2020 ().pdf to text.\n",
      "Converted C.P._1598_2016 ().pdf to text.\n",
      "Converted c.p._159_2021 ().pdf to text.\n",
      "Converted c.p._159_2024 ().pdf to text.\n",
      "Converted C.P._160-K_2016 ().pdf to text.\n",
      "Converted c.p._1600_2021 ().pdf to text.\n",
      "Converted C.P._1616_2018 ().pdf to text.\n",
      "Converted c.p._1628_2020 ().pdf to text.\n",
      "Converted c.p._1630_2018 ().pdf to text.\n",
      "Converted C.P._1638_2014 ().pdf to text.\n"
     ]
    },
    {
     "name": "stderr",
     "output_type": "stream",
     "text": [
      "incorrect startxref pointer(1)\n",
      "NumberObject(b'27-5') invalid; use 0 instead\n"
     ]
    },
    {
     "name": "stdout",
     "output_type": "stream",
     "text": [
      "Converted c.p._1647_2018 ().pdf to text.\n",
      "Failed to convert C.P._1648-L_2010 ().pdf. Error: Stream has ended unexpectedly\n",
      "Converted C.P._1662_2016 ().pdf to text.\n",
      "Converted c.p._1665_2020 ().pdf to text.\n",
      "Converted c.p._1676_l_2011 ().pdf to text.\n",
      "Converted c.p._167_p_2022 ().pdf to text.\n",
      "Converted c.p._167_p_2022_an ().pdf to text.\n",
      "Converted c.p._167_q_2023 ().pdf to text.\n",
      "Converted c.p._1691_l_2018 ().pdf to text.\n",
      "Converted c.p._1692_l_2020 ().pdf to text.\n",
      "Converted c.p._1692_l_2022 ().pdf to text.\n",
      "Converted C.P._1700_2011 ().pdf to text.\n",
      "Converted C.P._1702_2015 ().pdf to text.\n",
      "Converted C.P._1707_2018 ().pdf to text.\n",
      "Converted c.p._1708_l_2022 ().pdf to text.\n",
      "Converted c.p._1716_2022 ().pdf to text.\n",
      "Converted C.P._1728_L_2018 ().pdf to text.\n",
      "Converted c.p._1737_l_2020 ().pdf to text.\n",
      "Converted C.P._173_2017 ().pdf to text.\n",
      "Converted C.P._173_2017_dt_31-1-2017 ().pdf to text.\n",
      "Converted c.p._173_q_2023 ().pdf to text.\n",
      "Converted c.p._1743_2020_03032023 ().pdf to text.\n",
      "Converted c.p._174_q_2021 ().pdf to text.\n",
      "Converted c.p._1751_l_2021 ().pdf to text.\n",
      "Converted c.p._175_k_2022 ().pdf to text.\n",
      "Converted C.P._1774_2014 ().pdf to text.\n",
      "Converted C.P._1774_2015 ().pdf to text.\n",
      "Converted c.p._1775_2022 ().pdf to text.\n",
      "Converted c.p._1777_2020 ().pdf to text.\n",
      "Converted C.P._1787_2016 ().pdf to text.\n",
      "Converted c.p._1787_l_2022 ().pdf to text.\n",
      "Converted c.p._178_q_2023 ().pdf to text.\n",
      "Converted C.P._1800_2015 ().pdf to text.\n",
      "Converted c.p._1800_l_2018 ().pdf to text.\n",
      "Converted c.p._1809_2020 ().pdf to text.\n",
      "Converted C.P._1812_L_2017 ().pdf to text.\n",
      "Converted c.p._181_2024_n ().pdf to text.\n",
      "Converted c.p._181_q_2021 ().pdf to text.\n",
      "Converted c.p._1824_2019 ().pdf to text.\n",
      "Converted c.p._1831_2017 ().pdf to text.\n",
      "Converted c.p._1839_2018 ().pdf to text.\n",
      "Converted c.p._183_2024 ().pdf to text.\n",
      "Converted c.p._183_2024_20032024 ().pdf to text.\n",
      "Converted c.p._183_q_2023 ().pdf to text.\n",
      "Converted c.p._1840_2016 ().pdf to text.\n",
      "Converted c.p._1842_l_2022 ().pdf to text.\n",
      "Converted c.p._184_2024 ().pdf to text.\n",
      "Converted c.p._184_2024_21032024 ().pdf to text.\n",
      "Converted c.p._1854_l_2022 ().pdf to text.\n",
      "Converted c.p._1857_2022 ().pdf to text.\n",
      "Converted c.p._185_2024 ().pdf to text.\n",
      "Converted c.p._1862_l_2021 ().pdf to text.\n",
      "Converted c.p._186_2024 ().pdf to text.\n",
      "Converted c.p._1874_2022 ().pdf to text.\n",
      "Converted c.p._1877_l_2016 ().pdf to text.\n",
      "Converted c.p._1882_2016 ().pdf to text.\n",
      "Converted C.P._1885_2017 ().pdf to text.\n",
      "Converted c.p._1890_l_2017 ().pdf to text.\n",
      "Converted c.p._1893_l_2021 ().pdf to text.\n",
      "Converted c.p._1896_2022 ().pdf to text.\n",
      "Converted c.p._1896_l_2020 ().pdf to text.\n",
      "Converted c.p._189_q_2017 ().pdf to text.\n",
      "Converted c.p._18_p_2021 ().pdf to text.\n",
      "Converted c.p._1920_2022 ().pdf to text.\n"
     ]
    },
    {
     "name": "stderr",
     "output_type": "stream",
     "text": [
      "incorrect startxref pointer(1)\n"
     ]
    },
    {
     "name": "stdout",
     "output_type": "stream",
     "text": [
      "Converted c.p._1925_2020 ().pdf to text.\n",
      "Converted C.P._1926_L_2015 ().pdf to text.\n",
      "Converted c.p._1942_2022 ().pdf to text.\n",
      "Converted c.p._1948_l_2021 ().pdf to text.\n",
      "Converted c.p._1950_l_2018 ().pdf to text.\n",
      "Converted C.P._1958_2016 ().pdf to text.\n",
      "Converted c.p._1965_2019 ().pdf to text.\n",
      "Converted c.p._1972_l_2017 ().pdf to text.\n",
      "Converted c.p._1975_2019 ().pdf to text.\n",
      "Converted C.P._1983_2012 ().pdf to text.\n",
      "Converted c.p._1990_l_2017 ().pdf to text.\n",
      "Converted c.p._1998_2018 ().pdf to text.\n",
      "Converted c.p._2000_l_2020 ().pdf to text.\n",
      "Converted c.p._2007_l_2023 ().pdf to text.\n",
      "Converted c.p._2009_2020 ().pdf to text.\n",
      "Converted c.p._2014_l_2019 ().pdf to text.\n",
      "Converted c.p._2021_2019 ().pdf to text.\n",
      "Converted c.p._2021_l_2015 ().pdf to text.\n",
      "Converted c.p._2032_2019 ().pdf to text.\n",
      "Converted c.p._2045_2019 ().pdf to text.\n",
      "Converted c.p._2056_2022 ().pdf to text.\n",
      "Converted c.p._205_l_2017 ().pdf to text.\n"
     ]
    },
    {
     "name": "stderr",
     "output_type": "stream",
     "text": [
      "incorrect startxref pointer(1)\n"
     ]
    },
    {
     "name": "stdout",
     "output_type": "stream",
     "text": [
      "Converted c.p._2063_2020 ().pdf to text.\n",
      "Failed to convert C.P._2064_2016 ().pdf. Error: '/Root'\n",
      "Converted C.P._2066_2013 ().pdf to text.\n",
      "Converted c.p._2074_2023 ().pdf to text.\n",
      "Converted c.p._2092_2019 ().pdf to text.\n",
      "Converted C.P._2093_2015 ().pdf to text.\n",
      "Converted C.P._2108_2018 ().pdf to text.\n",
      "Converted c.p._210_2024 ().pdf to text.\n",
      "Converted c.p._210_2024_r ().pdf to text.\n",
      "Converted C.P._2117_2016 ().pdf to text.\n",
      "Converted c.p._2119_2018 ().pdf to text.\n",
      "Converted c.p._211_2024 ().pdf to text.\n",
      "Converted c.p._211_q_2017 ().pdf to text.\n",
      "Converted c.p._2129_2020 ().pdf to text.\n",
      "Converted c.p._2143_l_2020 ().pdf to text.\n",
      "Converted c.p._2144_2016 () (1).pdf to text.\n",
      "Converted C.P._2144_2016 ().pdf to text.\n",
      "Converted c.p._2144_l_2011 ().pdf to text.\n",
      "Converted c.p._2148_2020 ().pdf to text.\n",
      "Converted C.P._216-Q_2017 ().pdf to text.\n",
      "Converted C.P._2167_2014 ().pdf to text.\n",
      "Converted c.p._2178_l_2022 ().pdf to text.\n",
      "Converted c.p._2210_l_2020 ().pdf to text.\n",
      "Converted C.P._2222_2016 ().pdf to text.\n",
      "Converted c.p._2222_2019 ().pdf to text.\n",
      "Converted C.P._2226_2016 ().pdf to text.\n",
      "Converted c.p._2226_l_2021_02042024 ().pdf to text.\n",
      "Converted c.p._2230_2015 ().pdf to text.\n",
      "Converted c.p._2231_2020 ().pdf to text.\n",
      "Converted c.p._223_p_2012 ().pdf to text.\n",
      "Converted c.p._2242_2022 ().pdf to text.\n",
      "Converted c.p._2243_l_2019 ().pdf to text.\n",
      "Converted c.p._2256_l_2015 ().pdf to text.\n",
      "Converted c.p._225_p_2023 ().pdf to text.\n",
      "Converted c.p._2270_2019 ().pdf to text.\n",
      "Converted c.p._2270_2023 ().pdf to text.\n",
      "Converted C.P._2280_2015 ().pdf to text.\n",
      "Converted C.P._2297_2018 ().pdf to text.\n",
      "Converted c.p._22_q_2020 ().pdf to text.\n",
      "Converted c.p._2314_2022 ().pdf to text.\n",
      "Converted c.p._2314_2022_dn ().pdf to text.\n",
      "Converted c.p._231_2022 ().pdf to text.\n"
     ]
    },
    {
     "name": "stderr",
     "output_type": "stream",
     "text": [
      "incorrect startxref pointer(1)\n"
     ]
    },
    {
     "name": "stdout",
     "output_type": "stream",
     "text": [
      "Converted c.p._231_k_2020 ().pdf to text.\n",
      "Converted C.P._2327_2016 ().pdf to text.\n",
      "Converted c.p._2338_l_2017 ().pdf to text.\n",
      "Converted c.p._2341_l_2016 ().pdf to text.\n",
      "Converted c.p._2347_2022 ().pdf to text.\n",
      "Converted C.P._2350_2015 ().pdf to text.\n",
      "Converted c.p._2351_2019 ().pdf to text.\n",
      "Converted c.p._2379_2016 ().pdf to text.\n",
      "Converted c.p._240_2021 ().pdf to text.\n",
      "Converted C.P._2411_2014 ().pdf to text.\n",
      "Converted c.p._2414_l_2015 ().pdf to text.\n",
      "Converted c.p._2420_2015 ().pdf to text.\n",
      "Converted c.p._2447_l_2022 ().pdf to text.\n",
      "Converted c.p._244_2024 ().pdf to text.\n",
      "Converted c.p._244_2024_07052024 ().pdf to text.\n",
      "Converted c.p._2456_l_2022 ().pdf to text.\n",
      "Converted c.p._2459_2017 ().pdf to text.\n",
      "Converted c.p._2467_2020 ().pdf to text.\n",
      "Converted c.p._2477_l_2015 ().pdf to text.\n",
      "Converted c.p._2482_2020 ().pdf to text.\n",
      "Converted C.P._2515_2015 ().pdf to text.\n",
      "Converted c.p._2522_2024_20062024 ().pdf to text.\n",
      "Converted C.P._2532_2015 ().pdf to text.\n",
      "Converted C.P._2537_2016 ().pdf to text.\n",
      "Converted c.p._2537_2020 ().pdf to text.\n",
      "Converted c.p._2547_2019 ().pdf to text.\n",
      "Converted c.p._254_2024 ().pdf to text.\n",
      "Converted c.p._255_2024 ().pdf to text.\n",
      "Converted c.p._2580_2020 ().pdf to text.\n",
      "Converted c.p._258_2017 ().pdf to text.\n",
      "Converted c.p._2594_2020 ().pdf to text.\n",
      "Converted c.p._2597_2019 ().pdf to text.\n",
      "Converted c.p._2597_2020 ().pdf to text.\n",
      "Converted c.p._2602_2019 ().pdf to text.\n"
     ]
    },
    {
     "name": "stderr",
     "output_type": "stream",
     "text": [
      "incorrect startxref pointer(1)\n"
     ]
    },
    {
     "name": "stdout",
     "output_type": "stream",
     "text": [
      "Converted c.p._2608_2019 ().pdf to text.\n",
      "Failed to convert C.P._261-K_2016 ().pdf. Error: '/Root'\n",
      "Converted c.p._2628_2019 ().pdf to text.\n",
      "Converted c.p._262_p_2017 ().pdf to text.\n",
      "Converted c.p._2633_2018 ().pdf to text.\n"
     ]
    },
    {
     "name": "stderr",
     "output_type": "stream",
     "text": [
      "incorrect startxref pointer(1)\n"
     ]
    },
    {
     "name": "stdout",
     "output_type": "stream",
     "text": [
      "Converted c.p._2633_2019 ().pdf to text.\n",
      "Converted c.p._263_k_2024 ().pdf to text.\n",
      "Converted C.P._2640_2016 ().pdf to text.\n",
      "Converted c.p._2646_l_2018 ().pdf to text.\n",
      "Converted C.P._264_2017 ().pdf to text.\n",
      "Converted c.p._264_p_2010 ().pdf to text.\n",
      "Converted c.p._2658_2019 ().pdf to text.\n",
      "Converted c.p._2661_2020 ().pdf to text.\n",
      "Converted C.P._2669_2016 ().pdf to text.\n",
      "Converted c.p._2673_2022 ().pdf to text.\n",
      "Converted c.p._2682_2022 ().pdf to text.\n",
      "Converted c.p._2693_2018 ().pdf to text.\n",
      "Converted c.p._2711_2019 ().pdf to text.\n",
      "Converted c.p._2712_2020 ().pdf to text.\n",
      "Converted c.p._2717_l_2015 ().pdf to text.\n",
      "Converted c.p._271_2021 ().pdf to text.\n",
      "Converted C.P._272_2016 ().pdf to text.\n",
      "Converted c.p._2732_l_2016 ().pdf to text.\n"
     ]
    },
    {
     "name": "stderr",
     "output_type": "stream",
     "text": [
      "incorrect startxref pointer(1)\n"
     ]
    },
    {
     "name": "stdout",
     "output_type": "stream",
     "text": [
      "Converted c.p._2734_l_2023 ().pdf to text.\n",
      "Failed to convert C.P._2743_2017 ().pdf. Error: Invalid Elementary Object starting with b'I' @22307: b'l)3123.3n)19( )98 0.IT\\n/F2 12.0 Tf\\n 0.0 0.0 rg\\n0.9998 137(s)8( )-70(ne2(h)19(e)3'\n",
      "Converted c.p._2743_2018 ().pdf to text.\n",
      "Converted c.p._275_2016 ().pdf to text.\n",
      "Converted c.p._278_2023 ().pdf to text.\n",
      "Converted C.P._2790_2018 ().pdf to text.\n",
      "Converted c.p._279_p_2015 ().pdf to text.\n",
      "Converted c.p._279_q_2020 ().pdf to text.\n",
      "Converted c.p._280_k_2019 ().pdf to text.\n",
      "Converted C.P._2812_2017 ().pdf to text.\n",
      "Converted C.P._2814_2018 ().pdf to text.\n",
      "Converted c.p._2824_2019 ().pdf to text.\n",
      "Converted c.p._2832_2018 ().pdf to text.\n",
      "Converted c.p._2836_2020 ().pdf to text.\n",
      "Converted c.p._283_k_2020 ().pdf to text.\n",
      "Converted c.p._283_l_2018 ().pdf to text.\n",
      "Converted c.p._2849_l_2015 ().pdf to text.\n",
      "Converted C.P._2853_2018 ().pdf to text.\n",
      "Converted c.p._2855_2017 ().pdf to text.\n",
      "Converted c.p._2865_2022 ().pdf to text.\n",
      "Converted c.p._2866_2015 ().pdf to text.\n",
      "Converted c.p._287_2019 ().pdf to text.\n",
      "Converted c.p._287_p_2016 ().pdf to text.\n",
      "Converted c.p._2885_2022 ().pdf to text.\n",
      "Converted c.p._2892_2020 ().pdf to text.\n",
      "Converted C.P._289_P_2015 ().pdf to text.\n",
      "Converted c.p._2902_2018 ().pdf to text.\n",
      "Converted c.p._2911_2018 ().pdf to text.\n",
      "Converted c.p._2913_2021 ().pdf to text.\n",
      "Converted c.p._2916_2019 ().pdf to text.\n",
      "Converted c.p._2933_2019 ().pdf to text.\n",
      "Converted c.p._2944_2019 ().pdf to text.\n",
      "Converted C.P._2982_2016 ().pdf to text.\n",
      "Converted c.p._2997_2021 ().pdf to text.\n",
      "Converted C.P._29_2017 ().pdf to text.\n",
      "Converted c.p._2_2022_dissenting_note ().pdf to text.\n",
      "Converted c.p._2_2022_dissenting_note2 ().pdf to text.\n",
      "Converted c.p._3011_2021 ().pdf to text.\n",
      "Converted C.P._3020_2016 ().pdf to text.\n",
      "Converted c.p._302_2019 ().pdf to text.\n",
      "Converted c.p._3030_2021 ().pdf to text.\n",
      "Converted c.p._3031_2021 ().pdf to text.\n",
      "Converted c.p._303_2019 ().pdf to text.\n",
      "Converted c.p._3041_2018 ().pdf to text.\n",
      "Converted c.p._3041_2020 ().pdf to text.\n",
      "Converted c.p._304_2022 ().pdf to text.\n",
      "Converted c.p._304_2022_11062024 ().pdf to text.\n",
      "Converted c.p._3057_2019 ().pdf to text.\n",
      "Converted c.p._3059_2021 ().pdf to text.\n",
      "Converted C.P._3068_2017 ().pdf to text.\n",
      "Converted C.P._3078_2016 ().pdf to text.\n",
      "Converted C.P._3078_2016_D ().pdf to text.\n",
      "Converted C.P._3095_2017 ().pdf to text.\n",
      "Converted c.p._3097_2015 ().pdf to text.\n",
      "Converted c.p._3107_2018 ().pdf to text.\n",
      "Converted c.p._310_l_2017 ().pdf to text.\n",
      "Converted c.p._3112_2020 ().pdf to text.\n",
      "Converted c.p._3121_2021 ().pdf to text.\n",
      "Converted C.P._3122_2017 ().pdf to text.\n",
      "Converted c.p._3122_2020 ().pdf to text.\n",
      "Converted c.p._3125_2020 ().pdf to text.\n",
      "Converted c.p._3127_2020 ().pdf to text.\n"
     ]
    },
    {
     "name": "stderr",
     "output_type": "stream",
     "text": [
      "incorrect startxref pointer(1)\n"
     ]
    },
    {
     "name": "stdout",
     "output_type": "stream",
     "text": [
      "Converted c.p._3130_2020 ().pdf to text.\n",
      "Converted C.P._3131_2017 ().pdf to text.\n",
      "Converted c.p._3134_2022 ().pdf to text.\n",
      "Converted c.p._3136_2022 ().pdf to text.\n",
      "Converted c.p._3148_2020 ().pdf to text.\n",
      "Converted c.p._3155_l_2023 ().pdf to text.\n",
      "Converted c.p._3157_2022 ().pdf to text.\n",
      "Converted C.P._3181_2015 ().pdf to text.\n",
      "Converted c.p._3185_2020 ().pdf to text.\n",
      "Converted C.P._3186_2015 ().pdf to text.\n",
      "Converted C.P._3186_2017 ().pdf to text.\n",
      "Converted c.p._3186_2020 ().pdf to text.\n",
      "Converted C.P._3195-L_2016 ().pdf to text.\n",
      "Converted C.P._319_2016 ().pdf to text.\n",
      "Converted c.p._3200_l_2019 ().pdf to text.\n",
      "Converted c.p._3203_2017 ().pdf to text.\n",
      "Converted c.p._3209_2019 ().pdf to text.\n",
      "Converted c.p._3209_2020 ().pdf to text.\n",
      "Converted c.p._3213_l_2019 ().pdf to text.\n",
      "Converted c.p._3215_2021 ().pdf to text.\n",
      "Converted c.p._3224_2019 ().pdf to text.\n",
      "Converted C.P._3228_2015 ().pdf to text.\n",
      "Converted c.p._3236_2019 ().pdf to text.\n",
      "Converted c.p._323_l_2014 ().pdf to text.\n"
     ]
    },
    {
     "name": "stderr",
     "output_type": "stream",
     "text": [
      "incorrect startxref pointer(1)\n"
     ]
    },
    {
     "name": "stdout",
     "output_type": "stream",
     "text": [
      "Converted c.p._3249_2015 ().pdf to text.\n",
      "Failed to convert C.P._3258_2017 ().pdf. Error: Invalid Elementary Object starting with b'T' @13713: b'10(a)7(eq\\n0 90g)-82 Tm\\n[(.)] TJ\\nET\\nQ\\nq\\nBT\\n/F6 12 Tf\\n0 0 0 rg\\n0.9989 440 1 116.16'\n",
      "Converted c.p._3263_2022 ().pdf to text.\n",
      "Converted c.p._3282_l_2022 ().pdf to text.\n",
      "Converted c.p._3286_2017 ().pdf to text.\n",
      "Converted c.p._3287_2019 ().pdf to text.\n",
      "Converted c.p._329_k_2022 ().pdf to text.\n",
      "Converted c.p._32_q_2019 ().pdf to text.\n",
      "Converted C.P._330_P_2013 ().pdf to text.\n"
     ]
    },
    {
     "name": "stderr",
     "output_type": "stream",
     "text": [
      "incorrect startxref pointer(2)\n"
     ]
    },
    {
     "name": "stdout",
     "output_type": "stream",
     "text": [
      "Converted c.p._3317_2018 ().pdf to text.\n",
      "Converted C.P._332-P_2017 ().pdf to text.\n",
      "Converted C.P._3345_2016 ().pdf to text.\n",
      "Converted c.p._3347_2021 ().pdf to text.\n",
      "Converted C.P._3364_2016 ().pdf to text.\n",
      "Converted c.p._3367_2018 ().pdf to text.\n"
     ]
    },
    {
     "name": "stderr",
     "output_type": "stream",
     "text": [
      "Multiple definitions in dictionary at byte 0x76a7de for key /Info\n",
      "Multiple definitions in dictionary at byte 0x76a7eb for key /Info\n",
      "Multiple definitions in dictionary at byte 0x76a7f8 for key /Info\n"
     ]
    },
    {
     "name": "stdout",
     "output_type": "stream",
     "text": [
      "Converted c.p._3380_2020_scnd ().pdf to text.\n",
      "Converted c.p._3380_l_2017 ().pdf to text.\n",
      "Converted C.P._339_K_2017 ().pdf to text.\n",
      "Converted c.p._3413_2017 ().pdf to text.\n",
      "Converted c.p._3429_2021 ().pdf to text.\n",
      "Converted c.p._342_k_2020 ().pdf to text.\n",
      "Converted c.p._3436_l_2022 ().pdf to text.\n",
      "Converted c.p._3447_2022 ().pdf to text.\n",
      "Converted C.P._3451_2015 ().pdf to text.\n"
     ]
    },
    {
     "name": "stderr",
     "output_type": "stream",
     "text": [
      "incorrect startxref pointer(1)\n"
     ]
    },
    {
     "name": "stdout",
     "output_type": "stream",
     "text": [
      "Failed to convert C.P._3451_2017 ().pdf. Error: '/Root'\n",
      "Converted c.p._3455_2020 ().pdf to text.\n",
      "Converted C.P._3460_2015 ().pdf to text.\n",
      "Converted c.p._3465_l_2022 ().pdf to text.\n",
      "Converted c.p._3472_2023 ().pdf to text.\n",
      "Converted C.P._3499_2016 ().pdf to text.\n",
      "Converted c.p._349_l_2017 ().pdf to text.\n",
      "Converted c.p._34_2022 ().pdf to text.\n",
      "Converted c.p._34_q_2019 ().pdf to text.\n",
      "Converted c.p._3501_2021 ().pdf to text.\n",
      "Converted c.p._3506_2020 ().pdf to text.\n",
      "Converted c.p._3509_2021 ().pdf to text.\n",
      "Converted c.p._3525_2018 ().pdf to text.\n",
      "Converted c.p._3531_2021_13062024 ().pdf to text.\n",
      "Converted c.p._3532_2023 ().pdf to text.\n",
      "Converted c.p._3532_2023_additional_note ().pdf to text.\n",
      "Converted C.P._3551_2015 ().pdf to text.\n",
      "Converted c.p._3573_2020 ().pdf to text.\n",
      "Converted c.p._3575_2020_22112023 ().pdf to text.\n",
      "Converted C.P._357_2016 ().pdf to text.\n",
      "Converted c.p._3587_2020 ().pdf to text.\n",
      "Converted c.p._3598_2020 ().pdf to text.\n",
      "Converted c.p._3604_2018 ().pdf to text.\n",
      "Converted c.p._361_p_2018 ().pdf to text.\n",
      "Converted c.p._3632_2018 ().pdf to text.\n",
      "Converted c.p._3637_2019 ().pdf to text.\n",
      "Converted c.p._3644_2020 ().pdf to text.\n",
      "Converted c.p._3645_2015 ().pdf to text.\n",
      "Converted C.P._367-K_2016 ().pdf to text.\n",
      "Converted c.p._3709_2022 ().pdf to text.\n",
      "Converted c.p._3718_2023 ().pdf to text.\n",
      "Converted C.P._371_P_2016 ().pdf to text.\n",
      "Converted C.P._3728_2017 ().pdf to text.\n",
      "Converted C.P._3729_2015 ().pdf to text.\n",
      "Converted c.p._3739_2019 ().pdf to text.\n",
      "Converted c.p._3747_2023 ().pdf to text.\n",
      "Converted c.p._3750_2020 ().pdf to text.\n",
      "Converted C.P._3752_2018 ().pdf to text.\n",
      "Converted c.p._3760_2019 ().pdf to text.\n",
      "Converted c.p._3767_2023 ().pdf to text.\n",
      "Converted c.p._3772_2019 ().pdf to text.\n",
      "Converted c.p._3795_2021 ().pdf to text.\n",
      "Converted c.p._3797_2020 ().pdf to text.\n",
      "Converted c.p._3801_2022 ().pdf to text.\n",
      "Converted C.P._380_2014_Urdu ().pdf to text.\n",
      "Converted c.p._3813_2019 ().pdf to text.\n",
      "Converted c.p._381_k_2019 ().pdf to text.\n",
      "Converted c.p._3855_2019 ().pdf to text.\n",
      "Converted c.p._3855_2022 ().pdf to text.\n",
      "Converted c.p._386_l_2021 ().pdf to text.\n",
      "Converted C.P._3874_2016 ().pdf to text.\n",
      "Converted c.p._3877_2023 ().pdf to text.\n",
      "Converted c.p._388_p_2016 ().pdf to text.\n",
      "Converted c.p._389_2022 ().pdf to text.\n",
      "Converted C.P._3912_2016 ().pdf to text.\n",
      "Converted c.p._3923_2016 ().pdf to text.\n",
      "Converted c.p._3933_2023 ().pdf to text.\n",
      "Converted c.p._3944_2019 ().pdf to text.\n",
      "Converted c.p._394_p_2010 ().pdf to text.\n",
      "Converted c.p._3950_2019 ().pdf to text.\n",
      "Converted c.p._3952_2019 ().pdf to text.\n",
      "Converted c.p._3958_2019 ().pdf to text.\n",
      "Converted C.P._396_2017 ().pdf to text.\n",
      "Converted c.p._397_2022 ().pdf to text.\n",
      "Converted c.p._3985_2019 ().pdf to text.\n",
      "Converted c.p._3988_2019 ().pdf to text.\n",
      "Converted c.p._3988_2022 ().pdf to text.\n",
      "Converted c.p._3989_2022 ().pdf to text.\n",
      "Converted c.p._398_l_2018 ().pdf to text.\n",
      "Converted c.p._3998_2016 ().pdf to text.\n",
      "Converted c.p._4029_2019 ().pdf to text.\n",
      "Converted c.p._405_2020 ().pdf to text.\n",
      "Converted c.p._407_k_2019 ().pdf to text.\n",
      "Converted c.p._409_l_2021 ().pdf to text.\n",
      "Converted c.p._4129_2019 ().pdf to text.\n",
      "Converted c.p._4145_2022 ().pdf to text.\n",
      "Converted c.p._414_2021 ().pdf to text.\n",
      "Converted c.p._4178_2019 ().pdf to text.\n",
      "Converted c.p._4185_2019 ().pdf to text.\n",
      "Converted c.p._4188_2019 ().pdf to text.\n",
      "Converted c.p._4194_2023 ().pdf to text.\n",
      "Converted c.p._419_2019 ().pdf to text.\n",
      "Converted c.p._419_2020 ().pdf to text.\n",
      "Converted C.P._41_2008 ().pdf to text.\n",
      "Converted C.P._41_2015 ().pdf to text.\n",
      "Converted c.p._4222_2018 ().pdf to text.\n",
      "Converted C.P._423-K_2015 ().pdf to text.\n",
      "Converted C.P._423_K_2015 ().pdf to text.\n",
      "Converted c.p._423_l_2018 ().pdf to text.\n",
      "Converted c.p._4282_2018 ().pdf to text.\n",
      "Converted c.p._4294_2019 ().pdf to text.\n",
      "Converted c.p._4296_2019 ().pdf to text.\n",
      "Converted c.p._42_2024 ().pdf to text.\n",
      "Converted c.p._42_2024_25012024 ().pdf to text.\n",
      "Converted c.p._4305_2023 ().pdf to text.\n",
      "Converted c.p._4349_2018 ().pdf to text.\n",
      "Converted c.p._4365_2023_15122023 ().pdf to text.\n",
      "Converted c.p._4387_2021 ().pdf to text.\n",
      "Converted c.p._4387_2021_24012022 ().pdf to text.\n",
      "Converted c.p._43_l_2021 ().pdf to text.\n",
      "Converted c.p._4424_2021 ().pdf to text.\n",
      "Converted c.p._4428_2019 ().pdf to text.\n",
      "Converted c.p._4439_2017 ().pdf to text.\n",
      "Converted c.p._4459_2018 ().pdf to text.\n",
      "Converted c.p._446_l_2014 ().pdf to text.\n",
      "Converted c.p._446_l_2019 ().pdf to text.\n",
      "Converted c.p._448_p_2017 ().pdf to text.\n",
      "Converted c.p._449_2019 ().pdf to text.\n",
      "Converted c.p._44_2019 ().pdf to text.\n",
      "Converted c.p._4500_2017 ().pdf to text.\n",
      "Converted c.p._4522_2023_dt_05_01_2024 ().pdf to text.\n",
      "Converted c.p._4540_2021 ().pdf to text.\n",
      "Converted c.p._4570_2019 ().pdf to text.\n",
      "Converted c.p._4599_2017 ().pdf to text.\n",
      "Converted c.p._4599_2021 ().pdf to text.\n",
      "Converted C.P._45_2015 ().pdf to text.\n",
      "Converted c.p._460_2022 ().pdf to text.\n",
      "Converted c.p._4618_2019 ().pdf to text.\n",
      "Converted c.p._4635_2018 ().pdf to text.\n",
      "Converted c.p._4657_2022 ().pdf to text.\n",
      "Converted c.p._467_ 2021 ().pdf to text.\n",
      "Converted C.P._4682_2017 ().pdf to text.\n",
      "Converted c.p._4683_2018 ().pdf to text.\n",
      "Converted c.p._4690_2018 ().pdf to text.\n",
      "Converted c.p._469_l_2023 ().pdf to text.\n",
      "Converted c.p._4700_2021 ().pdf to text.\n",
      "Converted c.p._4703_2017 ().pdf to text.\n",
      "Converted c.p._4719_2017 ().pdf to text.\n",
      "Converted c.p._4725_2018 ().pdf to text.\n",
      "Converted c.p._4729_2019 ().pdf to text.\n",
      "Converted c.p._4737_2018 ().pdf to text.\n",
      "Converted c.p._4740_2017 ().pdf to text.\n",
      "Converted C.P._478_2019 ().pdf to text.\n",
      "Converted c.p._479_k_2020 ().pdf to text.\n",
      "Converted c.p._47_2016 ().pdf to text.\n",
      "Converted c.p._47_q_2016 ().pdf to text.\n",
      "Converted c.p._4806_2019 ().pdf to text.\n",
      "Converted C.P._481-K_2017 ().pdf to text.\n",
      "Converted c.p._482_k_2020 ().pdf to text.\n",
      "Converted c.p._4835_2019 ().pdf to text.\n",
      "Converted C.P._4876_2018 ().pdf to text.\n",
      "Converted c.p._4878_2021 ().pdf to text.\n",
      "Converted c.p._4889_2018 ().pdf to text.\n",
      "Converted c.p._488_k_2023 ().pdf to text.\n",
      "Converted c.p._4899_2018 ().pdf to text.\n",
      "Converted c.p._490_k_2020 ().pdf to text.\n",
      "Converted c.p._492_k_2023 ().pdf to text.\n",
      "Converted c.p._4963_2018 ().pdf to text.\n",
      "Converted c.p._4980_2021 ().pdf to text.\n",
      "Converted c.p._4_k_2021 ().pdf to text.\n",
      "Converted c.p._4_p_2020 ().pdf to text.\n",
      "Converted c.p._509_p_2012 ().pdf to text.\n",
      "Converted c.p._510_2019 ().pdf to text.\n",
      "Converted c.p._5178_2021 ().pdf to text.\n",
      "Converted c.p._517_l_2016 ().pdf to text.\n",
      "Converted C.P._51_2015 ().pdf to text.\n"
     ]
    },
    {
     "name": "stderr",
     "output_type": "stream",
     "text": [
      "incorrect startxref pointer(1)\n"
     ]
    },
    {
     "name": "stdout",
     "output_type": "stream",
     "text": [
      "Converted c.p._520_k_2024 ().pdf to text.\n",
      "Converted c.p._522_l_2013 ().pdf to text.\n"
     ]
    },
    {
     "name": "stderr",
     "output_type": "stream",
     "text": [
      "incorrect startxref pointer(1)\n"
     ]
    },
    {
     "name": "stdout",
     "output_type": "stream",
     "text": [
      "Converted C.P._529_2015 ().pdf to text.\n",
      "Failed to convert C.P._536_2015 ().pdf. Error: '/Root'\n",
      "Converted c.p._5438_2021 ().pdf to text.\n",
      "Converted c.p._545_k_2021 ().pdf to text.\n",
      "Converted c.p._546_2021 ().pdf to text.\n",
      "Converted C.P._548-P_2013 ().pdf to text.\n",
      "Converted C.P._549-P_2015 ().pdf to text.\n",
      "Converted c.p._5599_2021 ().pdf to text.\n",
      "Converted c.p._55_2020 ().pdf to text.\n",
      "Converted c.p._5601_2021 ().pdf to text.\n",
      "Converted c.p._560_k_2019 ().pdf to text.\n",
      "Converted c.p._5620_2021 ().pdf to text.\n",
      "Converted c.p._5632_2021 ().pdf to text.\n",
      "Converted c.p._5633_2021 ().pdf to text.\n",
      "Converted c.p._5646_2021 ().pdf to text.\n",
      "Converted C.P._565_2014 ().pdf to text.\n",
      "Converted c.p._5671_2021 ().pdf to text.\n",
      "Converted C.P._569-K_2016 ().pdf to text.\n",
      "Converted c.p._570_p_2013 ().pdf to text.\n",
      "Converted c.p._5718_2021 ().pdf to text.\n",
      "Converted c.p._5796_2021 ().pdf to text.\n",
      "Converted c.p._5877_2021 ().pdf to text.\n",
      "Converted c.p._590_2021 ().pdf to text.\n",
      "Converted c.p._5918_2021 ().pdf to text.\n",
      "Converted c.p._593_2020 ().pdf to text.\n",
      "Converted c.p._593_l_2021 ().pdf to text.\n",
      "Converted c.p._596_2021 ().pdf to text.\n",
      "Converted c.p._5972_2021 ().pdf to text.\n",
      "Converted c.p._600_2020 ().pdf to text.\n",
      "Converted C.P._606_2018 ().pdf to text.\n",
      "Converted c.p._607_2021 ().pdf to text.\n",
      "Converted c.p._609_2017 ().pdf to text.\n",
      "Converted c.p._609_2020 ().pdf to text.\n",
      "Converted C.P._60_K_2018 ().pdf to text.\n",
      "Converted c.p._6117_2021 ().pdf to text.\n",
      "Converted c.p._611_l_2018 ().pdf to text.\n",
      "Converted c.p._620_2021 ().pdf to text.\n",
      "Converted c.p._6309_2021 ().pdf to text.\n",
      "Converted C.P._632_2018 ().pdf to text.\n",
      "Converted c.p._634_2020 ().pdf to text.\n",
      "Converted C.P._639_2019 ().pdf to text.\n",
      "Converted c.p._6406_2021 ().pdf to text.\n",
      "Converted c.p._6482_2021 ().pdf to text.\n",
      "Converted c.p._648_l_2021_detailed ().pdf to text.\n",
      "Converted c.p._653_k_2022 ().pdf to text.\n",
      "Converted c.p._657_2020 ().pdf to text.\n",
      "Converted c.p._659_2019 ().pdf to text.\n",
      "Converted C.P._661_K_2015 ().pdf to text.\n",
      "Converted C.P._662_2017 ().pdf to text.\n",
      "Converted c.p._669_l_2018 ().pdf to text.\n",
      "Converted c.p._677_k_2019 ().pdf to text.\n",
      "Converted c.p._682_l_2017 ().pdf to text.\n",
      "Converted c.p._686_k_2019 ().pdf to text.\n",
      "Converted c.p._688_2020 ().pdf to text.\n",
      "Converted C.P._689-L_2015 ().pdf to text.\n",
      "Converted c.p._692_2020 ().pdf to text.\n",
      "Converted c.p._69_q_2015 ().pdf to text.\n",
      "Converted c.p._6_l_2023 ().pdf to text.\n",
      "Converted C.P._701_2016 ().pdf to text.\n",
      "Converted c.p._715_2018 ().pdf to text.\n",
      "Converted c.p._715_2020 ().pdf to text.\n",
      "Converted c.p._720_2020 ().pdf to text.\n",
      "Converted c.p._722_p_2021 ().pdf to text.\n",
      "Converted C.P._731_K_2018 ().pdf to text.\n",
      "Converted C.P._733_2018 ().pdf to text.\n",
      "Converted c.p._740_2021 ().pdf to text.\n",
      "Converted c.p._757_l_2021 ().pdf to text.\n",
      "Converted c.p._760_2024 ().pdf to text.\n",
      "Converted C.P._781_2016 ().pdf to text.\n",
      "Converted C.P._78_K_2015 ().pdf to text.\n",
      "Converted c.p._78_q_2016 ().pdf to text.\n",
      "Converted c.p._797_2021 ().pdf to text.\n",
      "Converted C.P._80-Q_2010 ().pdf to text.\n",
      "Converted c.p._800_p_2019 ().pdf to text.\n",
      "Converted c.p._803_2019 ().pdf to text.\n",
      "Converted c.p._805_l_2019 ().pdf to text.\n",
      "Converted C.P._809_P_2018 ().pdf to text.\n",
      "Converted C.P._80_2018 ().pdf to text.\n",
      "Converted C.P._816-L_2009 ().pdf to text.\n",
      "Converted C.P._816_2009 ().pdf to text.\n"
     ]
    },
    {
     "name": "stderr",
     "output_type": "stream",
     "text": [
      "incorrect startxref pointer(1)\n"
     ]
    },
    {
     "name": "stdout",
     "output_type": "stream",
     "text": [
      "Converted c.p._819_2017 ().pdf to text.\n",
      "Converted c.p._820_2019 ().pdf to text.\n",
      "Failed to convert C.P._826_2016 ().pdf. Error: Invalid Elementary Object starting with b')' @11822: b' f\\n0 0 0 rg3BT\\n/F3or)95.l178 Tm\\n/F3 12.96 Tf\\n0 0 0 rg\\n1.0006 0 0 1 187.2 118.08 '\n",
      "Converted c.p._835_2021 ().pdf to text.\n",
      "Converted C.P._84-Q_2011 ().pdf to text.\n",
      "Converted C.P._842_2016 ().pdf to text.\n",
      "Converted c.p._846_l_2017 ().pdf to text.\n",
      "Converted c.p._84_.2016 ().pdf to text.\n",
      "Converted C.P._84_P_2015 ().pdf to text.\n",
      "Converted c.p._84_p_2020 ().pdf to text.\n",
      "Converted c.p._852_2020 ().pdf to text.\n",
      "Converted c.p._860_2019 ().pdf to text.\n",
      "Converted C.P._866_L_2015 ().pdf to text.\n",
      "Converted c.p._873_2021 ().pdf to text.\n",
      "Converted c.p._874_l_2020 ().pdf to text.\n",
      "Converted c.p._883_l_2020 ().pdf to text.\n",
      "Converted c.p._888_2024 ().pdf to text.\n",
      "Converted c.p._890_k_2023 ().pdf to text.\n",
      "Converted C.P._892_2015 ().pdf to text.\n",
      "Converted c.p._8_l_2023_r ().pdf to text.\n",
      "Converted c.p._903_2023 ().pdf to text.\n",
      "Converted c.p._917_k_2022 ().pdf to text.\n",
      "Converted c.p._920_p_2023 ().pdf to text.\n",
      "Converted c.p._925_l_2018 ().pdf to text.\n",
      "Converted C.P._928-L_2015 ().pdf to text.\n",
      "Converted C.P._935_2015 ().pdf to text.\n",
      "Converted c.p._940_k_2022 ().pdf to text.\n"
     ]
    },
    {
     "name": "stderr",
     "output_type": "stream",
     "text": [
      "incorrect startxref pointer(1)\n"
     ]
    },
    {
     "name": "stdout",
     "output_type": "stream",
     "text": [
      "Converted c.p._943_k_2022 ().pdf to text.\n",
      "Failed to convert C.P._945_2018 ().pdf. Error: '/Root'\n",
      "Converted c.p._946_2022 ().pdf to text.\n",
      "Converted c.p._957_2020 ().pdf to text.\n",
      "Converted c.p._958_2020 ().pdf to text.\n",
      "Converted c.p._95_2023_15082023 ().pdf to text.\n",
      "Converted c.p._962_2016 ().pdf to text.\n",
      "Converted c.p._989_2015 ().pdf to text.\n",
      "Converted c.p._993_2014 ().pdf to text.\n",
      "Converted c.p._no.3846-2019 ().pdf to text.\n",
      "Converted c.p_.4178_2019 ().pdf to text.\n",
      "Converted C.R.A._248_2009 ().pdf to text.\n",
      "Converted C.R.P.167of2012-dt-30-8-2012 ().pdf to text.\n",
      "Converted C.R.P.193of2013 ().pdf to text.\n",
      "Converted C.R.P.43-K_2012 ().pdf to text.\n",
      "Converted c.r.p.557_2022_02sept2023 ().pdf to text.\n",
      "Converted C.R.P._100_2016 ().pdf to text.\n",
      "Converted c.r.p._104_l_2019 ().pdf to text.\n",
      "Converted c.r.p._1077_2023 ().pdf to text.\n",
      "Converted C.R.P._125_2014 ().pdf to text.\n",
      "Converted C.R.P._125_2017 ().pdf to text.\n",
      "Converted C.R.P._142_2015 ().pdf to text.\n",
      "Converted C.R.P._147_2016 ().pdf to text.\n",
      "Converted C.R.P._210_2015 ().pdf to text.\n"
     ]
    },
    {
     "name": "stderr",
     "output_type": "stream",
     "text": [
      "incorrect startxref pointer(1)\n"
     ]
    },
    {
     "name": "stdout",
     "output_type": "stream",
     "text": [
      "Converted c.r.p._218_2013 ().pdf to text.\n",
      "Failed to convert C.R.P._242_2012 ().pdf. Error: '/Root'\n",
      "Converted C.R.P._247_ 2011 ().pdf to text.\n",
      "Converted C.R.P._247_2015 ().pdf to text.\n",
      "Converted c.r.p._255_2021 ().pdf to text.\n",
      "Converted c.r.p._266_2019_01112023 ().pdf to text.\n",
      "Converted c.r.p._266_2019_28oct2023 ().pdf to text.\n",
      "Converted C.R.P._268_2015 ().pdf to text.\n",
      "Converted c.r.p._292_2021 ().pdf to text.\n",
      "Converted c.r.p._292_2021_detailed ().pdf to text.\n",
      "Converted c.r.p._292_2021_sacked_employees ().pdf to text.\n",
      "Converted c.r.p._296_2020 ().pdf to text.\n",
      "Converted c.r.p._296_2020_04022022 ().pdf to text.\n",
      "Converted c.r.p._296_2020_29012022 ().pdf to text.\n",
      "Converted c.r.p._296_2020_hj10 ().pdf to text.\n",
      "Converted C.R.P._297_2017 ().pdf to text.\n",
      "Converted C.R.P._297_2017_Reserved ().pdf to text.\n",
      "Converted C.R.P._309_2013 ().pdf to text.\n",
      "Converted c.r.p._310_2018 ().pdf to text.\n",
      "Converted C.R.P._315_2013_DT_18_03_2015 ().pdf to text.\n",
      "Converted C.R.P._315_2013_DT_19_03_2015 ().pdf to text.\n",
      "Converted C.R.P._335_2014 ().pdf to text.\n",
      "Converted c.r.p._35_k_2020 ().pdf to text.\n",
      "Converted C.R.P._383_2005 ().pdf to text.\n",
      "Converted C.R.P._3_2015 ().pdf to text.\n",
      "Converted C.R.P._412_2014 ().pdf to text.\n",
      "Converted C.R.P._420_2013 ().pdf to text.\n",
      "Converted c.r.p._420_2016 ().pdf to text.\n",
      "Converted c.r.p._421_2020 ().pdf to text.\n",
      "Converted c.r.p._421_2020_dissenting_notes ().pdf to text.\n",
      "Converted c.r.p._426_2022_02sept2023 ().pdf to text.\n",
      "Converted c.r.p._432_k_2022 ().pdf to text.\n",
      "Converted c.r.p._446_2022 ().pdf to text.\n",
      "Converted C.R.P._49_2016 ().pdf to text.\n",
      "Converted c.r.p._513_2014 ().pdf to text.\n",
      "Converted c.r.p._526_2020 ().pdf to text.\n",
      "Converted C.R.P._561_2015 ().pdf to text.\n",
      "Converted C.R.P._561_2015_dt_04-02-2016 ().pdf to text.\n",
      "Converted C.R.P._70_2018_dt_7_4_2018 ().pdf to text.\n",
      "Converted c.r.p._758_2019 ().pdf to text.\n",
      "Converted c.r.p._835_2018 ().pdf to text.\n",
      "Converted C.R.P._87_2015 ().pdf to text.\n",
      "Converted C.R.P._94_2014 ().pdf to text.\n",
      "Converted c.r.p_537_2019 ().pdf to text.\n",
      "Converted C.Sh.A._1_2013 ().pdf to text.\n",
      "Converted C.Sh.A._1_2014 ().pdf to text.\n",
      "Converted c.u.o._18_2024_dt_21_02_2024 ().pdf to text.\n",
      "Converted ca.1038_2000 ().pdf to text.\n",
      "Converted ca.297_2014 ().pdf to text.\n",
      "Converted ca.38-45_2014 ().pdf to text.\n"
     ]
    },
    {
     "name": "stderr",
     "output_type": "stream",
     "text": [
      "incorrect startxref pointer(1)\n"
     ]
    },
    {
     "name": "stdout",
     "output_type": "stream",
     "text": [
      "Converted ca.a_239_2020 ().pdf to text.\n",
      "Failed to convert CA239-241of2011 ().pdf. Error: '/Root'\n",
      "Converted ca411to414of2013 ().pdf to text.\n",
      "Converted ca679-lof2012 ().pdf to text.\n",
      "Converted CAA_25.09.2013 ().pdf to text.\n",
      "Converted CAs.149-150of2010 ().pdf to text.\n",
      "Converted cas_727-730_777_778_2014_etc ().pdf to text.\n",
      "Converted ca_297_2014 ().pdf to text.\n"
     ]
    },
    {
     "name": "stderr",
     "output_type": "stream",
     "text": [
      "incorrect startxref pointer(1)\n"
     ]
    },
    {
     "name": "stdout",
     "output_type": "stream",
     "text": [
      "Converted ca_407_2013 ().pdf to text.\n"
     ]
    },
    {
     "name": "stderr",
     "output_type": "stream",
     "text": [
      "incorrect startxref pointer(1)\n"
     ]
    },
    {
     "name": "stdout",
     "output_type": "stream",
     "text": [
      "Converted Chairman_NAB_case ().pdf to text.\n"
     ]
    },
    {
     "name": "stderr",
     "output_type": "stream",
     "text": [
      "incorrect startxref pointer(1)\n"
     ]
    },
    {
     "name": "stdout",
     "output_type": "stream",
     "text": [
      "Converted Civil.Misc.A.3821of2013_21.06.2013 ().pdf to text.\n",
      "Converted CivilMisc.Appeal1of2012 ().pdf to text.\n"
     ]
    },
    {
     "name": "stderr",
     "output_type": "stream",
     "text": [
      "incorrect startxref pointer(1)\n"
     ]
    },
    {
     "name": "stdout",
     "output_type": "stream",
     "text": [
      "Converted CIVILPETITIONNO.683of2011 ().pdf to text.\n",
      "Converted CJD_Civil_Appeal_No_970_of_2003 ().pdf to text.\n"
     ]
    },
    {
     "name": "stderr",
     "output_type": "stream",
     "text": [
      "incorrect startxref pointer(1)\n",
      "incorrect startxref pointer(1)\n",
      "incorrect startxref pointer(1)\n"
     ]
    },
    {
     "name": "stdout",
     "output_type": "stream",
     "text": [
      "Converted CJD_Civil_Petition_No_1097-L_of_2004 ().pdf to text.\n",
      "Converted CJD_Civil_Petition_No_1532-L_of_2005 ().pdf to text.\n",
      "Converted CJD_Civil_Petition_No_378-L_of_2004 ().pdf to text.\n",
      "Converted CJD_Civil_Petition_No_788_of_2006 ().pdf to text.\n"
     ]
    },
    {
     "name": "stderr",
     "output_type": "stream",
     "text": [
      "incorrect startxref pointer(1)\n",
      "incorrect startxref pointer(3)\n"
     ]
    },
    {
     "name": "stdout",
     "output_type": "stream",
     "text": [
      "Converted CJD_Constitution_Petition_No_36_of_2005 ().pdf to text.\n",
      "Converted CJD_Criminal_Petition_No_55_of_2005 ().pdf to text.\n",
      "Converted CJD_Criminal_Petition_No_848-L_920-L_921-L_of_2002_more ().pdf to text.\n",
      "Converted CJD_Pakistan_Steel_Mills_Case ().pdf to text.\n",
      "Converted CJD_Reference by_the_President_of_Pakistan_under_Article_186 ().pdf to text.\n"
     ]
    },
    {
     "name": "stderr",
     "output_type": "stream",
     "text": [
      "incorrect startxref pointer(1)\n"
     ]
    },
    {
     "name": "stdout",
     "output_type": "stream",
     "text": [
      "Converted CJD_Section 2-A_Case_as_on_26_06_2006 ().pdf to text.\n"
     ]
    },
    {
     "name": "stderr",
     "output_type": "stream",
     "text": [
      "incorrect startxref pointer(1)\n"
     ]
    },
    {
     "name": "stdout",
     "output_type": "stream",
     "text": [
      "Converted CJD_Suo_Motu_Petition_No_11_of_2005 ().pdf to text.\n",
      "Converted clr.a._250_2020 ().pdf to text.\n",
      "Converted CMA NO. 2981-2010 IN CP 09-2010 [18.10 ().pdf to text.\n",
      "Converted CMA No.1674of2013dt-2-4-2013 ().pdf to text.\n",
      "Converted CMA No.3685of2012-dt-15-1-2013 ().pdf to text.\n"
     ]
    },
    {
     "name": "stderr",
     "output_type": "stream",
     "text": [
      "incorrect startxref pointer(1)\n"
     ]
    },
    {
     "name": "stdout",
     "output_type": "stream",
     "text": [
      "Converted CMA No.5144of2011 ().pdf to text.\n",
      "Converted CMA.1652_2013_in_SMC_16_2011_Order_dt_29.03.2013 ().pdf to text.\n"
     ]
    },
    {
     "name": "stderr",
     "output_type": "stream",
     "text": [
      "incorrect startxref pointer(1)\n"
     ]
    },
    {
     "name": "stdout",
     "output_type": "stream",
     "text": [
      "Converted CMA.2243-2010 ().pdf to text.\n",
      "Converted cma.2916_etc._26.07.2013 ().pdf to text.\n",
      "Converted cma.2943_2014_order_dt_28.05.2014 ().pdf to text.\n",
      "Converted CMA.3393-2013_03.07.2013 ().pdf to text.\n",
      "Converted CMA.3470of2013etc ().pdf to text.\n",
      "Converted cma.3685-3686_of_2012_in_hrc.7734-g_of_2009_dt_31.01.2013 ().pdf to text.\n",
      "Converted cma.4581_2013 ().pdf to text.\n",
      "Converted cma.5959_2013 ().pdf to text.\n",
      "Converted CMA.64_of_2013_etc._15.01.2013 ().pdf to text.\n",
      "Converted cma.6882-13 ().pdf to text.\n",
      "Converted cma.7679_2013 ().pdf to text.\n",
      "Converted cma.908_2014_14.04.2014 ().pdf to text.\n",
      "Converted CMA1362OF2012-DT-10-04-2012 ().pdf to text.\n"
     ]
    },
    {
     "name": "stderr",
     "output_type": "stream",
     "text": [
      "incorrect startxref pointer(1)\n"
     ]
    },
    {
     "name": "stdout",
     "output_type": "stream",
     "text": [
      "Converted CMA1362OF2012-DT-10-04-2012[URDU] ().pdf to text.\n",
      "Converted CMA1674OF2013-DT-17-4-2013 ().pdf to text.\n"
     ]
    },
    {
     "name": "stderr",
     "output_type": "stream",
     "text": [
      "incorrect startxref pointer(1)\n"
     ]
    },
    {
     "name": "stdout",
     "output_type": "stream",
     "text": [
      "Converted CMA2745of2009etc ().pdf to text.\n",
      "Converted CMA2981-2010 ().pdf to text.\n",
      "Converted CMA3258of2013inCP65of09DetailOrder ().pdf to text.\n",
      "Converted CMA3470OF2013_08.07.2013 ().pdf to text.\n",
      "Converted CMA3470of2013_10.07.2013 ().pdf to text.\n",
      "Converted CMANo.4671of2012-dt-2-1-2013 ().pdf to text.\n",
      "Converted CMAs Nos.3685-3686of2012 ().pdf to text.\n",
      "Converted CMA_1145-K_2013_in_SMC_16-2011_06-03-2013 ().pdf to text.\n"
     ]
    },
    {
     "name": "stderr",
     "output_type": "stream",
     "text": [
      "incorrect startxref pointer(1)\n"
     ]
    },
    {
     "name": "stdout",
     "output_type": "stream",
     "text": [
      "Converted CMA_1145-K_2013_in_SMC_16-2011_08-03-2013 ().pdf to text.\n",
      "Converted cma_193-194_2013 ().pdf to text.\n"
     ]
    },
    {
     "name": "stderr",
     "output_type": "stream",
     "text": [
      "incorrect startxref pointer(1)\n"
     ]
    },
    {
     "name": "stdout",
     "output_type": "stream",
     "text": [
      "Converted cma_2774_2014_in_const.p.51_2010_dt_22.05.14 ().pdf to text.\n",
      "Converted cma_2943_2014_dt_02.07.2014 ().pdf to text.\n"
     ]
    },
    {
     "name": "stderr",
     "output_type": "stream",
     "text": [
      "incorrect startxref pointer(1)\n"
     ]
    },
    {
     "name": "stdout",
     "output_type": "stream",
     "text": [
      "Converted cma_6762_20 ().pdf to text.\n",
      "Converted cma_7546_2013-cma_18_14 ().pdf to text.\n",
      "Converted cma_908_2014_22.04.2014 ().pdf to text.\n"
     ]
    },
    {
     "name": "stderr",
     "output_type": "stream",
     "text": [
      "Multiple definitions in dictionary at byte 0x1700ab for key /Info\n",
      "Multiple definitions in dictionary at byte 0x1700b9 for key /Info\n",
      "incorrect startxref pointer(1)\n"
     ]
    },
    {
     "name": "stdout",
     "output_type": "stream",
     "text": [
      "Converted cng_prices_order_21-12-12-alongwith_translation ().pdf to text.\n",
      "Converted complaint_586_2023_sjc_04032024 ().pdf to text.\n",
      "Converted CONST P 58-2010 DT 01.05.2011 [HEARING] - Judgment of Supreme Court on appointment of president National Bank of Pakistan ().pdf to text.\n",
      "Converted Const.77_2010_dt_14.10.2013 ().pdf to text.\n",
      "Converted const.p.105-12_hamid_mir_case_20-12-12 ().pdf to text.\n"
     ]
    },
    {
     "name": "stderr",
     "output_type": "stream",
     "text": [
      "incorrect startxref pointer(1)\n"
     ]
    },
    {
     "name": "stdout",
     "output_type": "stream",
     "text": [
      "Converted Const.P.105-2012-eng-urd ().pdf to text.\n"
     ]
    },
    {
     "name": "stderr",
     "output_type": "stream",
     "text": [
      "NumberObject(b'-') invalid; use 0 instead\n",
      "incorrect startxref pointer(1)\n"
     ]
    },
    {
     "name": "stdout",
     "output_type": "stream",
     "text": [
      "Failed to convert Const.P.105of2012-dt-15-1-2013 ().pdf. Error: Invalid Elementary Object starting with b'd' @20105: b'(th)h20( )2 0 0 rA)5d)2(u)- )]hor)3(a-)8(n-4)- )]y33J\\nET\\nQ\\nq\\nBT\\n/F2 11.0399 Tf\\n0'\n",
      "Converted Const.P.11-2010etc ().pdf to text.\n",
      "Converted Const.P.115-2012etc ().pdf to text.\n",
      "Converted const.p.115_2011 ().pdf to text.\n",
      "Converted Const.P.126of2012 ().pdf to text.\n",
      "Converted Const.P.127of2012 ().pdf to text.\n",
      "Converted Const.P.12of2010 ().pdf to text.\n",
      "Converted Const.P.12of2010Urdu ().pdf to text.\n",
      "Converted Const.P.1of2012Dt-10.02.2012[ProductionOfDetenus] ().pdf to text.\n"
     ]
    },
    {
     "name": "stderr",
     "output_type": "stream",
     "text": [
      "incorrect startxref pointer(1)\n",
      "incorrect startxref pointer(1)\n"
     ]
    },
    {
     "name": "stdout",
     "output_type": "stream",
     "text": [
      "Converted const.p.1_ 2012_etc ().pdf to text.\n",
      "Converted Const.P.2,3and4-II ().pdf to text.\n",
      "Converted CONST.P.20-27OF2009 ().pdf to text.\n",
      "Converted Const.P.20of2013-dt-19-4-2013 ().pdf to text.\n",
      "Converted Const.P.20of2013-dt-28-6-2013 ().pdf to text.\n",
      "Converted Const.P.20to27-39&45 ().pdf to text.\n",
      "Converted const.p.20_2013 ().pdf to text.\n",
      "Converted Const.P.22of2013 ().pdf to text.\n"
     ]
    },
    {
     "name": "stderr",
     "output_type": "stream",
     "text": [
      "incorrect startxref pointer(2)\n"
     ]
    },
    {
     "name": "stdout",
     "output_type": "stream",
     "text": [
      "Converted const.p.23of2012 ().pdf to text.\n"
     ]
    },
    {
     "name": "stderr",
     "output_type": "stream",
     "text": [
      "incorrect startxref pointer(1)\n"
     ]
    },
    {
     "name": "stdout",
     "output_type": "stream",
     "text": [
      "Converted Const.P.29of2011 ().pdf to text.\n",
      "Converted Const.P.3 OF 2011 ().pdf to text.\n",
      "Converted Const.P.30of2013 ().pdf to text.\n",
      "Converted const.p.30of2013_dt_22.05.2013 ().pdf to text.\n",
      "Converted Const.P.31of2011 ().pdf to text.\n",
      "Converted Const.P.31of2011-21.11.2012 ().pdf to text.\n",
      "Converted Const.P.31of2011etc ().pdf to text.\n",
      "Converted Const.P.32of2013 ().pdf to text.\n"
     ]
    },
    {
     "name": "stderr",
     "output_type": "stream",
     "text": [
      "incorrect startxref pointer(3)\n"
     ]
    },
    {
     "name": "stdout",
     "output_type": "stream",
     "text": [
      "Converted const.p.33-2013_dt_12.09.2013 ().pdf to text.\n",
      "Converted CONST.P.33-34-2005 ().pdf to text.\n",
      "Converted Const.P.33and34of2005 ().pdf to text.\n",
      "Converted Const.P.33of2013 ().pdf to text.\n",
      "Converted Const.P.33of2013_09.07.13 ().pdf to text.\n",
      "Converted Const.P.33_2013 ().pdf to text.\n",
      "Converted const.p.34_2022 ().pdf to text.\n"
     ]
    },
    {
     "name": "stderr",
     "output_type": "stream",
     "text": [
      "incorrect startxref pointer(1)\n"
     ]
    },
    {
     "name": "stdout",
     "output_type": "stream",
     "text": [
      "Converted Const.P.35-2013_18.07.2013 ().pdf to text.\n"
     ]
    },
    {
     "name": "stderr",
     "output_type": "stream",
     "text": [
      "NumberObject(b'-') invalid; use 0 instead\n"
     ]
    },
    {
     "name": "stdout",
     "output_type": "stream",
     "text": [
      "Failed to convert Const.P.35of2013_01.07.2013 ().pdf. Error: Invalid Elementary Object starting with b'm' @12385: b'3(f)-7( )-19(B)7(I)-m\\n[(,))-4(l)-4(e))-1935( )642(rt)-6(i)2(c)-1(t)-6(l)-4(eR 64'\n",
      "Converted Const.P.35of2013_28.08.2013 ().pdf to text.\n",
      "Converted Const.P.35of2013_order_dated_26.7.2013 ().pdf to text.\n",
      "Converted const.p.35_2013 ().pdf to text.\n",
      "Converted const.p.37_2012_final ().pdf to text.\n",
      "Converted Const.P.39-2103 ().pdf to text.\n",
      "Converted Const.P.39and90of2011-dt-15-2-2013 ().pdf to text.\n",
      "Converted Const.P.39and90of2011-dt-3-5-2013 ().pdf to text.\n",
      "Converted Const.P.39of2007-dt-25-6-2013 ().pdf to text.\n",
      "Converted Const.P.39of2011dt-11-4-2013 ().pdf to text.\n",
      "Converted const.p.39_2019 ().pdf to text.\n",
      "Converted const.p.39_90_2011 ().pdf to text.\n",
      "Converted Const.P.40of2012-AdditionalNoteofJusticeJawwadSKhawaja ().pdf to text.\n",
      "Converted Const.P.40of2012-DetailJudgment-dt-3.7.2012 ().pdf to text.\n",
      "Converted Const.P.40of2012-DetailJudgment[UrduTranslation]-dt-3.7.2012 ().pdf to text.\n",
      "Converted Const.P.40of2012-ShortOrder[19.06.2012] ().pdf to text.\n",
      "Converted const.p.42of2011 ().pdf to text.\n",
      "Converted const.p.42of2011(UrduVersion) ().pdf to text.\n",
      "Converted Const.P.46and47of2010 ().pdf to text.\n",
      "Converted Const.P.46of2013-dt-27-12-2013 ().pdf to text.\n",
      "Converted Const.P.50-69of2011 ().pdf to text.\n",
      "Converted Const.P.56_2003_U_dt_8-9-2015 ().pdf to text.\n",
      "Converted Const.P.57 _2016 ().pdf to text.\n",
      "Converted Const.P.59of2011 ().pdf to text.\n",
      "Converted Const.P.59of2011dt-9-4-2013 ().pdf to text.\n",
      "Converted Const.P.59of2011dt-9-4-2013[UrduTranslation] ().pdf to text.\n",
      "Converted Const.P.5and15-HRC14144-DetailedReasons ().pdf to text.\n",
      "Converted Const.P.5of2012dt.25.5.2012 ().pdf to text.\n",
      "Converted Const.P.5of2013 ().pdf to text.\n",
      "Converted Const.P.5of2013-dt-13-2-2013 ().pdf to text.\n",
      "Converted const.p.5_2011 ().pdf to text.\n",
      "Converted Const.P.67of2011-dt-10.6.2013 ().pdf to text.\n",
      "Converted const.p.6_2011_final ().pdf to text.\n",
      "Converted const.p.6_2023 ().pdf to text.\n",
      "Converted Const.P.73of2011 ().pdf to text.\n",
      "Converted const.p.73_2011 ().pdf to text.\n",
      "Converted Const.P.77-2011-Dt-30.01.2012[MemoScandalCase] ().pdf to text.\n",
      "Converted Const.P.77-2011[MemoScandal]dt.30.12.2011 ().pdf to text.\n",
      "Converted Const.P.77-78-79 [Memogate]DetailedOrder ().pdf to text.\n",
      "Converted Const.P.77of2010-DT-05-04-2012 ().pdf to text.\n"
     ]
    },
    {
     "name": "stderr",
     "output_type": "stream",
     "text": [
      "incorrect startxref pointer(1)\n"
     ]
    },
    {
     "name": "stdout",
     "output_type": "stream",
     "text": [
      "Converted CONST.P.77OF2010-DT-05.04.12[URDU] ().pdf to text.\n",
      "Failed to convert Const.P.77of2010-DT-06-04-2012 ().pdf. Error: Invalid Elementary Object starting with b'T' @11540: b'-24(m)-2)0.4 315.12 Tm\\n)-9(o(0(e)2(p)-2(a)-2-335(b)-)-19(a9(a)-7(h)-2()-122(a)-0'\n",
      "Converted CONST.P.77OF2010-DT-06.04.12[URDU] ().pdf to text.\n",
      "Converted Const.P.77of2010-dt-20-7-2013 ().pdf to text.\n"
     ]
    },
    {
     "name": "stderr",
     "output_type": "stream",
     "text": [
      "incorrect startxref pointer(1)\n"
     ]
    },
    {
     "name": "stdout",
     "output_type": "stream",
     "text": [
      "Converted Const.P.77of2010-dt-21-12-2012 ().pdf to text.\n",
      "Converted Const.P.77of2010dt-08.09.2012 ().pdf to text.\n",
      "Converted Const.P.77of2010dt-08.09.2012[UrduTranslation] ().pdf to text.\n",
      "Converted Const.P.77of2010[dt-06-02-2012] ().pdf to text.\n",
      "Converted Const.P.77of2010_dt_27-8-2013 ().pdf to text.\n",
      "Converted Const.P.77of2011[MEMO SCANDAL CASE]-ShortOrder ().pdf to text.\n",
      "Converted Const.P.77of2012[DetailedOrderFinal] ().pdf to text.\n",
      "Converted Const.P.77to85,89and92of2011[dt12.6.2012] ().pdf to text.\n"
     ]
    },
    {
     "name": "stderr",
     "output_type": "stream",
     "text": [
      "incorrect startxref pointer(1)\n"
     ]
    },
    {
     "name": "stdout",
     "output_type": "stream",
     "text": [
      "Converted Const.P.77to85of2011-ShortOrder-1 ().pdf to text.\n",
      "Converted Const.P.77to85of2011-ShortOrder-1[UrduVersion] ().pdf to text.\n",
      "Converted Const.P.87of2011 ().pdf to text.\n",
      "Converted Const.P.87of2011[UrduVersion] ().pdf to text.\n",
      "Converted Const.P.91of2011Dt-23-8-2012 ().pdf to text.\n",
      "Converted const.p.9and8of2009 ().pdf to text.\n",
      "Converted CONST.P.9OF2009 ().pdf to text.\n",
      "Converted const.p.9_2014 ().pdf to text.\n",
      "Converted const.p.9_2014_detail_reasons ().pdf to text.\n",
      "Converted Const.P.No.10 of2013-Dt-25-3-2013 ().pdf to text.\n",
      "Converted Const.P.No.1_2013_order_dated_10.01.2013 ().pdf to text.\n",
      "Converted Const.P.No.33and34of2005-dt-27-6-2013 ().pdf to text.\n",
      "Converted Const.P.NO.62OF2010_orderdt06062011 ().pdf to text.\n",
      "Converted Const.P.No.77of2012[ShortOrder2.8.2012] ().pdf to text.\n",
      "Converted const.p._ 22_2022_26072022 ().pdf to text.\n",
      "Converted const.p._10_2019 ().pdf to text.\n",
      "Converted const.p._10_2020 ().pdf to text.\n",
      "Converted Const.P._134_2012 ().pdf to text.\n",
      "Converted Const.P._134_2012_21012019 ().pdf to text.\n",
      "Converted const.p._13_2023 ().pdf to text.\n",
      "Converted const.p._13_2023_09052023 ().pdf to text.\n"
     ]
    },
    {
     "name": "stderr",
     "output_type": "stream",
     "text": [
      "Multiple definitions in dictionary at byte 0xc80d3 for key /Info\n",
      "Multiple definitions in dictionary at byte 0xc80e0 for key /Info\n",
      "Multiple definitions in dictionary at byte 0xc80ed for key /Info\n"
     ]
    },
    {
     "name": "stdout",
     "output_type": "stream",
     "text": [
      "Converted const.p._14_2023 ().pdf to text.\n",
      "Converted const.p._14_2023_31052023 ().pdf to text.\n",
      "Converted const.p._17_2019_19062020 ().pdf to text.\n",
      "Converted const.p._17_2019_detailed_reasoning ().pdf to text.\n",
      "Converted const.p._17_2020_dissenting_note_hj11 ().pdf to text.\n",
      "Converted const.p._17_2020_dissenting_note_hj4 ().pdf to text.\n",
      "Converted const.p._18_2019 ().pdf to text.\n",
      "Converted const.p._19_2020 ().pdf to text.\n"
     ]
    },
    {
     "name": "stderr",
     "output_type": "stream",
     "text": [
      "incorrect startxref pointer(1)\n"
     ]
    },
    {
     "name": "stdout",
     "output_type": "stream",
     "text": [
      "Converted const.p._19_2022_01062022 ().pdf to text.\n",
      "Failed to convert Const.P._1_2016 ().pdf. Error: Invalid Elementary Object starting with b'T' @12955: b'2 Tm\\n[(refusal )-18 Tm\\n[(o1 12 gant )-399(certificate )-139(of )-139fitncess )-1'\n",
      "Converted const.p._21_2022_15092023 ().pdf to text.\n",
      "Converted const.p._21_2022_16032023 ().pdf to text.\n",
      "Converted const.p._21_2022_16052023 ().pdf to text.\n",
      "Converted const.p._21_2022_18082023 ().pdf to text.\n",
      "Converted const.p._21_2022_29082023 ().pdf to text.\n",
      "Converted const.p._21_2022_30102023 ().pdf to text.\n",
      "Converted const.p._21_2022_note_18082023 ().pdf to text.\n",
      "Converted const.p._21_2023 ().pdf to text.\n"
     ]
    },
    {
     "name": "stderr",
     "output_type": "stream",
     "text": [
      "Multiple definitions in dictionary at byte 0xa64e4 for key /Info\n",
      "Multiple definitions in dictionary at byte 0xa64f1 for key /Info\n",
      "Multiple definitions in dictionary at byte 0xa64fe for key /Info\n"
     ]
    },
    {
     "name": "stdout",
     "output_type": "stream",
     "text": [
      "Converted const.p._21_2023_11082023 ().pdf to text.\n",
      "Converted const.p._21_2023_19062023 ().pdf to text.\n",
      "Converted const.p._22_2022 ().pdf to text.\n",
      "Converted const.p._22_2022_1st ().pdf to text.\n",
      "Converted Const.P._24_2012 ().pdf to text.\n",
      "Converted const.p._24_2017 ().pdf to text.\n",
      "Converted const.p._24_2023 ().pdf to text.\n",
      "Converted const.p._24_2023_01082023 ().pdf to text.\n",
      "Converted const.p._24_2023_02082023 ().pdf to text.\n",
      "Converted const.p._24_2023_03082023 ().pdf to text.\n",
      "Converted const.p._24_2023_21072023 ().pdf to text.\n",
      "Converted const.p._24_2023_23062023 ().pdf to text.\n",
      "Converted const.p._24_2023_23102023 ().pdf to text.\n",
      "Converted const.p._24_2023_26062023 ().pdf to text.\n",
      "Converted const.p._24_2023_27032023 ().pdf to text.\n",
      "Converted const.p._24_2023_an ().pdf to text.\n",
      "Converted const.p._24_2023_an_10012024_r ().pdf to text.\n",
      "Converted const.p._24_2023_f ().pdf to text.\n",
      "Converted const.p._24_to_26_of_2023_04072023 ().pdf to text.\n",
      "Converted const.p._26_2016 ().pdf to text.\n",
      "Converted Const.P._29_2016 ().pdf to text.\n",
      "Converted Const.P._29_2016_28072016 ().pdf to text.\n",
      "Converted Const.P._29_2017 ().pdf to text.\n",
      "Converted Const.P._2_2011 ().pdf to text.\n",
      "Converted const.p._2_2022 ().pdf to text.\n",
      "Converted const.p._2_2022_14102022 ().pdf to text.\n",
      "Converted const.p._2_2022_21032022 ().pdf to text.\n",
      "Converted const.p._2_2024_06032024 ().pdf to text.\n",
      "Converted const.p._31_2019 ().pdf to text.\n",
      "Converted const.p._32_2023_02nov2023 ().pdf to text.\n",
      "Converted const.p._32_2023_03nov2023 ().pdf to text.\n",
      "Converted const.p._32_2023_additional_note ().pdf to text.\n",
      "Converted const.p._34_2022 ().pdf to text.\n",
      "Converted Const.P._35_2016_dt_15_12_2017 ().pdf to text.\n",
      "Converted Const.P._36_2016_dt_15_12_2017 ().pdf to text.\n",
      "Converted Const.P._37_2017_dt_21_2_2018 ().pdf to text.\n",
      "Converted Const.P._38_2016 ().pdf to text.\n",
      "Converted Const.P._38_2016_2 ().pdf to text.\n",
      "Converted const.p._39_16122019 ().pdf to text.\n",
      "Converted Const.P._39_2016 ().pdf to text.\n",
      "Converted const.p._39_2019 ().pdf to text.\n",
      "Converted const.p._42_2022_01072024 ().pdf to text.\n",
      "Converted const.p._42_2022_06052024 ().pdf to text.\n",
      "Converted const.p._42_2022_07032024 ().pdf to text.\n",
      "Converted const.p._43_2023 ().pdf to text.\n",
      "Converted Const.P._46_2013 ().pdf to text.\n",
      "Converted const.p._48_2019 ().pdf to text.\n",
      "Converted Const.P._50_2018 ().pdf to text.\n"
     ]
    },
    {
     "name": "stderr",
     "output_type": "stream",
     "text": [
      "incorrect startxref pointer(1)\n"
     ]
    },
    {
     "name": "stdout",
     "output_type": "stream",
     "text": [
      "Converted Const.P._56_2003_E_dt_3-9-15 ().pdf to text.\n",
      "Converted Const.P._57_2016 ().pdf to text.\n",
      "Converted const.p._5_2023_04022023 ().pdf to text.\n",
      "Converted const.p._5_2023_04apr2023 ().pdf to text.\n",
      "Converted const.p._5_2023_14042023 ().pdf to text.\n",
      "Converted const.p._5_2023_2732023 ().pdf to text.\n",
      "Converted const.p._5_2023_31032023 ().pdf to text.\n",
      "Converted const.p._5_2023_detailed_reasons ().pdf to text.\n",
      "Converted const.p._5_2024 ().pdf to text.\n",
      "Converted const.p._5_2024_04032024 ().pdf to text.\n"
     ]
    },
    {
     "name": "stderr",
     "output_type": "stream",
     "text": [
      "Multiple definitions in dictionary at byte 0x127f58 for key /Info\n",
      "Multiple definitions in dictionary at byte 0x127f65 for key /Info\n",
      "Multiple definitions in dictionary at byte 0x127f72 for key /Info\n"
     ]
    },
    {
     "name": "stdout",
     "output_type": "stream",
     "text": [
      "Converted const.p._64_2013 ().pdf to text.\n",
      "Converted const.p._6_2023 ().pdf to text.\n",
      "Converted const.p._6_2023_07032024 ().pdf to text.\n",
      "Converted const.p._6_2023_08052023 ().pdf to text.\n",
      "Converted const.p._6_2023_111023 ().pdf to text.\n",
      "Converted const.p._6_2023_13042023 ().pdf to text.\n",
      "Converted const.p._6_2023_addl_n ().pdf to text.\n",
      "Converted const.p._6_2023_ans_07052024 ().pdf to text.\n",
      "Converted const.p._6_2023_an_07052024 ().pdf to text.\n",
      "Converted const.p._6_2023_dn ().pdf to text.\n",
      "Converted const.p._6_2023_dt_05_01_2023 ().pdf to text.\n",
      "Converted const.p._6_to_8_2023 ().pdf to text.\n"
     ]
    },
    {
     "name": "stderr",
     "output_type": "stream",
     "text": [
      "incorrect startxref pointer(1)\n"
     ]
    },
    {
     "name": "stdout",
     "output_type": "stream",
     "text": [
      "Converted Const.P._72_2015 ().pdf to text.\n",
      "Converted Const.P._74_2015 ().pdf to text.\n",
      "Converted const.p._76_2018 ().pdf to text.\n",
      "Converted const.p._7_24 ().pdf to text.\n",
      "Converted Const.P._97_2014 ().pdf to text.\n",
      "Converted const.p._9_2010 ().pdf to text.\n",
      "Converted const.p._9_2010_25042024 ().pdf to text.\n",
      "Converted const.p._9_2010_27122021 ().pdf to text.\n",
      "Converted const.p._9_2010_28122021 ().pdf to text.\n",
      "Converted const.p._9_2023 ().pdf to text.\n",
      "Converted const.p._9_2023_19042023 ().pdf to text.\n",
      "Converted const.p._9_2023_20042023 ().pdf to text.\n",
      "Converted Const.P35of2013-dt-20-7-2013 ().pdf to text.\n",
      "Converted Const.P77-2010-17.07.2013 ().pdf to text.\n",
      "Converted Const.Petition No.77of2010-08-12-2012 ().pdf to text.\n",
      "Converted Const.Petition.24_2011_dt02062011 ().pdf to text.\n",
      "Converted Const.PetitionNo.30of2013-dt-4-6-2013 ().pdf to text.\n",
      "Converted Const.PetitionNo.77of2010_12.10.2012 ().pdf to text.\n",
      "Converted Const.PetitionNo.77of2010_31.10.2012 ().pdf to text.\n"
     ]
    },
    {
     "name": "stderr",
     "output_type": "stream",
     "text": [
      "incorrect startxref pointer(1)\n"
     ]
    },
    {
     "name": "stdout",
     "output_type": "stream",
     "text": [
      "Converted Const.Ps.No.39and90of2011-Dt-27-3-2013 ().pdf to text.\n",
      "Converted Const.Ps.No.39and90of2011Dt-15-3-2013 ().pdf to text.\n",
      "Converted const.p_21_2022_dn ().pdf to text.\n",
      "Converted const.p_32_2023_dt_23-10-23 ().pdf to text.\n"
     ]
    },
    {
     "name": "stderr",
     "output_type": "stream",
     "text": [
      "incorrect startxref pointer(3)\n"
     ]
    },
    {
     "name": "stdout",
     "output_type": "stream",
     "text": [
      "Converted Const.P_3_2014 ().pdf to text.\n",
      "Converted Const.P_43_of_2009 ().pdf to text.\n",
      "Converted Const.P_6of2011 ().pdf to text.\n",
      "Converted ConstitutionPetitionNo.77of2010-dt-12-04-2012 ().pdf to text.\n",
      "Converted ConstitutionPetitionNo.77of2010-dt-17-04-2012 ().pdf to text.\n",
      "Converted ConstitutionPetitionNo21OF2007 ().pdf to text.\n",
      "Converted ConstitutionPetitionNo39of2009 ().pdf to text.\n",
      "Converted ConstitutionPetitionNo5of2012[UrduTranslation] ().pdf to text.\n",
      "Converted Constitution_Petition_No.18 ().pdf to text.\n",
      "Converted ConstP.No.53of2007andConst.P.83of2012 ().pdf to text.\n",
      "Converted constp.p._47_2023 ().pdf to text.\n",
      "Converted ConstP5of2012_dt_20092012 ().pdf to text.\n",
      "Converted const_petition_26_2013_17.03 ().pdf to text.\n"
     ]
    },
    {
     "name": "stderr",
     "output_type": "stream",
     "text": [
      "incorrect startxref pointer(3)\n"
     ]
    },
    {
     "name": "stdout",
     "output_type": "stream",
     "text": [
      "Converted CONTEMPT_OF_COURT_CASE_ORDER_DT_03_03_2011_ica ().pdf to text.\n",
      "Converted cp-733_of_2019_final ().pdf to text.\n"
     ]
    },
    {
     "name": "stderr",
     "output_type": "stream",
     "text": [
      "incorrect startxref pointer(1)\n",
      "incorrect startxref pointer(1)\n"
     ]
    },
    {
     "name": "stdout",
     "output_type": "stream",
     "text": [
      "Failed to convert cp1498of2011 ().pdf. Error: '/Root'\n",
      "Converted CP1512of2008 ().pdf to text.\n"
     ]
    },
    {
     "name": "stderr",
     "output_type": "stream",
     "text": [
      "incorrect startxref pointer(1)\n"
     ]
    },
    {
     "name": "stdout",
     "output_type": "stream",
     "text": [
      "Converted CP778-779 ().pdf to text.\n",
      "Converted cp784of2013 ().pdf to text.\n",
      "Failed to convert CP878OF2008CMA95OF2009 ().pdf. Error: Stream has ended unexpectedly\n",
      "Converted cpla_784_2014 ().pdf to text.\n",
      "Converted CPLA_796_2007_ETC_SHORT_ORDER_REKO_DIQ_CASE ().pdf to text.\n"
     ]
    },
    {
     "name": "stderr",
     "output_type": "stream",
     "text": [
      "incorrect startxref pointer(1)\n"
     ]
    },
    {
     "name": "stdout",
     "output_type": "stream",
     "text": [
      "Converted CPs.10-18of2011 ().pdf to text.\n",
      "Converted CPs1406of09etc ().pdf to text.\n",
      "Converted CPs987-989OF2011-DT19.10.2011 ().pdf to text.\n",
      "Converted cps_853-876_2014 ().pdf to text.\n",
      "Converted cp_1472_2013_03.03.2014 ().pdf to text.\n",
      "Converted cp_1545_2009 ().pdf to text.\n",
      "Converted cp_1646-l-2014_urdu_order_dt_16.10.2014 ().pdf to text.\n",
      "Converted cp_1646-l_2014 ().pdf to text.\n",
      "Converted cp_25-q__399_2014 ().pdf to text.\n",
      "Converted cp_70_2014_04.03.2014 ().pdf to text.\n",
      "Converted Cr.A. 315 of 2012 ().pdf to text.\n",
      "Converted Cr.A._137_L_2017 ().pdf to text.\n",
      "Converted Cr.P.749-Lof2013 ().pdf to text.\n",
      "Converted cr.p.no.197_k_2019 ().pdf to text.\n"
     ]
    },
    {
     "name": "stderr",
     "output_type": "stream",
     "text": [
      "incorrect startxref pointer(1)\n"
     ]
    },
    {
     "name": "stdout",
     "output_type": "stream",
     "text": [
      "Converted cr.p_1054_l_2023 ().pdf to text.\n",
      "Converted Criminal Appeal No652 of 2009 ().pdf to text.\n",
      "Converted Criminal_Original_P93to98 ().pdf to text.\n",
      "Converted Crl.A.126of2012 ().pdf to text.\n",
      "Converted Crl.A.13-14-15and16of2004and53of2011 ().pdf to text.\n",
      "Converted Crl.A.140of2005 ().pdf to text.\n",
      "Converted crl.a.19of2012 ().pdf to text.\n",
      "Converted crl.a.264_2006 ().pdf to text.\n",
      "Converted crl.a.7_p_2017 ().pdf to text.\n",
      "Converted crl.a._03_p_2017 ().pdf to text.\n"
     ]
    },
    {
     "name": "stderr",
     "output_type": "stream",
     "text": [
      "incorrect startxref pointer(2)\n"
     ]
    },
    {
     "name": "stdout",
     "output_type": "stream",
     "text": [
      "Converted Crl.A._1-K_2018 ().pdf to text.\n",
      "Converted CRL.A._1-K_2018_21032018 ().pdf to text.\n",
      "Converted Crl.A._103_2010 ().pdf to text.\n",
      "Converted Crl.A._103_2019 ().pdf to text.\n",
      "Converted Crl.A._104_2010 ().pdf to text.\n",
      "Converted Crl.A._104_L_2017 ().pdf to text.\n",
      "Converted crl.a._106_2020 ().pdf to text.\n",
      "Converted Crl.A._106_L_2017 ().pdf to text.\n",
      "Converted Crl.A._107_L_2017 ().pdf to text.\n",
      "Converted crl.a._108_2020 ().pdf to text.\n",
      "Converted crl.a._110_2020 ().pdf to text.\n",
      "Converted Crl.A._115_2013 ().pdf to text.\n",
      "Converted Crl.A._11_P_2014 ().pdf to text.\n",
      "Converted Crl.A._11_P_2017 ().pdf to text.\n",
      "Converted Crl.A._12-P_2011 ().pdf to text.\n",
      "Converted crl.a._120_2019 ().pdf to text.\n",
      "Converted crl.a._122_l_2012 ().pdf to text.\n",
      "Converted Crl.A._122_L_2017 ().pdf to text.\n",
      "Converted crl.a._125_2020 ().pdf to text.\n",
      "Converted Crl.A._126_2010 ().pdf to text.\n",
      "Converted Crl.A._128_2010 ().pdf to text.\n",
      "Converted crl.a._128_2020 ().pdf to text.\n",
      "Converted Crl.A._12_P_2013 ().pdf to text.\n",
      "Converted Crl.A._133_L_2017 ().pdf to text.\n",
      "Converted Crl.A._135_2013 ().pdf to text.\n",
      "Converted Crl.A._135_L_2017 ().pdf to text.\n",
      "Converted Crl.A._137_L_2010 ().pdf to text.\n",
      "Converted crl.a._139_2022 ().pdf to text.\n",
      "Converted Crl.A._13_P_2009 ().pdf to text.\n"
     ]
    },
    {
     "name": "stderr",
     "output_type": "stream",
     "text": [
      "incorrect startxref pointer(1)\n"
     ]
    },
    {
     "name": "stdout",
     "output_type": "stream",
     "text": [
      "Converted Crl.A._13_P_2014 ().pdf to text.\n",
      "Converted Crl.A._13_P_2015 ().pdf to text.\n",
      "Failed to convert Crl.A._141_2016 ().pdf. Error: '/Root'\n",
      "Converted crl.a._145_l_2017 ().pdf to text.\n",
      "Converted Crl.A._148_L_2017 ().pdf to text.\n",
      "Converted Crl.A._149_L_2017 ().pdf to text.\n",
      "Converted crl.a._154_2020 ().pdf to text.\n",
      "Converted crl.a._154_l_2013 ().pdf to text.\n",
      "Converted Crl.A._154_L_2017 ().pdf to text.\n",
      "Converted Crl.A._155_2018 ().pdf to text.\n",
      "Converted Crl.A._157_L_2017 ().pdf to text.\n",
      "Converted Crl.A._158_L_2017 ().pdf to text.\n",
      "Converted crl.a._15_q_2020 ().pdf to text.\n"
     ]
    },
    {
     "name": "stderr",
     "output_type": "stream",
     "text": [
      "incorrect startxref pointer(1)\n"
     ]
    },
    {
     "name": "stdout",
     "output_type": "stream",
     "text": [
      "Converted crl.a._160_2010 ().pdf to text.\n",
      "Converted Crl.A._160_L_2017 ().pdf to text.\n",
      "Converted Crl.A._163_2013 ().pdf to text.\n",
      "Converted crl.a._169_2023 ().pdf to text.\n",
      "Converted Crl.A._16_P_2013 ().pdf to text.\n",
      "Converted Crl.A._176_2012 ().pdf to text.\n",
      "Converted crl.a._177_2022 ().pdf to text.\n",
      "Converted Crl.A._178-L_2009 ().pdf to text.\n",
      "Converted Crl.A._17_P_2013 ().pdf to text.\n",
      "Converted crl.a._180_2020 ().pdf to text.\n",
      "Converted crl.a._181_2012 ().pdf to text.\n",
      "Converted crl.a._184_2020 ().pdf to text.\n",
      "Converted crl.a._185_2006 ().pdf to text.\n",
      "Converted Crl.A._190_2016 ().pdf to text.\n",
      "Converted crl.a._190_2020 ().pdf to text.\n",
      "Converted Crl.A._195_L_2017 ().pdf to text.\n",
      "Converted Crl.A._199_2011 ().pdf to text.\n",
      "Converted Crl.A._19_P_2014 ().pdf to text.\n"
     ]
    },
    {
     "name": "stderr",
     "output_type": "stream",
     "text": [
      "incorrect startxref pointer(1)\n"
     ]
    },
    {
     "name": "stdout",
     "output_type": "stream",
     "text": [
      "Converted Crl.A._201_2018 ().pdf to text.\n",
      "Failed to convert Crl.A._206_2016 ().pdf. Error: '/Root'\n",
      "Converted crl.a._208_2022 ().pdf to text.\n",
      "Converted crl.a._20_2018 ().pdf to text.\n",
      "Converted Crl.A._21-K_2016 ().pdf to text.\n",
      "Converted Crl.A._210_2015 ().pdf to text.\n",
      "Converted Crl.A._218_2015 ().pdf to text.\n",
      "Converted Crl.A._21_P_2010 ().pdf to text.\n",
      "Converted Crl.A._22_P_2014 ().pdf to text.\n",
      "Converted crl.a._231_2020 ().pdf to text.\n",
      "Converted Crl.A._235_2010 ().pdf to text.\n",
      "Converted crl.a._239_2020 ().pdf to text.\n",
      "Converted crl.a._241_2020 ().pdf to text.\n",
      "Converted Crl.A._24_2010 ().pdf to text.\n",
      "Converted crl.a._251_2020 ().pdf to text.\n",
      "Converted Crl.A._254_2014 ().pdf to text.\n",
      "Converted crl.a._266_2019 ().pdf to text.\n",
      "Converted crl.a._270_l_2012 ().pdf to text.\n",
      "Converted Crl.A._274_2006 ().pdf to text.\n",
      "Converted Crl.A._275_2011 ().pdf to text.\n",
      "Converted crl.a._277_2020 ().pdf to text.\n",
      "Converted crl.a._282_2019 ().pdf to text.\n",
      "Converted crl.a._291_2020 ().pdf to text.\n",
      "Converted crl.a._293_2020 ().pdf to text.\n",
      "Converted crl.a._296_l_2020 ().pdf to text.\n",
      "Converted crl.a._297_2020 ().pdf to text.\n",
      "Converted Crl.A._298_L_2017 ().pdf to text.\n",
      "Converted Crl.A._301_L_2017 ().pdf to text.\n"
     ]
    },
    {
     "name": "stderr",
     "output_type": "stream",
     "text": [
      "incorrect startxref pointer(3)\n",
      "NumberObject(b'-') invalid; use 0 instead\n"
     ]
    },
    {
     "name": "stdout",
     "output_type": "stream",
     "text": [
      "Failed to convert Crl.A._306_L_2012 ().pdf. Error: Invalid Elementary Object starting with b')' @12694: b'-9.9888371(h)17.56n:)-S953.72298346.2883S1(s)20.33(&)-9.988837( )-203.471(e)-27.'\n",
      "Converted crl.a._319_l_2017 ().pdf to text.\n",
      "Converted Crl.A._322_2018 ().pdf to text.\n"
     ]
    },
    {
     "name": "stderr",
     "output_type": "stream",
     "text": [
      "incorrect startxref pointer(2)\n"
     ]
    },
    {
     "name": "stdout",
     "output_type": "stream",
     "text": [
      "Converted Crl.A._324_2011 ().pdf to text.\n",
      "Converted crl.a._324_2021 ().pdf to text.\n"
     ]
    },
    {
     "name": "stderr",
     "output_type": "stream",
     "text": [
      "incorrect startxref pointer(1)\n"
     ]
    },
    {
     "name": "stdout",
     "output_type": "stream",
     "text": [
      "Converted Crl.A._326_2013 ().pdf to text.\n",
      "Converted Crl.A._337_2015 ().pdf to text.\n",
      "Failed to convert Crl.A._34_L_2018 ().pdf. Error: Invalid Elementary Object starting with b'J' @14414: b'39(cul)-139(her )-13J\\nET\\nQ\\nq\\nBQ\\n'\n",
      "Converted crl.a._359_2018 ().pdf to text.\n",
      "Converted Crl.A._35_K_2016 ().pdf to text.\n",
      "Converted crl.a._363_2021 ().pdf to text.\n",
      "Converted crl.a._366_2010 ().pdf to text.\n",
      "Converted crl.a._36_2023 ().pdf to text.\n",
      "Converted Crl.A._37_L_2016 ().pdf to text.\n",
      "Converted Crl.A._382_2011 ().pdf to text.\n",
      "Converted Crl.A._386_2018 ().pdf to text.\n",
      "Converted crl.a._398_2020 ().pdf to text.\n",
      "Converted crl.a._39_k_2022 ().pdf to text.\n",
      "Converted Crl.A._39_L_2015 ().pdf to text.\n",
      "Converted Crl.A._39_L_2015_Urdu ().pdf to text.\n",
      "Converted Crl.A._3_P_2014 ().pdf to text.\n",
      "Converted crl.a._3_q_2021 ().pdf to text.\n",
      "Converted crl.a._400_2019 ().pdf to text.\n",
      "Converted Crl.A._402_2013 ().pdf to text.\n",
      "Converted crl.a._40_2020 ().pdf to text.\n",
      "Converted crl.a._416_2020 ().pdf to text.\n"
     ]
    },
    {
     "name": "stderr",
     "output_type": "stream",
     "text": [
      "incorrect startxref pointer(1)\n",
      "incorrect startxref pointer(1)\n"
     ]
    },
    {
     "name": "stdout",
     "output_type": "stream",
     "text": [
      "Converted crl.a._425_2019 ().pdf to text.\n",
      "Failed to convert Crl.A._429_2017 ().pdf. Error: '/Root'\n"
     ]
    },
    {
     "name": "stderr",
     "output_type": "stream",
     "text": [
      "incorrect startxref pointer(1)\n"
     ]
    },
    {
     "name": "stdout",
     "output_type": "stream",
     "text": [
      "Converted Crl.A._430_2011 ().pdf to text.\n",
      "Failed to convert Crl.A._430_2017 ().pdf. Error: '/Root'\n",
      "Converted Crl.A._436_2017 ().pdf to text.\n",
      "Converted crl.a._437_2020 ().pdf to text.\n",
      "Converted crl.a._443_2019 ().pdf to text.\n"
     ]
    },
    {
     "name": "stderr",
     "output_type": "stream",
     "text": [
      "incorrect startxref pointer(1)\n"
     ]
    },
    {
     "name": "stdout",
     "output_type": "stream",
     "text": [
      "Converted crl.a._446_2020 ().pdf to text.\n"
     ]
    },
    {
     "name": "stderr",
     "output_type": "stream",
     "text": [
      "NumberObject(b'-') invalid; use 0 instead\n"
     ]
    },
    {
     "name": "stdout",
     "output_type": "stream",
     "text": [
      "Failed to convert Crl.A._465_2006 ().pdf. Error: Invalid Elementary Object starting with b')' @7560: b'speci)-119(the )-ar )-s-19( )] h9(High)-1convi9( )] TJ\\nET\\nbET\\nQ\\n( )239(tr(j)-1BT'\n",
      "Converted Crl.A._465_2015 ().pdf to text.\n",
      "Converted Crl.A._466_2017 ().pdf to text.\n",
      "Converted crl.a._46_l_2020 ().pdf to text.\n",
      "Converted crl.a._475_2019 ().pdf to text.\n",
      "Converted Crl.A._479_2015 ().pdf to text.\n"
     ]
    },
    {
     "name": "stderr",
     "output_type": "stream",
     "text": [
      "incorrect startxref pointer(1)\n"
     ]
    },
    {
     "name": "stdout",
     "output_type": "stream",
     "text": [
      "Converted crl.a._48_2021 ().pdf to text.\n",
      "Converted Crl.A._48_L_2016 ().pdf to text.\n",
      "Converted Crl.A._496_2009 ().pdf to text.\n",
      "Converted crl.a._506_2020 ().pdf to text.\n",
      "Converted crl.a._518_2010 ().pdf to text.\n",
      "Converted Crl.A._523_2017 ().pdf to text.\n",
      "Converted crl.a._528_2019 ().pdf to text.\n",
      "Converted Crl.A._52_L_2013 ().pdf to text.\n",
      "Converted Crl.A._52_P_2009 ().pdf to text.\n",
      "Converted crl.a._531_2019 ().pdf to text.\n",
      "Converted crl.a._541_2020 ().pdf to text.\n",
      "Converted crl.a._547_2017 ().pdf to text.\n",
      "Converted crl.a._558_2019 ().pdf to text.\n",
      "Converted crl.a._560_2020 ().pdf to text.\n",
      "Converted Crl.A._582_2018 ().pdf to text.\n",
      "Converted crl.a._585_2020 ().pdf to text.\n",
      "Converted Crl.A._589_2006 ().pdf to text.\n",
      "Converted crl.a._597_2018_dt_25_01_2024 ().pdf to text.\n",
      "Converted crl.a._599_2020 ().pdf to text.\n",
      "Converted crl.a._599_2020_26032021 ().pdf to text.\n",
      "Converted Crl.A._6-P_2015 ().pdf to text.\n",
      "Converted Crl.A._609_2014 ().pdf to text.\n",
      "Converted Crl.A._617_2017 ().pdf to text.\n",
      "Converted crl.a._630_2019 ().pdf to text.\n",
      "Converted crl.a._633_2019_15092023 ().pdf to text.\n",
      "Converted crl.a._635_2019 ().pdf to text.\n",
      "Converted crl.a._66_l_2020 ().pdf to text.\n",
      "Converted Crl.A._67_L_2017 ().pdf to text.\n",
      "Converted crl.a._67_l_2020 ().pdf to text.\n",
      "Converted Crl.A._75_L_2017 ().pdf to text.\n",
      "Converted crl.a._75_l_2021 ().pdf to text.\n",
      "Converted Crl.A._76_L_2017 ().pdf to text.\n",
      "Converted crl.a._785_2020 ().pdf to text.\n",
      "Converted Crl.A._7_P_2013 ().pdf to text.\n"
     ]
    },
    {
     "name": "stderr",
     "output_type": "stream",
     "text": [
      "incorrect startxref pointer(1)\n"
     ]
    },
    {
     "name": "stdout",
     "output_type": "stream",
     "text": [
      "Converted Crl.A._7_P_2014 ().pdf to text.\n",
      "Converted Crl.A._80_L_2017 ().pdf to text.\n",
      "Converted Crl.A._81_L_2017 ().pdf to text.\n",
      "Converted crl.a._82_2022 ().pdf to text.\n",
      "Converted crl.a._85_2020 ().pdf to text.\n",
      "Converted Crl.A._8_P_2017 ().pdf to text.\n",
      "Converted Crl.A._90_L_2017 ().pdf to text.\n",
      "Converted Crl.A._91_L_2017 ().pdf to text.\n",
      "Converted crl.a._92_l_2017 ().pdf to text.\n",
      "Converted Crl.A._93_2013 ().pdf to text.\n",
      "Converted Crl.A._94_2019 ().pdf to text.\n"
     ]
    },
    {
     "name": "stderr",
     "output_type": "stream",
     "text": [
      "incorrect startxref pointer(1)\n"
     ]
    },
    {
     "name": "stdout",
     "output_type": "stream",
     "text": [
      "Converted crl.a._95_2019 ().pdf to text.\n",
      "Converted Crl.A._97_2017 ().pdf to text.\n",
      "Converted Crl.A._97_L_2016 ().pdf to text.\n",
      "Converted Crl.A._9_L_2016 ().pdf to text.\n",
      "Converted crl.a_01_l_2015 ().pdf to text.\n",
      "Converted Crl.A_04-K_2012 ().pdf to text.\n",
      "Converted Crl.A_137_L_2010 ().pdf to text.\n",
      "Converted crl.a_310_2006_12.03.2014 ().pdf to text.\n",
      "Converted crl.a_413-414_2013_18.02.2014 ().pdf to text.\n",
      "Converted Crl.A_6_P_2010 ().pdf to text.\n",
      "Converted Crl.M.A.486of2010 ().pdf to text.\n",
      "Converted Crl.M.A.486of2010dt-08-08-2012 ().pdf to text.\n",
      "Converted Crl.M.A.No.486of2010-dt-26-6-2013 ().pdf to text.\n",
      "Converted crl.m.a._130_k_2019 ().pdf to text.\n",
      "Converted Crl.M.A._1379_2017_Additional_Note ().pdf to text.\n",
      "Converted crl.m.a._1404_2019 ().pdf to text.\n",
      "Converted crl.m.a._1566_2016 ().pdf to text.\n",
      "Converted crl.m.a._1581_2021 ().pdf to text.\n",
      "Converted crl.m.a._1591_2020 ().pdf to text.\n"
     ]
    },
    {
     "name": "stderr",
     "output_type": "stream",
     "text": [
      "incorrect startxref pointer(2)\n"
     ]
    },
    {
     "name": "stdout",
     "output_type": "stream",
     "text": [
      "Converted crl.m.a._1659_2019 ().pdf to text.\n",
      "Converted Crl.M.A._183_2019 ().pdf to text.\n",
      "Converted Crl.M.A._200_2019 ().pdf to text.\n",
      "Converted crl.m.a._365_l_2020 ().pdf to text.\n",
      "Converted crl.m.a._459_2020 ().pdf to text.\n",
      "Converted crl.m.a._62_p_2018 ().pdf to text.\n",
      "Converted crl.m.appeal._1_q_2024 ().pdf to text.\n",
      "Converted crl.m.appeal._30_2022 ().pdf to text.\n",
      "Converted crl.m.appeal._6_2020 ().pdf to text.\n",
      "Converted Crl.M.A_183_2019 ().pdf to text.\n",
      "Converted Crl.M.A_693_2018 ().pdf to text.\n",
      "Converted Crl.Misc.A.786of2010inCrl.A.22of2002_dt180912 ().pdf to text.\n",
      "Converted crl.misc.a.86_2014 ().pdf to text.\n",
      "Converted crl.misc.app_86_2014_order_dt_20.05.2014 ().pdf to text.\n",
      "Converted crl.o.p.4-k_2023_dt_21_12_2023 ().pdf to text.\n"
     ]
    },
    {
     "name": "stderr",
     "output_type": "stream",
     "text": [
      "incorrect startxref pointer(1)\n"
     ]
    },
    {
     "name": "stdout",
     "output_type": "stream",
     "text": [
      "Converted Crl.O.P.6of2012 ().pdf to text.\n",
      "Converted Crl.O.P.6of2012-dt-26-4-2012 ().pdf to text.\n",
      "Converted Crl.O.P.70_2012_dt_04-06-2013 ().pdf to text.\n",
      "Converted Crl.O.P.70_2012_dt_10-09-2013 ().pdf to text.\n",
      "Converted Crl.O.P.74of2010in SMC.4of2010_dt18092012 ().pdf to text.\n"
     ]
    },
    {
     "name": "stderr",
     "output_type": "stream",
     "text": [
      "incorrect startxref pointer(1)\n"
     ]
    },
    {
     "name": "stdout",
     "output_type": "stream",
     "text": [
      "Converted Crl.O.P.89of2011 ().pdf to text.\n",
      "Converted Crl.O.P.92of2013 ().pdf to text.\n",
      "Converted Crl.O.P.92of2013-dt-9-10-2013 ().pdf to text.\n",
      "Converted Crl.O.P.92_2013_dt_02.08.2013 ().pdf to text.\n",
      "Converted Crl.O.P.96_12_Altaf_Hussain _1 ().pdf to text.\n",
      "Converted Crl.O.P._09_2018 ().pdf to text.\n",
      "Converted crl.o.p._148_2022 ().pdf to text.\n",
      "Converted crl.o.p._148_2022_02112022 ().pdf to text.\n",
      "Converted Crl.O.P._154_2017 ().pdf to text.\n",
      "Converted crl.o.p._21_2021 ().pdf to text.\n",
      "Converted crl.o.p._40_2023 ().pdf to text.\n",
      "Converted Crl.O.P._47_2016 ().pdf to text.\n",
      "Converted crl.o.p._4_k_2023 ().pdf to text.\n",
      "Converted Crl.O.P._57_2015_Additional_Note ().pdf to text.\n",
      "Converted Crl.O.P._57_2015_DN ().pdf to text.\n",
      "Converted Crl.O.P._59_2015 ().pdf to text.\n",
      "Converted crl.o.p._6_2024_05062024 ().pdf to text.\n",
      "Converted crl.o.p._6_2024_17052024 ().pdf to text.\n",
      "Converted crl.o.p._6_2024_28062024 ().pdf to text.\n",
      "Converted Crl.O.P_36_2017 ().pdf to text.\n",
      "Converted Crl.O.P_57_2015 ().pdf to text.\n",
      "Converted crl.org.p._148_2022_07112022 ().pdf to text.\n",
      "Converted Crl.P.163_to_171_S.M.C.5_2005 ().pdf to text.\n",
      "Converted Crl.P.170of2013-dt-5-6-2013 ().pdf to text.\n",
      "Converted crl.p.183_p_2022_dt_25_01_2024 ().pdf to text.\n",
      "Converted Crl.P.200of2009 ().pdf to text.\n",
      "Converted crl.p.203-l_2014 ().pdf to text.\n",
      "Converted Crl.P.213-2013_03.07.2013 ().pdf to text.\n",
      "Converted Crl.P.213of2013-dt-20.7.2013 ().pdf to text.\n",
      "Converted crl.p.240_2012 ().pdf to text.\n",
      "Converted Crl.P.No.426of2009&Crl.A.No ().pdf to text.\n",
      "Converted crl.p._1001_2016 ().pdf to text.\n",
      "Converted crl.p._1001_l_2017 ().pdf to text.\n",
      "Converted crl.p._1004_2019 ().pdf to text.\n",
      "Converted Crl.P._100_2017 ().pdf to text.\n",
      "Converted crl.p._100_k_2020 ().pdf to text.\n"
     ]
    },
    {
     "name": "stderr",
     "output_type": "stream",
     "text": [
      "incorrect startxref pointer(1)\n"
     ]
    },
    {
     "name": "stdout",
     "output_type": "stream",
     "text": [
      "Failed to convert Crl.P._1011_2017 ().pdf. Error: '/Root'\n",
      "Converted crl.p._1016_l_2021 ().pdf to text.\n",
      "Converted crl.p._1017_2020 ().pdf to text.\n",
      "Converted crl.p._101_k_2021 ().pdf to text.\n",
      "Converted crl.p._1023_2020 ().pdf to text.\n",
      "Converted crl.p._1029_2020 ().pdf to text.\n",
      "Converted crl.p._103_p_2011 ().pdf to text.\n",
      "Converted crl.p._103_p_2022 ().pdf to text.\n",
      "Converted crl.p._104_p_2023 ().pdf to text.\n",
      "Converted crl.p._1050_l_2020 ().pdf to text.\n",
      "Converted crl.p._1054_2023 ().pdf to text.\n",
      "Converted crl.p._1054_l_2023_urdu ().pdf to text.\n",
      "Converted Crl.P._105_2017 ().pdf to text.\n",
      "Converted crl.p._105_k_2020 ().pdf to text.\n",
      "Converted crl.p._1067_2020 ().pdf to text.\n",
      "Converted crl.p._1072_2021 ().pdf to text.\n",
      "Converted crl.p._1072_l_2022 ().pdf to text.\n",
      "Converted crl.p._1075_l_2020 ().pdf to text.\n",
      "Converted crl.p._1079_l_of_2020 ().pdf to text.\n",
      "Converted crl.p._1086_l_2022 ().pdf to text.\n",
      "Converted crl.p._1088_2021 ().pdf to text.\n",
      "Converted crl.p._1091_2021 ().pdf to text.\n",
      "Converted Crl.P._1099_2016 ().pdf to text.\n",
      "Converted crl.p._1109_2021 ().pdf to text.\n",
      "Converted crl.p._1117_l_2021 ().pdf to text.\n",
      "Converted crl.p._1121_2017 ().pdf to text.\n",
      "Converted crl.p._1121_2023 ().pdf to text.\n",
      "Converted crl.p._112_2020 ().pdf to text.\n",
      "Converted crl.p._112_p_2014 ().pdf to text.\n",
      "Converted Crl.P._113_2016 ().pdf to text.\n",
      "Converted crl.p._1143_2019 ().pdf to text.\n",
      "Converted crl.p._1145_l_2019 ().pdf to text.\n",
      "Converted crl.p._1145_l_2020 ().pdf to text.\n",
      "Converted crl.p._1146_2021 ().pdf to text.\n",
      "Converted crl.p._1149_l_2017 ().pdf to text.\n",
      "Converted crl.p._114_2018 ().pdf to text.\n",
      "Converted crl.p._1152_2020 ().pdf to text.\n",
      "Converted crl.p._1154_2021 ().pdf to text.\n",
      "Converted crl.p._1183_2021 ().pdf to text.\n",
      "Converted Crl.P._1188_2016 ().pdf to text.\n",
      "Converted crl.p._1192_2023 ().pdf to text.\n",
      "Converted crl.p._1196_l_2015 ().pdf to text.\n",
      "Converted crl.p._1205_2019 ().pdf to text.\n",
      "Converted Crl.P._120_2016 ().pdf to text.\n",
      "Converted crl.p._120_2020 ().pdf to text.\n",
      "Converted crl.p._1210_2020 ().pdf to text.\n",
      "Converted crl.p._1212_l_2022 ().pdf to text.\n",
      "Converted crl.p._1225_2021 ().pdf to text.\n",
      "Converted crl.p._1228_2020 ().pdf to text.\n",
      "Converted Crl.P._1232_2016 ().pdf to text.\n",
      "Converted crl.p._1233_2023 ().pdf to text.\n",
      "Converted crl.p._1241_l_2023 ().pdf to text.\n",
      "Converted crl.p._1245_2020 ().pdf to text.\n",
      "Converted crl.p._1246_2019 ().pdf to text.\n",
      "Converted crl.p._124_2022 ().pdf to text.\n"
     ]
    },
    {
     "name": "stderr",
     "output_type": "stream",
     "text": [
      "incorrect startxref pointer(1)\n"
     ]
    },
    {
     "name": "stdout",
     "output_type": "stream",
     "text": [
      "Converted crl.p._1251_2022 ().pdf to text.\n",
      "Converted Crl.P._1252_2016 ().pdf to text.\n",
      "Converted crl.p._1255_2021 ().pdf to text.\n",
      "Converted crl.p._1267_2022 ().pdf to text.\n",
      "Converted crl.p._1268_l_2021 ().pdf to text.\n",
      "Converted crl.p._1269_2020 ().pdf to text.\n",
      "Converted crl.p._126_p_2011 ().pdf to text.\n",
      "Converted crl.p._1271_2019 ().pdf to text.\n",
      "Converted Crl.P._1273_2016 ().pdf to text.\n",
      "Converted crl.p._1276_2023 ().pdf to text.\n",
      "Converted crl.p._127_q_2021 ().pdf to text.\n",
      "Converted crl.p._1280_2019 ().pdf to text.\n",
      "Converted Crl.P._1287_2016 ().pdf to text.\n",
      "Converted crl.p._1288_l_2017 ().pdf to text.\n",
      "Converted crl.p._128_2024 ().pdf to text.\n",
      "Converted crl.p._1290_2021 ().pdf to text.\n",
      "Converted crl.p._1294_2023 ().pdf to text.\n",
      "Converted crl.p._1296_l_2013 ().pdf to text.\n",
      "Converted crl.p._1298_2017 ().pdf to text.\n",
      "Converted crl.p._1303_2021 ().pdf to text.\n",
      "Converted crl.p._1308_2022 ().pdf to text.\n",
      "Converted crl.p._130_q_2021 ().pdf to text.\n",
      "Converted crl.p._1313_l_2021 ().pdf to text.\n",
      "Converted crl.p._1316_2016 ().pdf to text.\n",
      "Converted crl.p._1319_l_2021 ().pdf to text.\n",
      "Converted crl.p._1329_2023 ().pdf to text.\n",
      "Converted crl.p._1345_l_2023 ().pdf to text.\n",
      "Converted crl.p._134_2024_dn ().pdf to text.\n",
      "Converted crl.p._1359_2023 ().pdf to text.\n",
      "Converted crl.p._1359_2023_urdu ().pdf to text.\n",
      "Converted crl.p._1371_2016 ().pdf to text.\n",
      "Converted crl.p._1384_2021 ().pdf to text.\n",
      "Converted crl.p._138_q_2020 ().pdf to text.\n",
      "Converted crl.p._1390_l_2013 ().pdf to text.\n",
      "Converted crl.p._1392_2022 ().pdf to text.\n",
      "Converted crl.p._13_k_2023 ().pdf to text.\n",
      "Converted Crl.P._140_P_2014 ().pdf to text.\n",
      "Converted crl.p._1420_l_2019 ().pdf to text.\n",
      "Converted crl.p._1431_2019 ().pdf to text.\n",
      "Converted crl.p._143_k_2020 ().pdf to text.\n",
      "Converted crl.p._143_k_2021 ().pdf to text.\n",
      "Converted crl.p._1442_2022 ().pdf to text.\n",
      "Converted crl.p._1443_2021 ().pdf to text.\n",
      "Converted crl.p._145_l_2021 ().pdf to text.\n",
      "Converted crl.p._146_k_2021 ().pdf to text.\n",
      "Converted crl.p._147_k_2020 ().pdf to text.\n",
      "Converted crl.p._1485_l_2019 ().pdf to text.\n",
      "Converted crl.p._1496_2022 ().pdf to text.\n",
      "Converted crl.p._149_k_2020 ().pdf to text.\n",
      "Converted crl.p._149_l_2022 ().pdf to text.\n",
      "Converted crl.p._149_p_2023 ().pdf to text.\n",
      "Converted crl.p._14_q_2021 ().pdf to text.\n",
      "Converted crl.p._150_l_2023 ().pdf to text.\n",
      "Converted crl.p._1525_2020 ().pdf to text.\n",
      "Converted crl.p._1549_2021 ().pdf to text.\n",
      "Converted crl.p._1557_2022 ().pdf to text.\n",
      "Converted crl.p._155_2024 ().pdf to text.\n",
      "Converted crl.p._1581_2021 ().pdf to text.\n",
      "Converted crl.p._1596_2021 ().pdf to text.\n",
      "Converted Crl.P._15_2015 ().pdf to text.\n",
      "Converted crl.p._1602_2023 ().pdf to text.\n",
      "Converted crl.p._1603_l_2021 ().pdf to text.\n",
      "Converted crl.p._1612_2021 ().pdf to text.\n",
      "Converted crl.p._1617_2022 ().pdf to text.\n",
      "Converted crl.p._1619_2022 ().pdf to text.\n",
      "Converted crl.p._163_2020 ().pdf to text.\n",
      "Converted crl.p._1667_2021 ().pdf to text.\n",
      "Converted crl.p._166_l_2020 ().pdf to text.\n",
      "Converted crl.p._1672_l_2019 ().pdf to text.\n",
      "Converted crl.p._167_k_2022 ().pdf to text.\n",
      "Converted crl.p._167_p_2021 ().pdf to text.\n",
      "Converted crl.p._1690_l_2016 ().pdf to text.\n",
      "Converted Crl.P._169_2007 ().pdf to text.\n",
      "Converted crl.p._169_2020 ().pdf to text.\n",
      "Converted crl.p._1710_l_2017 ().pdf to text.\n",
      "Converted crl.p._1720_2022 ().pdf to text.\n",
      "Converted crl.p._172_2020 ().pdf to text.\n",
      "Converted crl.p._172_l_2023 ().pdf to text.\n",
      "Converted crl.p._172_p_2021 ().pdf to text.\n",
      "Converted crl.p._17_l_2018 ().pdf to text.\n",
      "Converted crl.p._1802_l_2017 ().pdf to text.\n",
      "Converted crl.p._1806_l_2017 ().pdf to text.\n",
      "Converted crl.p._188_p_2023 ().pdf to text.\n",
      "Converted crl.p._18_2019 ().pdf to text.\n",
      "Converted crl.p._194_2024 ().pdf to text.\n",
      "Converted Crl.P._198_2016 ().pdf to text.\n",
      "Converted crl.p._201_k_2023 ().pdf to text.\n",
      "Converted crl.p._203_2021 ().pdf to text.\n",
      "Converted crl.p._207_2023 ().pdf to text.\n",
      "Converted crl.p._209_2018 ().pdf to text.\n",
      "Converted crl.p._21_p_2020 ().pdf to text.\n",
      "Converted crl.p._220_2024 ().pdf to text.\n",
      "Converted crl.p._224_2019 ().pdf to text.\n",
      "Converted crl.p._225_2023 ().pdf to text.\n",
      "Converted Crl.P._230_2016 ().pdf to text.\n",
      "Converted crl.p._230_2019 ().pdf to text.\n",
      "Converted crl.p._231-k-2019 ().pdf to text.\n",
      "Converted crl.p._231_2020 ().pdf to text.\n",
      "Converted crl.p._234_2020 ().pdf to text.\n",
      "Converted crl.p._235_l_2015 ().pdf to text.\n",
      "Converted crl.p._238_2024 ().pdf to text.\n",
      "Converted crl.p._239_2024 ().pdf to text.\n",
      "Converted crl.p._240_2024 ().pdf to text.\n",
      "Converted crl.p._243_2024 ().pdf to text.\n",
      "Converted crl.p._245_2023 ().pdf to text.\n",
      "Converted crl.p._251_2020 ().pdf to text.\n",
      "Converted crl.p._251_l_2020 ().pdf to text.\n",
      "Converted crl.p._252_2020 ().pdf to text.\n",
      "Converted crl.p._258_2020 ().pdf to text.\n",
      "Converted crl.p._263_2023 ().pdf to text.\n",
      "Converted crl.p._263_l_2015 ().pdf to text.\n",
      "Converted crl.p._26_p_2020 ().pdf to text.\n",
      "Converted crl.p._273_l_2021 ().pdf to text.\n",
      "Converted crl.p._275_2021 ().pdf to text.\n",
      "Converted crl.p._277_2020 ().pdf to text.\n",
      "Converted crl.p._27_p_2014 ().pdf to text.\n",
      "Converted crl.p._280_2021 ().pdf to text.\n",
      "Converted crl.p._287_2022 ().pdf to text.\n",
      "Converted crl.p._290_2020 ().pdf to text.\n",
      "Converted crl.p._290_l_2015 ().pdf to text.\n",
      "Converted crl.p._294_l_2023 ().pdf to text.\n",
      "Converted crl.p._298_2023 ().pdf to text.\n",
      "Converted crl.p._299_2020 ().pdf to text.\n",
      "Converted crl.p._299_2020_01042020 ().pdf to text.\n",
      "Converted crl.p._299_2020_07042020 ().pdf to text.\n",
      "Converted crl.p._29_k_2022 ().pdf to text.\n",
      "Converted crl.p._29_q_2015 ().pdf to text.\n",
      "Converted Crl.P._300_2018 ().pdf to text.\n",
      "Converted crl.p._301_2022 ().pdf to text.\n",
      "Converted Crl.P._303_L_2018 ().pdf to text.\n",
      "Converted crl.p._30_p_2012 ().pdf to text.\n",
      "Converted crl.p._30_p_2014 ().pdf to text.\n",
      "Converted crl.p._317_l_2023 ().pdf to text.\n",
      "Converted crl.p._31_k_2022 ().pdf to text.\n",
      "Converted crl.p._324_2020 ().pdf to text.\n",
      "Converted crl.p._328_2023 ().pdf to text.\n",
      "Converted Crl.P._32_2017 ().pdf to text.\n",
      "Converted crl.p._335_2020 ().pdf to text.\n",
      "Converted crl.p._33_2021 ().pdf to text.\n",
      "Converted crl.p._340_2024 ().pdf to text.\n",
      "Converted crl.p._342_2018 ().pdf to text.\n",
      "Converted crl.p._345_2022 ().pdf to text.\n",
      "Converted crl.p._351_2022 ().pdf to text.\n",
      "Converted crl.p._352_l_2022 ().pdf to text.\n",
      "Converted crl.p._358_l_2022 ().pdf to text.\n",
      "Converted crl.p._35_k_2024 ().pdf to text.\n",
      "Converted crl.p._35_q_2017 ().pdf to text.\n",
      "Converted crl.p._368_2020 ().pdf to text.\n",
      "Converted crl.p._36_q_2012 ().pdf to text.\n",
      "Converted crl.p._370_2019 ().pdf to text.\n",
      "Converted crl.p._371_2020l ().pdf to text.\n",
      "Converted Crl.P._382_2016 ().pdf to text.\n",
      "Converted crl.p._390_2021 ().pdf to text.\n",
      "Converted crl.p._391_2020 ().pdf to text.\n",
      "Converted crl.p._39_l_2021 ().pdf to text.\n",
      "Converted crl.p._406_2017 ().pdf to text.\n",
      "Converted crl.p._407_2022 ().pdf to text.\n",
      "Converted crl.p._408_l_2021 ().pdf to text.\n",
      "Converted crl.p._412_l_2014 ().pdf to text.\n",
      "Converted crl.p._419_2020 ().pdf to text.\n",
      "Converted crl.p._41_k_2023 ().pdf to text.\n",
      "Converted crl.p._41_k_2023 etc ().pdf to text.\n",
      "Converted crl.p._42_p_2018 ().pdf to text.\n",
      "Converted Crl.P._433_2015 ().pdf to text.\n",
      "Converted crl.p._435_2021 ().pdf to text.\n",
      "Converted crl.p._438_2021 ().pdf to text.\n",
      "Converted crl.p._440_2022 ().pdf to text.\n",
      "Converted crl.p._442_2021 ().pdf to text.\n",
      "Converted crl.p._443_l_2020_dissenting_note ().pdf to text.\n",
      "Converted crl.p._445_2020 ().pdf to text.\n",
      "Converted crl.p._445_l_2020 ().pdf to text.\n",
      "Converted Crl.P._446_L_2016 ().pdf to text.\n",
      "Converted crl.p._457_l_2016 ().pdf to text.\n",
      "Converted crl.p._457_l_2021 ().pdf to text.\n",
      "Converted crl.p._458_2021 ().pdf to text.\n",
      "Converted crl.p._458_2024 ().pdf to text.\n",
      "Converted crl.p._460_2021 ().pdf to text.\n",
      "Converted crl.p._461_2023 ().pdf to text.\n",
      "Converted crl.p._464_2020 ().pdf to text.\n",
      "Converted crl.p._46_p_2015 ().pdf to text.\n",
      "Converted crl.p._46_p_2016 ().pdf to text.\n",
      "Converted crl.p._474_l_2024 ().pdf to text.\n",
      "Converted crl.p._475_2022 ().pdf to text.\n",
      "Converted crl.p._476_l_2018 ().pdf to text.\n",
      "Converted crl.p._47_p_2017 ().pdf to text.\n",
      "Converted Crl.P._488_2015 ().pdf to text.\n",
      "Converted crl.p._48_p_2015 ().pdf to text.\n",
      "Converted crl.p._490_2019 ().pdf to text.\n",
      "Converted crl.p._493_2021 ().pdf to text.\n",
      "Converted crl.p._495_2021 ().pdf to text.\n",
      "Converted crl.p._497_l_2023 ().pdf to text.\n",
      "Converted crl.p._499_2019 ().pdf to text.\n",
      "Converted crl.p._500_2020 ().pdf to text.\n",
      "Converted crl.p._507_l_2021 ().pdf to text.\n",
      "Converted crl.p._509_2021 ().pdf to text.\n",
      "Converted crl.p._50_q_2017 ().pdf to text.\n",
      "Converted crl.p._513_2020 ().pdf to text.\n",
      "Converted crl.p._513_2021 ().pdf to text.\n",
      "Converted crl.p._518_2022 ().pdf to text.\n",
      "Converted crl.p._519_2023_11052023 ().pdf to text.\n",
      "Converted crl.p._519_2023_detailed_order ().pdf to text.\n",
      "Converted crl.p._520_2020 ().pdf to text.\n",
      "Converted crl.p._527_2017 ().pdf to text.\n",
      "Converted crl.p._527_2020 ().pdf to text.\n",
      "Converted crl.p._528_l_2023 ().pdf to text.\n",
      "Converted crl.p._529_2021 ().pdf to text.\n",
      "Converted crl.p._52_k_2023 ().pdf to text.\n",
      "Converted Crl.P._533_2019 ().pdf to text.\n",
      "Converted crl.p._534_2019 ().pdf to text.\n",
      "Converted crl.p._537_2021 ().pdf to text.\n",
      "Converted crl.p._53_q_2020 ().pdf to text.\n",
      "Converted crl.p._540_2020 ().pdf to text.\n",
      "Converted crl.p._540_l_2021 ().pdf to text.\n",
      "Converted crl.p._543_2020 ().pdf to text.\n",
      "Converted crl.p._548_2020 ().pdf to text.\n",
      "Converted crl.p._549_2020 ().pdf to text.\n",
      "Converted crl.p._54_2023 ().pdf to text.\n",
      "Converted crl.p._54_p_2012 ().pdf to text.\n",
      "Converted crl.p._551_2020 ().pdf to text.\n",
      "Converted crl.p._560_l_2021 ().pdf to text.\n",
      "Converted crl.p._562_2019 ().pdf to text.\n",
      "Converted crl.p._566_2021 ().pdf to text.\n",
      "Converted crl.p._574_2019 ().pdf to text.\n",
      "Converted crl.p._577_2021 ().pdf to text.\n",
      "Converted crl.p._583_2021 ().pdf to text.\n",
      "Converted crl.p._588_l_2023 ().pdf to text.\n",
      "Converted crl.p._591_2020 ().pdf to text.\n",
      "Converted crl.p._594_2020 ().pdf to text.\n"
     ]
    },
    {
     "name": "stderr",
     "output_type": "stream",
     "text": [
      "incorrect startxref pointer(1)\n"
     ]
    },
    {
     "name": "stdout",
     "output_type": "stream",
     "text": [
      "Converted crl.p._596_l_2022 ().pdf to text.\n",
      "Converted crl.p._601_l_2021 ().pdf to text.\n",
      "Converted Crl.P._604_2015 ().pdf to text.\n",
      "Converted crl.p._606_2020 ().pdf to text.\n",
      "Converted crl.p._60_2017 ().pdf to text.\n",
      "Converted crl.p._610_2020 ().pdf to text.\n",
      "Converted crl.p._611_l_2023 ().pdf to text.\n",
      "Converted crl.p._614_2017 ().pdf to text.\n",
      "Converted crl.p._619_2020 ().pdf to text.\n",
      "Converted crl.p._622_2020 ().pdf to text.\n",
      "Converted Crl.P._623_2016 ().pdf to text.\n",
      "Converted crl.p._624_2021 ().pdf to text.\n",
      "Converted crl.p._62_l_2023 ().pdf to text.\n",
      "Converted Crl.P._630_2017 ().pdf to text.\n",
      "Converted crl.p._630_2020 ().pdf to text.\n",
      "Converted crl.p._632_2021 ().pdf to text.\n",
      "Converted Crl.P._634_2015 ().pdf to text.\n",
      "Converted crl.p._636_2022 ().pdf to text.\n",
      "Converted crl.p._640_2020 ().pdf to text.\n",
      "Converted crl.p._654_2020 ().pdf to text.\n",
      "Converted crl.p._656_l_2021 ().pdf to text.\n",
      "Converted crl.p._658_2020 ().pdf to text.\n",
      "Converted crl.p._668_2019 ().pdf to text.\n",
      "Converted Crl.P._67_P_2014 ().pdf to text.\n",
      "Converted crl.p._682_2020 ().pdf to text.\n",
      "Converted Crl.P._685_2015 ().pdf to text.\n",
      "Converted crl.p._687_2020 ().pdf to text.\n",
      "Converted crl.p._691_2020 ().pdf to text.\n",
      "Converted crl.p._692_2020 ().pdf to text.\n",
      "Converted crl.p._69_q_2019 ().pdf to text.\n",
      "Converted crl.p._6_p_2015 ().pdf to text.\n",
      "Converted crl.p._701_2023 ().pdf to text.\n",
      "Converted crl.p._705_2023 ().pdf to text.\n",
      "Converted crl.p._708_l_2018 ().pdf to text.\n",
      "Converted crl.p._713_l_2020 ().pdf to text.\n",
      "Converted crl.p._714_2023 ().pdf to text.\n",
      "Converted crl.p._715_2021 ().pdf to text.\n",
      "Converted crl.p._716_2019 ().pdf to text.\n",
      "Converted crl.p._717_2023 ().pdf to text.\n",
      "Converted Crl.P._724_2016 ().pdf to text.\n",
      "Converted crl.p._725_2023 ().pdf to text.\n",
      "Converted crl.p._733_l_2018 ().pdf to text.\n",
      "Converted crl.p._73_p_2021 ().pdf to text.\n",
      "Converted crl.p._742_l_2019 ().pdf to text.\n",
      "Converted Crl.P._748_2016 ().pdf to text.\n",
      "Converted crl.p._74_l_2018 ().pdf to text.\n",
      "Converted Crl.P._751_2017 ().pdf to text.\n",
      "Converted crl.p._75_q_2021 ().pdf to text.\n",
      "Converted crl.p._762_2018 ().pdf to text.\n",
      "Converted crl.p._763_l_2016 ().pdf to text.\n",
      "Converted crl.p._789_2023 ().pdf to text.\n",
      "Converted crl.p._796_l_2021 ().pdf to text.\n",
      "Converted crl.p._797_l_2021 ().pdf to text.\n",
      "Converted crl.p._79_k_2019 ().pdf to text.\n",
      "Converted crl.p._801_2021 ().pdf to text.\n",
      "Converted crl.p._801_l_2020 ().pdf to text.\n",
      "Converted crl.p._806_2022 ().pdf to text.\n",
      "Converted crl.p._80_p_2024 ().pdf to text.\n",
      "Converted crl.p._83_p_2013 ().pdf to text.\n",
      "Converted crl.p._83_p_2015 ().pdf to text.\n",
      "Converted crl.p._849_2019 ().pdf to text.\n",
      "Converted crl.p._851_l_2016 ().pdf to text.\n",
      "Converted crl.p._852_2021 ().pdf to text.\n",
      "Converted crl.p._860_l_2021 ().pdf to text.\n",
      "Converted crl.p._863_l_2021 ().pdf to text.\n",
      "Converted crl.p._879_2021 ().pdf to text.\n",
      "Converted crl.p._883_l_2022 ().pdf to text.\n",
      "Converted crl.p._883_l_2022_urdu ().pdf to text.\n",
      "Converted crl.p._887_l_2013_24042024 ().pdf to text.\n",
      "Converted Crl.P._888_2015 ().pdf to text.\n",
      "Converted crl.p._893_2020 ().pdf to text.\n",
      "Converted crl.p._894_2021 ().pdf to text.\n",
      "Converted crl.p._894_l_2023 ().pdf to text.\n",
      "Converted Crl.P._9-P_2016 ().pdf to text.\n",
      "Converted crl.p._907_2020 ().pdf to text.\n",
      "Converted crl.p._90_k_2023 ().pdf to text.\n",
      "Converted crl.p._90_p_2016 ().pdf to text.\n",
      "Converted crl.p._910_2022 ().pdf to text.\n",
      "Converted crl.p._911_2020 ().pdf to text.\n",
      "Converted crl.p._916_2020 ().pdf to text.\n",
      "Converted crl.p._916_l_2021 ().pdf to text.\n",
      "Converted crl.p._91_k_2020 ().pdf to text.\n",
      "Converted crl.p._921_2023 ().pdf to text.\n",
      "Converted crl.p._921_2023_23082023 ().pdf to text.\n",
      "Converted crl.p._923_2020 ().pdf to text.\n",
      "Converted Crl.P._927_2016 ().pdf to text.\n",
      "Converted crl.p._927_l_2021 ().pdf to text.\n",
      "Converted crl.p._92_k_2021 ().pdf to text.\n",
      "Converted crl.p._93_p_2015 ().pdf to text.\n",
      "Converted crl.p._950_2021 ().pdf to text.\n",
      "Converted crl.p._952_2021 ().pdf to text.\n",
      "Converted crl.p._955_l_2016 ().pdf to text.\n",
      "Converted crl.p._957_2021 ().pdf to text.\n",
      "Converted crl.p._963_l_2016 ().pdf to text.\n",
      "Converted crl.p._968_2017 ().pdf to text.\n",
      "Converted crl.p._96_k_2021 ().pdf to text.\n",
      "Converted crl.p._978_2021 ().pdf to text.\n",
      "Converted crl.p._982_l_2022 ().pdf to text.\n",
      "Converted crl.p._989_2021 ().pdf to text.\n",
      "Converted Crl.P._990_2016 ().pdf to text.\n",
      "Converted crl.p._994_2020 ().pdf to text.\n",
      "Converted crl.p._994_2022 ().pdf to text.\n",
      "Converted crl.p._996_2020 ().pdf to text.\n",
      "Converted crl.p._99_k_2018 ().pdf to text.\n",
      "Converted crl.p._9_q_2021 ().pdf to text.\n",
      "Converted crl.p_1124_l_2015 ().pdf to text.\n",
      "Converted crl.p_12_2014_07.02.2014 ().pdf to text.\n",
      "Converted crl.p_77_p_2020 ().pdf to text.\n",
      "Converted crl.r.p._15_2011 ().pdf to text.\n"
     ]
    },
    {
     "name": "stderr",
     "output_type": "stream",
     "text": [
      "incorrect startxref pointer(1)\n"
     ]
    },
    {
     "name": "stdout",
     "output_type": "stream",
     "text": [
      "Failed to convert Crl.R.P._207_2016 ().pdf. Error: Invalid Elementary Object starting with b')' @19088: b' )-919(dismissw )-5 )-919r\\nET\\nQ\\nq)dis:)] TJ\\nET\\nQ\\n0 Tconceived.0 rg\\n1.0006 0.0 0.'\n",
      "Converted crl.r.p._2_ 2024_2472024 ().pdf to text.\n",
      "Converted crl.r.p._2_2024 ().pdf to text.\n",
      "Converted Crl.R.P._47_2015 ().pdf to text.\n",
      "Converted crl.r.p._52_2019 ().pdf to text.\n",
      "Converted crl.r.p._5_2020 ().pdf to text.\n",
      "Converted crl.r.p_1_2016 ().pdf to text.\n",
      "Converted crl.s.a.07_2011 ().pdf to text.\n",
      "Converted crl.s.m.r.p._84_2018 ().pdf to text.\n",
      "Converted crl.sh.a._12_2017 ().pdf to text.\n",
      "Converted crl.sh.a._16_2017 ().pdf to text.\n",
      "Converted crl.sh.a._23_2017 ().pdf to text.\n",
      "Converted crl.sh.a._9_2017 ().pdf to text.\n",
      "Converted crl_misc_app_86_2014_17.03 ().pdf to text.\n",
      "Converted crl_r_p.8-l_2013 ().pdf to text.\n",
      "Converted CRP.229_2006_in_CA.802_2006 ().pdf to text.\n",
      "Converted crp.328-329_2013 ().pdf to text.\n"
     ]
    },
    {
     "name": "stderr",
     "output_type": "stream",
     "text": [
      "incorrect startxref pointer(1)\n"
     ]
    },
    {
     "name": "stdout",
     "output_type": "stream",
     "text": [
      "Converted CRP167of2012dt31-7-12 ().pdf to text.\n",
      "Converted CRP59-62of2009 ().pdf to text.\n",
      "Converted crp_1_2014_dt_14.05.2014 ().pdf to text.\n",
      "Converted crp_328-329_2013_short_order ().pdf to text.\n"
     ]
    },
    {
     "name": "stderr",
     "output_type": "stream",
     "text": [
      "incorrect startxref pointer(1)\n",
      "incorrect startxref pointer(1)\n"
     ]
    },
    {
     "name": "stdout",
     "output_type": "stream",
     "text": [
      "Converted cuo_19_2024 ().pdf to text.\n",
      "Converted Decision_in_CMAs1&2_of_2011 ().pdf to text.\n"
     ]
    },
    {
     "name": "stderr",
     "output_type": "stream",
     "text": [
      "incorrect startxref pointer(1)\n"
     ]
    },
    {
     "name": "stdout",
     "output_type": "stream",
     "text": [
      "Failed to convert DetailJudgmentofCRP45OF2009 ().pdf. Error: Stream has ended unexpectedly\n"
     ]
    },
    {
     "name": "stderr",
     "output_type": "stream",
     "text": [
      "incorrect startxref pointer(2)\n"
     ]
    },
    {
     "name": "stdout",
     "output_type": "stream",
     "text": [
      "Converted FINAL_RIKO_DIQ_CASE_DT250511 ().pdf to text.\n"
     ]
    },
    {
     "name": "stderr",
     "output_type": "stream",
     "text": [
      "incorrect startxref pointer(1)\n",
      "NumberObject(b'-') invalid; use 0 instead\n"
     ]
    },
    {
     "name": "stdout",
     "output_type": "stream",
     "text": [
      "Converted H.R.C.1037_P_2018_dt_29_1_2018 ().pdf to text.\n",
      "Failed to convert H.R.C.14392OF2013-dt-19-6-2013 ().pdf. Error: Stream has ended unexpectedly\n",
      "Converted H.R.C.19of1996[AsgharKhanCase]DetailedReasons ().pdf to text.\n",
      "Converted H.R.C.19of1996[AsgharKhanCase]DetailedReasonsUrduTranslation ().pdf to text.\n",
      "Converted H.R.C.39216_G_2018 ().pdf to text.\n",
      "Converted H.R.C.No.14392of2013andH.R.C.No.790-Gof2009 ().pdf to text.\n",
      "Converted H.R.C.No.19of1996DT19-10-2012 ().pdf to text.\n",
      "Converted H.R.C.No.19of1996DT19-10-2012[UrduTranslation] ().pdf to text.\n",
      "Converted H.R.C._10842_P_2018 ().pdf to text.\n",
      "Converted H.R.C._10_K_2007 ().pdf to text.\n",
      "Converted h.r.c._12726_b_2020 ().pdf to text.\n",
      "Converted h.r.c._13316_p_2018 ().pdf to text.\n",
      "Converted H.R.C._14158-G_2016 ().pdf to text.\n",
      "Converted H.R.C._14158-G_2016_[19082016] ().pdf to text.\n"
     ]
    },
    {
     "name": "stderr",
     "output_type": "stream",
     "text": [
      "incorrect startxref pointer(1)\n"
     ]
    },
    {
     "name": "stdout",
     "output_type": "stream",
     "text": [
      "Converted H.R.C._14158_G_2016_dt_12_08_2016 ().pdf to text.\n",
      "Converted H.R.C._14158_G_2016_dt_28_07_2016 ().pdf to text.\n",
      "Converted H.R.C._14959_K_2018 ().pdf to text.\n",
      "Converted H.R.C._17599_2018 ().pdf to text.\n",
      "Converted H.R.C._17842_2018 ().pdf to text.\n",
      "Converted H.R.C._18877_2018 ().pdf to text.\n",
      "Converted H.R.C._18877_2018_03072019 ().pdf to text.\n",
      "Converted H.R.C._20171_B_2018 ().pdf to text.\n",
      "Converted h.r.c._20883_2018 ().pdf to text.\n",
      "Converted h.r.c._318_1993 ().pdf to text.\n",
      "Converted H.R.C._32642_2018 ().pdf to text.\n",
      "Converted H.R.C._3654_2018 ().pdf to text.\n",
      "Converted H.R.C._39216_G_2018 ().pdf to text.\n",
      "Converted H.R.C._4729_2011 ().pdf to text.\n",
      "Converted H.R.C._69229_P_2018 ().pdf to text.\n",
      "Converted h.r.c._8157_p_2023 ().pdf to text.\n",
      "Converted h.r.c._82928_2018 ().pdf to text.\n",
      "Converted h.r.c_11827_s_2018 ().pdf to text.\n",
      "Converted HR-19of1996 ().pdf to text.\n",
      "Converted hr.29388-k_2013 ().pdf to text.\n",
      "Converted HR8340OF2010 ().pdf to text.\n",
      "Converted HRC-4668of2006 ().pdf to text.\n",
      "Converted HRC.14392of2013 ().pdf to text.\n",
      "Converted hrc.14392of2013-01.07.2013 ().pdf to text.\n",
      "Converted hrc.14392_2013 ().pdf to text.\n",
      "Converted HRC19526of2013 ().pdf to text.\n",
      "Converted HRC19of1996 ().pdf to text.\n",
      "Converted HRC7734-G_1003-GOF2009[AllegedCorruptionInRentalPowerPlants] ().pdf to text.\n"
     ]
    },
    {
     "name": "stderr",
     "output_type": "stream",
     "text": [
      "incorrect startxref pointer(1)\n"
     ]
    },
    {
     "name": "stdout",
     "output_type": "stream",
     "text": [
      "Converted HRC7734-G_1003-GOF2009[UrduTranslation] ().pdf to text.\n",
      "Converted hrc_14392_2013 ().pdf to text.\n",
      "Converted hrc_17082013 ().pdf to text.\n",
      "Converted hrc_20107-G_2013 ().pdf to text.\n",
      "Converted hrc_29388-K_2013 ().pdf to text.\n",
      "Converted hrc_3677-e_2014_17.02.2014 ().pdf to text.\n",
      "Converted hrc_42389-P_2013 ().pdf to text.\n",
      "Converted hrc_4925-g_2014 ().pdf to text.\n",
      "Converted I.C.A._01_2007 ().pdf to text.\n",
      "Converted i.c.a._1_2024_1502024_an ().pdf to text.\n",
      "Converted i.c.a._1_2024_15032024 ().pdf to text.\n",
      "Converted i.c.a._1_2024_dn_20032024 ().pdf to text.\n",
      "Converted i.c.a._1_2024_dt_21_02_2024 ().pdf to text.\n",
      "Converted i.c.a._2_2023 ().pdf to text.\n",
      "Converted i.c.a._2_2023_14052024 ().pdf to text.\n",
      "Converted i.c.a._2_2023_30052024 ().pdf to text.\n",
      "Converted i.c.a._2_2023_30052024_an ().pdf to text.\n",
      "Converted I.C.A._4_2017 ().pdf to text.\n",
      "Converted i.c.a._5_2023 ().pdf to text.\n"
     ]
    },
    {
     "name": "stderr",
     "output_type": "stream",
     "text": [
      "incorrect startxref pointer(1)\n"
     ]
    },
    {
     "name": "stdout",
     "output_type": "stream",
     "text": [
      "Converted I.C.A._7_2018 ().pdf to text.\n",
      "Converted ICA-1-2012-Dt09.02.2012 ().pdf to text.\n",
      "Failed to convert ICA-1-2012-Dt10.02.2012 ().pdf. Error: Stream has ended unexpectedly\n"
     ]
    },
    {
     "name": "stderr",
     "output_type": "stream",
     "text": [
      "incorrect startxref pointer(1)\n"
     ]
    },
    {
     "name": "stdout",
     "output_type": "stream",
     "text": [
      "Converted ICA-1-2012-Dt10.02.2012[UrduVersion] ().pdf to text.\n",
      "Converted ICA-1OF2012 ().pdf to text.\n"
     ]
    },
    {
     "name": "stderr",
     "output_type": "stream",
     "text": [
      "incorrect startxref pointer(1)\n"
     ]
    },
    {
     "name": "stdout",
     "output_type": "stream",
     "text": [
      "Converted ICA-1OF2012-UrduTranslation ().pdf to text.\n",
      "Converted ICA3 &4-2011DT2011 ().pdf to text.\n"
     ]
    },
    {
     "name": "stderr",
     "output_type": "stream",
     "text": [
      "incorrect startxref pointer(1)\n"
     ]
    },
    {
     "name": "stdout",
     "output_type": "stream",
     "text": [
      "Converted ICA3,4,6TO11of2011dt2011.04 ().pdf to text.\n",
      "Converted Illegal Dispossession Act, 2005 CA-16 of 2010 ().pdf to text.\n",
      "Converted J.P.No.56of2005 ().pdf to text.\n",
      "Converted j.p._01_2016 ().pdf to text.\n",
      "Converted j.p._105_2020 ().pdf to text.\n",
      "Converted j.p._10_2016 ().pdf to text.\n",
      "Converted j.p._112_2017 ().pdf to text.\n",
      "Converted j.p._120_2017 ().pdf to text.\n",
      "Converted j.p._147_2016 ().pdf to text.\n",
      "Converted j.p._148_2022 ().pdf to text.\n",
      "Converted j.p._14_2016 ().pdf to text.\n",
      "Converted j.p._154_2016 ().pdf to text.\n",
      "Converted j.p._169_2021 ().pdf to text.\n",
      "Converted j.p._181_2016 ().pdf to text.\n",
      "Converted j.p._190_2017 ().pdf to text.\n",
      "Converted J.P._191_2018 ().pdf to text.\n",
      "Converted j.p._195_2017 ().pdf to text.\n",
      "Converted j.p._201_2015 ().pdf to text.\n",
      "Converted j.p._206_2019 ().pdf to text.\n",
      "Converted j.p._210_2018 ().pdf to text.\n",
      "Converted J.P._217_2017 ().pdf to text.\n",
      "Converted j.p._233_2015 ().pdf to text.\n",
      "Converted j.p._234_2017 ().pdf to text.\n",
      "Converted j.p._238_2008_r ().pdf to text.\n",
      "Converted j.p._249_2018 ().pdf to text.\n",
      "Converted j.p._24_2016 ().pdf to text.\n",
      "Converted j.p._255_2017 ().pdf to text.\n",
      "Converted j.p._255_2018 ().pdf to text.\n",
      "Converted j.p._262_2015 ().pdf to text.\n",
      "Converted j.p._263_2018 ().pdf to text.\n",
      "Converted j.p._269_2017 ().pdf to text.\n",
      "Converted j.p._282_2017 ().pdf to text.\n",
      "Converted j.p._296_2016 ().pdf to text.\n",
      "Converted J.P._298_2018 ().pdf to text.\n",
      "Converted j.p._300_2022 ().pdf to text.\n",
      "Converted j.p._302_2017 ().pdf to text.\n",
      "Converted j.p._317_2018 ().pdf to text.\n",
      "Converted j.p._324_2015 ().pdf to text.\n",
      "Converted j.p._324_2019 ().pdf to text.\n",
      "Converted j.p._333_2013 ().pdf to text.\n",
      "Converted j.p._335_2017 ().pdf to text.\n",
      "Converted j.p._345_2017 ().pdf to text.\n",
      "Converted j.p._348_2019 ().pdf to text.\n",
      "Converted j.p._34_2020 ().pdf to text.\n",
      "Converted j.p._351_2017 ().pdf to text.\n",
      "Converted j.p._355_2018 ().pdf to text.\n",
      "Converted j.p._36_2016 ().pdf to text.\n",
      "Converted j.p._382_2017 ().pdf to text.\n",
      "Converted j.p._385_2017 ().pdf to text.\n",
      "Converted j.p._403_2018 ().pdf to text.\n",
      "Converted j.p._405_2021 ().pdf to text.\n",
      "Converted j.p._40_2017 ().pdf to text.\n",
      "Converted j.p._415_2018 ().pdf to text.\n",
      "Converted j.p._417_2019 ().pdf to text.\n",
      "Converted j.p._42_2017 ().pdf to text.\n",
      "Converted j.p._430_2015 ().pdf to text.\n",
      "Converted j.p._431_2016 ().pdf to text.\n",
      "Converted j.p._431_2019 ().pdf to text.\n",
      "Converted j.p._450_2015 ().pdf to text.\n",
      "Converted j.p._461_2013 ().pdf to text.\n",
      "Converted j.p._462_2016 ().pdf to text.\n",
      "Converted j.p._467_2017 ().pdf to text.\n",
      "Converted j.p._480_2018 ().pdf to text.\n",
      "Converted j.p._488_2015 ().pdf to text.\n",
      "Converted j.p._496_2019 ().pdf to text.\n",
      "Converted j.p._497_2015 ().pdf to text.\n",
      "Converted j.p._499_2015 ().pdf to text.\n",
      "Converted j.p._501_2018 ().pdf to text.\n",
      "Converted j.p._508_2016 ().pdf to text.\n",
      "Converted j.p._516_2018 ().pdf to text.\n",
      "Converted j.p._516_2018_detailed ().pdf to text.\n",
      "Converted J.P._521_2017 ().pdf to text.\n",
      "Converted j.p._553_2017 ().pdf to text.\n",
      "Converted j.p._557_2016 ().pdf to text.\n",
      "Converted j.p._587_2016 ().pdf to text.\n",
      "Converted j.p._614_2016 ().pdf to text.\n",
      "Converted j.p._637_2016 ().pdf to text.\n",
      "Converted j.p._657_2016 ().pdf to text.\n",
      "Converted j.p._684_2016 ().pdf to text.\n",
      "Converted j.p._712_2018 ().pdf to text.\n",
      "Converted j.p._739_2018 ().pdf to text.\n",
      "Converted j.p._73_2016 ().pdf to text.\n",
      "Converted j.p._794_2017 ().pdf to text.\n",
      "Converted j.p._83_2021 ().pdf to text.\n",
      "Converted j.p._847_2018 ().pdf to text.\n",
      "Converted j.p._865_2017 ().pdf to text.\n",
      "Converted j.p._883_2017 ().pdf to text.\n",
      "Converted j.p._887_2018 ().pdf to text.\n",
      "Converted j.p._943_2017 ().pdf to text.\n",
      "Converted j.p._95_2017 ().pdf to text.\n",
      "Converted j.p._960_2017 ().pdf to text.\n"
     ]
    },
    {
     "name": "stderr",
     "output_type": "stream",
     "text": [
      "incorrect startxref pointer(1)\n",
      "incorrect startxref pointer(1)\n"
     ]
    },
    {
     "name": "stdout",
     "output_type": "stream",
     "text": [
      "Converted j.sh.p._03_2020 ().pdf to text.\n",
      "Converted JR_Appointment_of_Supreme_Court_Judges_Case ().pdf to text.\n"
     ]
    },
    {
     "name": "stderr",
     "output_type": "stream",
     "text": [
      "incorrect startxref pointer(1)\n",
      "incorrect startxref pointer(1)\n",
      "incorrect startxref pointer(1)\n"
     ]
    },
    {
     "name": "stdout",
     "output_type": "stream",
     "text": [
      "Converted JR_Civil_Petitions_for_Leave_to_Appeal_No_1569-L_1579-L_1597-L_1600-L_1622-L_1624-L_of_2005 ().pdf to text.\n",
      "Converted JR_Civil_Petition_No_788_of_2006 ().pdf to text.\n",
      "Converted JR_Civil_Review_Petition_No_103_of_2002 ().pdf to text.\n",
      "Converted JR_Constitution_Petitions_No_23_of_1999_and_21_of_2004 ().pdf to text.\n"
     ]
    },
    {
     "name": "stderr",
     "output_type": "stream",
     "text": [
      "incorrect startxref pointer(1)\n",
      "incorrect startxref pointer(1)\n"
     ]
    },
    {
     "name": "stdout",
     "output_type": "stream",
     "text": [
      "Converted JR_Constitution_Petition_No._15_17-24_and_512_of_2002 ().pdf to text.\n",
      "Converted JR_Constitution_Petition_No_38_of_2002_and_more_of_2003 ().pdf to text.\n"
     ]
    },
    {
     "name": "stderr",
     "output_type": "stream",
     "text": [
      "incorrect startxref pointer(1)\n"
     ]
    },
    {
     "name": "stdout",
     "output_type": "stream",
     "text": [
      "Converted JR_Constitution_Petition_No_55_of_2003 ().pdf to text.\n"
     ]
    },
    {
     "name": "stderr",
     "output_type": "stream",
     "text": [
      "incorrect startxref pointer(1)\n"
     ]
    },
    {
     "name": "stdout",
     "output_type": "stream",
     "text": [
      "Converted JR_Constitution_Petition_No_9_of_2005 ().pdf to text.\n",
      "Converted JR_Detailed_Judgment_in_Appointment_of_Supreme_Court_Judges_Case ().pdf to text.\n",
      "Converted JR_Detailed_Judgment_in_Graduation_Qualification_Case ().pdf to text.\n"
     ]
    },
    {
     "name": "stderr",
     "output_type": "stream",
     "text": [
      "incorrect startxref pointer(1)\n"
     ]
    },
    {
     "name": "stdout",
     "output_type": "stream",
     "text": [
      "Converted JR_Detailed_Judgment_in_Referendum_Case ().pdf to text.\n",
      "Converted JR_Detailed_Judgment_in_Riba_Case ().pdf to text.\n",
      "Converted JR_Fecto_Belarus_Tractor_Limited_Case ().pdf to text.\n"
     ]
    },
    {
     "name": "stderr",
     "output_type": "stream",
     "text": [
      "incorrect startxref pointer(1)\n"
     ]
    },
    {
     "name": "stdout",
     "output_type": "stream",
     "text": [
      "Converted JR_Judgment_on_17th_Amendmend_and_Presidents_Uniform_Case ().pdf to text.\n",
      "Converted JR_Judgment_on_Legal_Framework_Order_2002 ().pdf to text.\n"
     ]
    },
    {
     "name": "stderr",
     "output_type": "stream",
     "text": [
      "incorrect startxref pointer(1)\n"
     ]
    },
    {
     "name": "stdout",
     "output_type": "stream",
     "text": [
      "Converted JR_PMDC_VS_Ziauddin_Medical_University_Others ().pdf to text.\n",
      "Converted JR_Suo_Motu_Case_No_1_of_2004 ().pdf to text.\n",
      "Converted JR_The_State_through_NAB_VS_Haji_Nasim-ur-Rehman ().pdf to text.\n",
      "Converted JR_Varan_Case ().pdf to text.\n",
      "Converted kamran_faisal_case ().pdf to text.\n",
      "Converted Lal-masjid-04.12.2012 ().pdf to text.\n",
      "Converted MemoCase-final-30.12.2011(UrduVersion) ().pdf to text.\n",
      "Converted NROCaseDt.10.01.2012 ().pdf to text.\n",
      "Converted NRO_Judgment ().pdf to text.\n",
      "Converted NRO_REVIEW_CRP_129_DT18042011 ().pdf to text.\n"
     ]
    },
    {
     "name": "stderr",
     "output_type": "stream",
     "text": [
      "incorrect startxref pointer(1)\n",
      "incorrect startxref pointer(1)\n"
     ]
    },
    {
     "name": "stdout",
     "output_type": "stream",
     "text": [
      "Converted Order-DNC-nd-note ().pdf to text.\n",
      "Converted Order_in_contempt_case ().pdf to text.\n",
      "Converted Presidential_refernce_13042011 ().pdf to text.\n",
      "Converted Ref.01_2012_addl.note_HJ.ejaz_afzal_khan ().pdf to text.\n",
      "Converted ref._2_2022_13092023 ().pdf to text.\n",
      "Converted ref._2_2022_13092023_2 ().pdf to text.\n"
     ]
    },
    {
     "name": "stderr",
     "output_type": "stream",
     "text": [
      "incorrect startxref pointer(1)\n"
     ]
    },
    {
     "name": "stdout",
     "output_type": "stream",
     "text": [
      "Converted REFERENCE-1-2011OrderDt05.01.2012 ().pdf to text.\n",
      "Converted REFERENCE-1-2011OrderDt05.01.2012[UrduVersion] ().pdf to text.\n",
      "Converted REFERENCE-1-2011[OrderDt-17.01.2012] ().pdf to text.\n",
      "Converted reference._1_2011 ().pdf to text.\n",
      "Converted reference._1_2011_08012024 ().pdf to text.\n",
      "Converted reference._1_2011_urdu ().pdf to text.\n",
      "Converted reference._1_2020 ().pdf to text.\n",
      "Converted reference._2_2022 ().pdf to text.\n",
      "Converted reference_1_2011_06mar2024 ().pdf to text.\n",
      "Converted reference_1_2011_08072024 ().pdf to text.\n",
      "Converted reference_1_2020 ().pdf to text.\n",
      "Converted refernece_1_2022 ().pdf to text.\n"
     ]
    },
    {
     "name": "stderr",
     "output_type": "stream",
     "text": [
      "incorrect startxref pointer(3)\n",
      "incorrect startxref pointer(3)\n"
     ]
    },
    {
     "name": "stdout",
     "output_type": "stream",
     "text": [
      "Converted report_128_k_2021 ().pdf to text.\n",
      "Converted REVIEW_nro ().pdf to text.\n",
      "Converted Review_nro_12042011 ().pdf to text.\n",
      "Converted REVIEW_P_46&47_2011_full ().pdf to text.\n",
      "Converted S.J.C_347_2018 ().pdf to text.\n",
      "Converted s.m.c.12_2015 ().pdf to text.\n",
      "Converted S.M.C.16of2011dt-22-3-2013 ().pdf to text.\n",
      "Converted S.M.C.16of2011dt.4.4.2013 ().pdf to text.\n"
     ]
    },
    {
     "name": "stderr",
     "output_type": "stream",
     "text": [
      "incorrect startxref pointer(1)\n"
     ]
    },
    {
     "name": "stdout",
     "output_type": "stream",
     "text": [
      "Converted S.M.C.18OF2010 ().pdf to text.\n",
      "Failed to convert S.M.C.18of2011-ShortOrder-1 ().pdf. Error: Invalid Elementary Object starting with b']' @12652: b'09 0 0 1 154.56 8(y)] Trf4 325.2 Tm\\n[(o)-3(ve)8(m)-6(b)-6(e)3(r)6(,)-62(3)6(-11('\n",
      "Converted S.M.C.18_2016_dt_06_01_2017 ().pdf to text.\n"
     ]
    },
    {
     "name": "stderr",
     "output_type": "stream",
     "text": [
      "incorrect startxref pointer(1)\n",
      "incorrect startxref pointer(2)\n"
     ]
    },
    {
     "name": "stdout",
     "output_type": "stream",
     "text": [
      "Converted S.M.C.24of2010[urdu-version] ().pdf to text.\n",
      "Failed to convert S.M.C.5of2012dt14-6-2012 ().pdf. Error: Invalid Elementary Object starting with b'o' @16720: b'10(vi)8(z.)-10( )-10o22(1s1.3)] TJ\\nET\\nQ\\nq\\nBT\\n/F2 11.0399 Tf\\n\\n/F2 63)] TJ\\nET\\nQ\\nq\\n'\n",
      "Converted S.M.C.5_2018_dt_6-4-2018 ().pdf to text.\n",
      "Converted S.M.C.9of2012dt-21-12-2012 ().pdf to text.\n",
      "Converted S.M.C.No18of2010 ().pdf to text.\n",
      "Converted S.M.C._ 26_2007_30062018 ().pdf to text.\n",
      "Converted S.M.C._01_2010 ().pdf to text.\n",
      "Converted s.m.c._01_2020 ().pdf to text.\n",
      "Converted s.m.c._01_2020_04052020 ().pdf to text.\n",
      "Converted s.m.c._01_2020_18052020 ().pdf to text.\n",
      "Converted S.M.C._03_2017 ().pdf to text.\n",
      "Converted S.M.C._10_2018 ().pdf to text.\n",
      "Converted S.M.C._12_2015 ().pdf to text.\n",
      "Converted S.M.C._13_2016_dt_31-03-2017 ().pdf to text.\n",
      "Converted S.M.C._17_2016 ().pdf to text.\n",
      "Converted S.M.C._18_2016 ().pdf to text.\n",
      "Converted S.M.C._19_2016 ().pdf to text.\n",
      "Converted s.m.c._1_2020 ().pdf to text.\n",
      "Converted s.m.c._1_2020_08062020 ().pdf to text.\n",
      "Converted s.m.c._1_2020_19052020 ().pdf to text.\n",
      "Converted s.m.c._1_2020_20042020 ().pdf to text.\n",
      "Converted s.m.c._1_2020_25062020 ().pdf to text.\n",
      "Converted s.m.c._1_2022 ().pdf to text.\n",
      "Converted s.m.c._1_2022_07042022 ().pdf to text.\n",
      "Converted s.m.c._1_2022_detailed ().pdf to text.\n",
      "Converted s.m.c._1_2022_note_hj4 ().pdf to text.\n",
      "Converted s.m.c._1_2023 ().pdf to text.\n",
      "Converted s.m.c._1_2023_01032023 ().pdf to text.\n",
      "Converted s.m.c._1_2023_07042023 ().pdf to text.\n",
      "Converted s.m.c._1_2023_12062023 ().pdf to text.\n",
      "Converted s.m.c._1_2023_23022023 ().pdf to text.\n",
      "Converted s.m.c._1_2023_27032023 ().pdf to text.\n",
      "Converted s.m.c._1_2023_31mar2023 ().pdf to text.\n",
      "Converted s.m.c._1_2024 ().pdf to text.\n",
      "Converted s.m.c._1_2024_30042024 ().pdf to text.\n",
      "Converted s.m.c._1_2024_addn ().pdf to text.\n",
      "Converted s.m.c._1_2024_an ().pdf to text.\n",
      "Converted S.M.C._20_2016 ().pdf to text.\n",
      "Converted S.M.C._26_2007_02082018 ().pdf to text.\n",
      "Converted S.M.C._26_2007_04072018 ().pdf to text.\n",
      "Converted S.M.C._28_2018 ().pdf to text.\n",
      "Converted S.M.C._2_2018 ().pdf to text.\n",
      "Converted s.m.c._2_2022 ().pdf to text.\n",
      "Converted s.m.c._2_2022_27052022 ().pdf to text.\n",
      "Converted S.M.C._3_2018 ().pdf to text.\n",
      "Converted s.m.c._3_2022_06012023 ().pdf to text.\n",
      "Converted s.m.c._3_2022_13022023 ().pdf to text.\n",
      "Converted s.m.c._3_2022_13062023 ().pdf to text.\n",
      "Converted s.m.c._4_2021 ().pdf to text.\n",
      "Converted s.m.c._4_2021_11032024 ().pdf to text.\n",
      "Converted s.m.c._4_2021_13052024 ().pdf to text.\n",
      "Converted s.m.c._4_2021_23082021 ().pdf to text.\n",
      "Converted s.m.c._4_2021_26082021 ().pdf to text.\n",
      "Converted s.m.c._4_2021_26aug2021 ().pdf to text.\n",
      "Converted s.m.c._4_2021_29012024_r ().pdf to text.\n",
      "Converted s.m.c._4_2021_dt_30_01_2024 ().pdf to text.\n",
      "Converted s.m.c._4_2022 ().pdf to text.\n",
      "Converted s.m.c._4_2022_04apr2023 ().pdf to text.\n",
      "Converted s.m.c._4_2022_30mar2023 ().pdf to text.\n",
      "Converted s.m.c._4_2022_urdu ().pdf to text.\n",
      "Converted S.M.C._7_2017 ().pdf to text.\n",
      "Converted S.M.C._7_2017_06022019 ().pdf to text.\n",
      "Converted S.M.C._7_2017_dt_25-04-2018 ().pdf to text.\n",
      "Converted S.M.C._8_2018 ().pdf to text.\n",
      "Converted s.m.c._dt_28-02-2018 ().pdf to text.\n"
     ]
    },
    {
     "name": "stderr",
     "output_type": "stream",
     "text": [
      "incorrect startxref pointer(1)\n"
     ]
    },
    {
     "name": "stdout",
     "output_type": "stream",
     "text": [
      "Converted S.M.C14 of 2009 ().pdf to text.\n",
      "Converted S.M.C_15_2015 ().pdf to text.\n",
      "Converted Short order ().pdf to text.\n",
      "Converted SMC-16of2011-translation ().pdf to text.\n",
      "Converted smc.11_2011 ().pdf to text.\n",
      "Converted SMC.13-2009 ().pdf to text.\n"
     ]
    },
    {
     "name": "stderr",
     "output_type": "stream",
     "text": [
      "incorrect startxref pointer(3)\n"
     ]
    },
    {
     "name": "stdout",
     "output_type": "stream",
     "text": [
      "Converted smc.16of2011 ().pdf to text.\n",
      "Converted SMC.16_2011_etc_MQM_case ().pdf to text.\n",
      "Converted smc.18_2010_final ().pdf to text.\n",
      "Converted smc.24_2010 ().pdf to text.\n",
      "Converted smc.3_2014 ().pdf to text.\n"
     ]
    },
    {
     "name": "stderr",
     "output_type": "stream",
     "text": [
      "incorrect startxref pointer(1)\n"
     ]
    },
    {
     "name": "stdout",
     "output_type": "stream",
     "text": [
      "Converted smc.9_2011 ().pdf to text.\n",
      "Converted SMC14of2010 ().pdf to text.\n",
      "Converted SMC15OF2009 ().pdf to text.\n",
      "Converted SMC16-2011_ord_dt_30-8-13 ().pdf to text.\n",
      "Converted SMC16of2011-dt.5.4.2013 ().pdf to text.\n"
     ]
    },
    {
     "name": "stderr",
     "output_type": "stream",
     "text": [
      "incorrect startxref pointer(3)\n",
      "incorrect startxref pointer(1)\n"
     ]
    },
    {
     "name": "stdout",
     "output_type": "stream",
     "text": [
      "Converted SMC16of2011_detailed_judgment ().pdf to text.\n",
      "Converted SMC18-2010DT25.01 ().pdf to text.\n"
     ]
    },
    {
     "name": "stderr",
     "output_type": "stream",
     "text": [
      "incorrect startxref pointer(2)\n"
     ]
    },
    {
     "name": "stdout",
     "output_type": "stream",
     "text": [
      "Converted SMC19of2010 ().pdf to text.\n",
      "Converted SMC1of2012-dt-27-12-2013 ().pdf to text.\n",
      "Converted SMC24-2010 ().pdf to text.\n",
      "Converted SMC5of2012-1dt[07-06-2012] ().pdf to text.\n",
      "Converted SMC5of2012-2dt[07-06-2012] ().pdf to text.\n"
     ]
    },
    {
     "name": "stderr",
     "output_type": "stream",
     "text": [
      "incorrect startxref pointer(1)\n"
     ]
    },
    {
     "name": "stdout",
     "output_type": "stream",
     "text": [
      "Converted SMC5of2012[UrduVersion]dt16-6-2012 ().pdf to text.\n"
     ]
    },
    {
     "name": "stderr",
     "output_type": "stream",
     "text": [
      "incorrect startxref pointer(1)\n"
     ]
    },
    {
     "name": "stdout",
     "output_type": "stream",
     "text": [
      "Converted SMCASE5OF2010 ().pdf to text.\n",
      "Converted SMCNo16of2011-OrderDt5.09.2011 ().pdf to text.\n",
      "Converted SMCNo25of2009 ().pdf to text.\n",
      "Converted smc_16._2011_24.06.2014 ().pdf to text.\n",
      "Converted smc_16_2011_24.02.2014 ().pdf to text.\n",
      "Converted smc_16_2011_order_dt_26.02.14 ().pdf to text.\n",
      "Converted smc_16_23.06.2014 ().pdf to text.\n",
      "Converted smc_1_2014 ().pdf to text.\n"
     ]
    },
    {
     "name": "stderr",
     "output_type": "stream",
     "text": [
      "incorrect startxref pointer(3)\n"
     ]
    },
    {
     "name": "stdout",
     "output_type": "stream",
     "text": [
      "Converted smc_1_2014_dt_27.02.2014 ().pdf to text.\n",
      "Converted SMC_24OF2010 ().pdf to text.\n",
      "Converted SMC_24_2010_DT_01_03 ().pdf to text.\n",
      "Converted SMC_26-2007_dt_20.02.2013 ().pdf to text.\n"
     ]
    },
    {
     "name": "stderr",
     "output_type": "stream",
     "text": [
      "incorrect startxref pointer(1)\n"
     ]
    },
    {
     "name": "stdout",
     "output_type": "stream",
     "text": [
      "Converted smc_3_2014_10.03.2014 ().pdf to text.\n",
      "Converted smc_6_2014 ().pdf to text.\n",
      "Converted SuoMoto24of2010 ().pdf to text.\n"
     ]
    },
    {
     "name": "stderr",
     "output_type": "stream",
     "text": [
      "incorrect startxref pointer(1)\n"
     ]
    },
    {
     "name": "stdout",
     "output_type": "stream",
     "text": [
      "Converted Suo_Motu_Case_No10of2011 ().pdf to text.\n",
      "Converted suo_motu_in_court ().pdf to text.\n",
      "Converted Supreme_Judicial_Council_242_2015 ().pdf to text.\n",
      "Converted Urdu-Const.P-77-2010-12.10.2012 ().pdf to text.\n",
      "Converted URDU_CONST.P.05-2012-20.09.12 ().pdf to text.\n"
     ]
    }
   ],
   "source": [
    "import os\n",
    "from PyPDF2 import PdfReader\n",
    "from pdfminer.high_level import extract_text\n",
    "\n",
    "# Define the folder containing the PDF files\n",
    "pdf_folder = 'C:/Users/fc/Supreme_court.pdf/'\n",
    "# Define the output folder for the text files\n",
    "output_folder = 'C:/Users/fc/Supreme_court1.pdf/'\n",
    "\n",
    "# Create output folder if it does not exist\n",
    "os.makedirs(output_folder, exist_ok=True)\n",
    "\n",
    "# Iterate over all files in the PDF folder\n",
    "for filename in os.listdir(pdf_folder):\n",
    "    if filename.endswith('.pdf'):\n",
    "        pdf_path = os.path.join(pdf_folder, filename)\n",
    "        txt_path = os.path.join(output_folder, filename.replace('.pdf', '.txt'))\n",
    "        \n",
    "        try:\n",
    "            # Extract text using PyPDF2\n",
    "            with open(pdf_path, 'rb') as pdf_file:\n",
    "                reader = PdfReader(pdf_file)\n",
    "                text = \"\"\n",
    "                for page in reader.pages:\n",
    "                    text += page.extract_text()\n",
    "            \n",
    "            # Write the text to a file\n",
    "            with open(txt_path, 'w', encoding='utf-8') as text_file:\n",
    "                text_file.write(text)\n",
    "            \n",
    "            print(f\"Converted {filename} to text.\")\n",
    "        except Exception as e:\n",
    "            print(f\"Failed to convert {filename}. Error: {e}\")\n"
   ]
  },
  {
   "cell_type": "markdown",
   "id": "28dfb519-41b3-4725-b062-e4773e3857a3",
   "metadata": {},
   "source": [
    "convert .txt to xsls"
   ]
  },
  {
   "cell_type": "code",
   "execution_count": 6,
   "id": "33aebf34-10d6-4c0b-a7ea-6052e4f76092",
   "metadata": {},
   "outputs": [
    {
     "ename": "Exception",
     "evalue": "String longer than 32767 characters",
     "output_type": "error",
     "traceback": [
      "\u001b[1;31m---------------------------------------------------------------------------\u001b[0m",
      "\u001b[1;31mException\u001b[0m                                 Traceback (most recent call last)",
      "Cell \u001b[1;32mIn[6], line 27\u001b[0m\n\u001b[0;32m     25\u001b[0m         worksheet\u001b[38;5;241m.\u001b[39mwrite(item, i, column[item])\n\u001b[0;32m     26\u001b[0m     i\u001b[38;5;241m+\u001b[39m\u001b[38;5;241m=\u001b[39m\u001b[38;5;241m1\u001b[39m\n\u001b[1;32m---> 27\u001b[0m \u001b[43mworkbook\u001b[49m\u001b[38;5;241;43m.\u001b[39;49m\u001b[43msave\u001b[49m\u001b[43m(\u001b[49m\u001b[43mtextfile\u001b[49m\u001b[43m \u001b[49m\u001b[38;5;241;43m+\u001b[39;49m\u001b[43m \u001b[49m\u001b[38;5;124;43m'\u001b[39;49m\u001b[38;5;124;43m.xls\u001b[39;49m\u001b[38;5;124;43m'\u001b[39;49m\u001b[43m)\u001b[49m\n",
      "File \u001b[1;32m~\\AppData\\Roaming\\Python\\Python312\\site-packages\\xlwt\\Workbook.py:710\u001b[0m, in \u001b[0;36mWorkbook.save\u001b[1;34m(self, filename_or_stream)\u001b[0m\n\u001b[0;32m    707\u001b[0m \u001b[38;5;28;01mfrom\u001b[39;00m \u001b[38;5;21;01m.\u001b[39;00m \u001b[38;5;28;01mimport\u001b[39;00m CompoundDoc\n\u001b[0;32m    709\u001b[0m doc \u001b[38;5;241m=\u001b[39m CompoundDoc\u001b[38;5;241m.\u001b[39mXlsDoc()\n\u001b[1;32m--> 710\u001b[0m doc\u001b[38;5;241m.\u001b[39msave(filename_or_stream, \u001b[38;5;28;43mself\u001b[39;49m\u001b[38;5;241;43m.\u001b[39;49m\u001b[43mget_biff_data\u001b[49m\u001b[43m(\u001b[49m\u001b[43m)\u001b[49m)\n",
      "File \u001b[1;32m~\\AppData\\Roaming\\Python\\Python312\\site-packages\\xlwt\\Workbook.py:674\u001b[0m, in \u001b[0;36mWorkbook.get_biff_data\u001b[1;34m(self)\u001b[0m\n\u001b[0;32m    671\u001b[0m country            \u001b[38;5;241m=\u001b[39m \u001b[38;5;28mself\u001b[39m\u001b[38;5;241m.\u001b[39m__country_rec()\n\u001b[0;32m    672\u001b[0m all_links          \u001b[38;5;241m=\u001b[39m \u001b[38;5;28mself\u001b[39m\u001b[38;5;241m.\u001b[39m__all_links_rec()\n\u001b[1;32m--> 674\u001b[0m shared_str_table   \u001b[38;5;241m=\u001b[39m \u001b[38;5;28;43mself\u001b[39;49m\u001b[38;5;241;43m.\u001b[39;49m\u001b[43m__sst_rec\u001b[49m\u001b[43m(\u001b[49m\u001b[43m)\u001b[49m\n\u001b[0;32m    675\u001b[0m after \u001b[38;5;241m=\u001b[39m country \u001b[38;5;241m+\u001b[39m all_links \u001b[38;5;241m+\u001b[39m shared_str_table\n\u001b[0;32m    677\u001b[0m ext_sst \u001b[38;5;241m=\u001b[39m \u001b[38;5;28mself\u001b[39m\u001b[38;5;241m.\u001b[39m__ext_sst_rec(\u001b[38;5;241m0\u001b[39m) \u001b[38;5;66;03m# need fake cause we need calc stream pos\u001b[39;00m\n",
      "File \u001b[1;32m~\\AppData\\Roaming\\Python\\Python312\\site-packages\\xlwt\\Workbook.py:636\u001b[0m, in \u001b[0;36mWorkbook.__sst_rec\u001b[1;34m(self)\u001b[0m\n\u001b[0;32m    635\u001b[0m \u001b[38;5;28;01mdef\u001b[39;00m \u001b[38;5;21m__sst_rec\u001b[39m(\u001b[38;5;28mself\u001b[39m):\n\u001b[1;32m--> 636\u001b[0m     \u001b[38;5;28;01mreturn\u001b[39;00m \u001b[38;5;28;43mself\u001b[39;49m\u001b[38;5;241;43m.\u001b[39;49m\u001b[43m__sst\u001b[49m\u001b[38;5;241;43m.\u001b[39;49m\u001b[43mget_biff_record\u001b[49m\u001b[43m(\u001b[49m\u001b[43m)\u001b[49m\n",
      "File \u001b[1;32m~\\AppData\\Roaming\\Python\\Python312\\site-packages\\xlwt\\BIFFRecords.py:77\u001b[0m, in \u001b[0;36mSharedStringTable.get_biff_record\u001b[1;34m(self)\u001b[0m\n\u001b[0;32m     75\u001b[0m     s \u001b[38;5;241m=\u001b[39m \u001b[38;5;124mu\u001b[39m\u001b[38;5;124m'\u001b[39m\u001b[38;5;124m'\u001b[39m\n\u001b[0;32m     76\u001b[0m \u001b[38;5;28;01mif\u001b[39;00m \u001b[38;5;28misinstance\u001b[39m(s, basestring):\n\u001b[1;32m---> 77\u001b[0m     \u001b[38;5;28;43mself\u001b[39;49m\u001b[38;5;241;43m.\u001b[39;49m\u001b[43m_add_to_sst\u001b[49m\u001b[43m(\u001b[49m\u001b[43ms\u001b[49m\u001b[43m)\u001b[49m\n\u001b[0;32m     78\u001b[0m \u001b[38;5;28;01melse\u001b[39;00m:\n\u001b[0;32m     79\u001b[0m     \u001b[38;5;28mself\u001b[39m\u001b[38;5;241m.\u001b[39m_add_rt_to_sst(s)\n",
      "File \u001b[1;32m~\\AppData\\Roaming\\Python\\Python312\\site-packages\\xlwt\\BIFFRecords.py:92\u001b[0m, in \u001b[0;36mSharedStringTable._add_to_sst\u001b[1;34m(self, s)\u001b[0m\n\u001b[0;32m     91\u001b[0m \u001b[38;5;28;01mdef\u001b[39;00m \u001b[38;5;21m_add_to_sst\u001b[39m(\u001b[38;5;28mself\u001b[39m, s):\n\u001b[1;32m---> 92\u001b[0m     u_str \u001b[38;5;241m=\u001b[39m \u001b[43mupack2\u001b[49m\u001b[43m(\u001b[49m\u001b[43ms\u001b[49m\u001b[43m,\u001b[49m\u001b[43m \u001b[49m\u001b[38;5;28;43mself\u001b[39;49m\u001b[38;5;241;43m.\u001b[39;49m\u001b[43mencoding\u001b[49m\u001b[43m)\u001b[49m\n\u001b[0;32m     94\u001b[0m     is_unicode_str \u001b[38;5;241m=\u001b[39m u_str[\u001b[38;5;241m2\u001b[39m] \u001b[38;5;241m==\u001b[39m \u001b[38;5;124mb\u001b[39m\u001b[38;5;124m'\u001b[39m\u001b[38;5;130;01m\\x01\u001b[39;00m\u001b[38;5;124m'\u001b[39m[\u001b[38;5;241m0\u001b[39m]\n\u001b[0;32m     95\u001b[0m     \u001b[38;5;28;01mif\u001b[39;00m is_unicode_str:\n",
      "File \u001b[1;32m~\\AppData\\Roaming\\Python\\Python312\\site-packages\\xlwt\\UnicodeUtils.py:55\u001b[0m, in \u001b[0;36mupack2\u001b[1;34m(s, encoding)\u001b[0m\n\u001b[0;32m     53\u001b[0m len_us \u001b[38;5;241m=\u001b[39m \u001b[38;5;28mlen\u001b[39m(us)\n\u001b[0;32m     54\u001b[0m \u001b[38;5;28;01mif\u001b[39;00m len_us \u001b[38;5;241m>\u001b[39m \u001b[38;5;241m32767\u001b[39m:\n\u001b[1;32m---> 55\u001b[0m     \u001b[38;5;28;01mraise\u001b[39;00m \u001b[38;5;167;01mException\u001b[39;00m(\u001b[38;5;124m'\u001b[39m\u001b[38;5;124mString longer than 32767 characters\u001b[39m\u001b[38;5;124m'\u001b[39m)\n\u001b[0;32m     56\u001b[0m \u001b[38;5;28;01mtry\u001b[39;00m:\n\u001b[0;32m     57\u001b[0m     encs \u001b[38;5;241m=\u001b[39m us\u001b[38;5;241m.\u001b[39mencode(\u001b[38;5;124m'\u001b[39m\u001b[38;5;124mlatin1\u001b[39m\u001b[38;5;124m'\u001b[39m)\n",
      "\u001b[1;31mException\u001b[0m: String longer than 32767 characters"
     ]
    }
   ],
   "source": []
  },
  {
   "cell_type": "code",
   "execution_count": 7,
   "id": "43cb8766-933b-444f-a1da-7250589e0add",
   "metadata": {},
   "outputs": [
    {
     "name": "stdout",
     "output_type": "stream",
     "text": [
      "None\n",
      "[]\n"
     ]
    }
   ],
   "source": [
    "import xlwt\n",
    "import xlrd\n",
    "import csv\n",
    "import openpyxl\n",
    "import xlsxwriter\n",
    "\n",
    "\n",
    "current_folder = os.chdir(\"C:/Users/fc/Supreme_court_Of_Pakistan_judgments/\")\n",
    "print(current_folder)\n",
    "\n",
    "\n",
    "# In[8]:\n",
    "\n",
    "\n",
    "xls_list = glob.glob(os.path.join(\"C:/Users/fc/object_casedocs1/C1.txt.xls.csv\", \"*.xls\"))\n",
    "print(xls_list)"
   ]
  },
  {
   "cell_type": "code",
   "execution_count": null,
   "id": "30905f29-d3b2-421c-bc11-0d14f080c822",
   "metadata": {},
   "outputs": [],
   "source": []
  }
 ],
 "metadata": {
  "kernelspec": {
   "display_name": "Python 3 (ipykernel)",
   "language": "python",
   "name": "python3"
  },
  "language_info": {
   "codemirror_mode": {
    "name": "ipython",
    "version": 3
   },
   "file_extension": ".py",
   "mimetype": "text/x-python",
   "name": "python",
   "nbconvert_exporter": "python",
   "pygments_lexer": "ipython3",
   "version": "3.12.3"
  }
 },
 "nbformat": 4,
 "nbformat_minor": 5
}
